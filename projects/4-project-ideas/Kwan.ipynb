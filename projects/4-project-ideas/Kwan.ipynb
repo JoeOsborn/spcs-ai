{
 "cells": [
  {
   "cell_type": "markdown",
   "metadata": {},
   "source": [
    "Project proposal\n",
    "\n",
    "Group: Melissa Kwan (individual)\n",
    "Goal: To explore novelty search and compare its performance on mazes compared to MCTS\n",
    "\n",
    "Steps\n",
    "- Finish writing MCTS and testing it\n",
    "- Research novelty search (Long step)\n",
    "- Write pseudocode (Long step)\n",
    "- Code it based on researched steps (Long step)\n",
    "- Test novelty search's performance on different mazes\n",
    "- Compare results with MCTS\n",
    "- Come up with conclusion\n",
    "\n",
    "Testing\n",
    "- Data has already been provided (Mazes from assignment 3)\n",
    "\n",
    "Halfway there\n",
    "- MCTS finished and tested\n",
    "- Pseudocode for novelty search written\n",
    "- Basic outline for novelty search written"
   ]
  }
 ],
 "metadata": {
  "kernelspec": {
   "display_name": "Python [Root]",
   "language": "python",
   "name": "Python [Root]"
  },
  "language_info": {
   "codemirror_mode": {
    "name": "ipython",
    "version": 3
   },
   "file_extension": ".py",
   "mimetype": "text/x-python",
   "name": "python",
   "nbconvert_exporter": "python",
   "pygments_lexer": "ipython3",
   "version": "3.5.2"
  }
 },
 "nbformat": 4,
 "nbformat_minor": 0
}
