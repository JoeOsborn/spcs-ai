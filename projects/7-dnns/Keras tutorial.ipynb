{
 "cells": [
  {
   "cell_type": "code",
   "execution_count": 3,
   "metadata": {
    "collapsed": false
   },
   "outputs": [
    {
     "data": {
      "text/plain": [
       "(60000, 10000, 28, 28)"
      ]
     },
     "execution_count": 3,
     "metadata": {},
     "output_type": "execute_result"
    }
   ],
   "source": [
    "# pip install keras\n",
    "from keras.datasets import mnist\n",
    "(X_train, y_train), (X_test, y_test) = mnist.load_data()\n",
    "\n",
    "n_train, height, width = X_train.shape\n",
    "n_test, _, _ = X_test.shape\n",
    "\n",
    "n_train, n_test, height, width"
   ]
  },
  {
   "cell_type": "code",
   "execution_count": 4,
   "metadata": {
    "collapsed": false
   },
   "outputs": [
    {
     "data": {
      "text/plain": [
       "array([ 0.,  0.,  0.,  0.,  0.,  1.,  0.,  0.,  0.,  0.])"
      ]
     },
     "execution_count": 4,
     "metadata": {},
     "output_type": "execute_result"
    }
   ],
   "source": [
    "# turns a list of into a list of categories\n",
    "from keras.utils.np_utils import to_categorical \n",
    "\n",
    "# we have to preprocess the data into the right form\n",
    "X_train = X_train.reshape(n_train, 1, height, width).astype('float32')\n",
    "X_test = X_test.reshape(n_test, 1, height, width).astype('float32')\n",
    "# floating point numbers are more precise when closer to 0\n",
    "\n",
    "# normalize from [0, 255] to [0, 1]\n",
    "X_train /= 255\n",
    "X_test /= 255\n",
    "\n",
    "# numbers 0-9, so ten classes\n",
    "n_classes = 10\n",
    "\n",
    "y_train = to_categorical(y_train, n_classes)\n",
    "y_test = to_categorical(y_test, n_classes)\n",
    "\n",
    "y_train[0]"
   ]
  },
  {
   "cell_type": "code",
   "execution_count": 5,
   "metadata": {
    "collapsed": true
   },
   "outputs": [],
   "source": [
    "from keras.models import Sequential\n",
    "model = Sequential()\n",
    "\n",
    "# number of convolutional filters\n",
    "n_filters = 32\n",
    "\n",
    "# convolution filter size\n",
    "# i.e. we will use a n_conv x n_conv filter\n",
    "n_conv = 3\n",
    "\n",
    "# pooling window size\n",
    "# i.e. we will use a n_pool x n_pool pooling window\n",
    "n_pool = 2"
   ]
  },
  {
   "cell_type": "code",
   "execution_count": 6,
   "metadata": {
    "collapsed": true
   },
   "outputs": [],
   "source": [
    "from keras.layers import Activation\n",
    "from keras.layers.convolutional import Convolution2D, MaxPooling2D\n",
    "\n",
    "model.add(Convolution2D(\n",
    "        n_filters, n_conv, n_conv,\n",
    "\n",
    "        # apply the filter to only full parts of the image\n",
    "        # (i.e. do not \"spill over\" the border)\n",
    "        # this is called a narrow convolution\n",
    "        border_mode='valid',\n",
    "\n",
    "        # we have a 28x28 single channel (grayscale) image\n",
    "        # so the input shape should be (1, 28, 28)\n",
    "        input_shape=(1, height, width)\n",
    "))\n",
    "model.add(Activation('relu'))\n",
    "\n",
    "model.add(Convolution2D(n_filters, n_conv, n_conv))\n",
    "model.add(Activation('relu'))\n",
    "\n",
    "# then we apply pooling to summarize the features\n",
    "# extracted thus far\n",
    "model.add(MaxPooling2D(pool_size=(n_pool, n_pool))) \n",
    "# lowering resolution to find high level features"
   ]
  },
  {
   "cell_type": "code",
   "execution_count": 7,
   "metadata": {
    "collapsed": true
   },
   "outputs": [],
   "source": [
    "from keras.layers import Dropout, Flatten, Dense\n",
    "\n",
    "model.add(Dropout(0.25)) # ignore a quarter of the inputs\n",
    "\n",
    "# flatten the data for the 1D layers\n",
    "model.add(Flatten())\n",
    "\n",
    "# Dense(n_outputs)\n",
    "model.add(Dense(128))\n",
    "model.add(Activation('relu'))\n",
    "model.add(Dropout(0.5))\n",
    "\n",
    "# the softmax output layer gives us a probablity for each class\n",
    "model.add(Dense(n_classes))\n",
    "model.add(Activation('softmax')) # sigmoid function"
   ]
  },
  {
   "cell_type": "code",
   "execution_count": 9,
   "metadata": {
    "collapsed": false
   },
   "outputs": [],
   "source": [
    "model.compile(\n",
    "    loss='categorical_crossentropy',\n",
    "    optimizer='adam',\n",
    "    metrics=['accuracy'])"
   ]
  },
  {
   "cell_type": "code",
   "execution_count": 10,
   "metadata": {
    "collapsed": false
   },
   "outputs": [
    {
     "name": "stdout",
     "output_type": "stream",
     "text": [
      "Train on 60000 samples, validate on 10000 samples\n",
      "Epoch 1/10\n",
      "60000/60000 [==============================] - 400s - loss: 1.9263 - acc: 0.4001 - val_loss: 1.1222 - val_acc: 0.7821\n",
      "Epoch 2/10\n",
      "60000/60000 [==============================] - 396s - loss: 0.9964 - acc: 0.6906 - val_loss: 0.4900 - val_acc: 0.8599\n",
      "Epoch 3/10\n",
      "60000/60000 [==============================] - 383s - loss: 0.6130 - acc: 0.8065 - val_loss: 0.3719 - val_acc: 0.8956\n",
      "Epoch 4/10\n",
      "60000/60000 [==============================] - 393s - loss: 0.4744 - acc: 0.8555 - val_loss: 0.2905 - val_acc: 0.9142\n",
      "Epoch 5/10\n",
      "60000/60000 [==============================] - 324s - loss: 0.3953 - acc: 0.8784 - val_loss: 0.2415 - val_acc: 0.9290\n",
      "Epoch 6/10\n",
      "60000/60000 [==============================] - 324s - loss: 0.3375 - acc: 0.8983 - val_loss: 0.2060 - val_acc: 0.9389\n",
      "Epoch 7/10\n",
      "60000/60000 [==============================] - 399s - loss: 0.2938 - acc: 0.9117 - val_loss: 0.1747 - val_acc: 0.9475\n",
      "Epoch 8/10\n",
      "60000/60000 [==============================] - 349s - loss: 0.2559 - acc: 0.9234 - val_loss: 0.1506 - val_acc: 0.9550\n",
      "Epoch 9/10\n",
      "60000/60000 [==============================] - 386s - loss: 0.2275 - acc: 0.9326 - val_loss: 0.1312 - val_acc: 0.9608\n",
      "Epoch 10/10\n",
      "60000/60000 [==============================] - 389s - loss: 0.2009 - acc: 0.9400 - val_loss: 0.1132 - val_acc: 0.9649\n"
     ]
    },
    {
     "data": {
      "text/plain": [
       "<keras.callbacks.History at 0x10e625710>"
      ]
     },
     "execution_count": 10,
     "metadata": {},
     "output_type": "execute_result"
    }
   ],
   "source": [
    "# how many examples to look at during each training iteration\n",
    "batch_size = 10000\n",
    "\n",
    "# how many times to run through the full set of examples\n",
    "n_epochs = 10\n",
    "\n",
    "# the training may be slow depending on your computer\n",
    "model.fit(X_train, # n-dimensional array whose outer dimension is each example\n",
    "          y_train, # n-dimensional array of arrays of 0/1 values for categorical encoding\n",
    "          batch_size=batch_size,\n",
    "          nb_epoch=n_epochs,\n",
    "          validation_data=(X_test, y_test))"
   ]
  },
  {
   "cell_type": "code",
   "execution_count": 11,
   "metadata": {
    "collapsed": true
   },
   "outputs": [],
   "source": [
    "import matplotlib as plt;\n",
    "%matplotlib inline"
   ]
  },
  {
   "cell_type": "code",
   "execution_count": 12,
   "metadata": {
    "collapsed": false
   },
   "outputs": [
    {
     "name": "stdout",
     "output_type": "stream",
     "text": [
      "10000/10000 [==============================] - 11s    \n",
      "loss: 0.113181793923\n",
      "accuracy: 0.9649\n"
     ]
    }
   ],
   "source": [
    "# how'd we do?\n",
    "loss, accuracy = model.evaluate(X_test, y_test)\n",
    "print('loss:', loss)\n",
    "print('accuracy:', accuracy)"
   ]
  },
  {
   "cell_type": "code",
   "execution_count": 13,
   "metadata": {
    "collapsed": false
   },
   "outputs": [
    {
     "data": {
      "text/plain": [
       "[3, 2]"
      ]
     },
     "execution_count": 13,
     "metadata": {},
     "output_type": "execute_result"
    }
   ],
   "source": [
    "import random\n",
    "random.sample(set([1, 2, 3, 4, 5, 6]), 2)"
   ]
  },
  {
   "cell_type": "code",
   "execution_count": 15,
   "metadata": {
    "collapsed": false
   },
   "outputs": [],
   "source": [
    "a = set([1,2,3,4,5])"
   ]
  },
  {
   "cell_type": "code",
   "execution_count": 16,
   "metadata": {
    "collapsed": false
   },
   "outputs": [
    {
     "data": {
      "text/plain": [
       "[5, 4, 1]"
      ]
     },
     "execution_count": 16,
     "metadata": {},
     "output_type": "execute_result"
    }
   ],
   "source": [
    "random.sample(a, 3)"
   ]
  },
  {
   "cell_type": "code",
   "execution_count": 17,
   "metadata": {
    "collapsed": false
   },
   "outputs": [
    {
     "data": {
      "text/plain": [
       "[1, 2, 3, 4, 5]"
      ]
     },
     "execution_count": 17,
     "metadata": {},
     "output_type": "execute_result"
    }
   ],
   "source": [
    "list(a)"
   ]
  },
  {
   "cell_type": "code",
   "execution_count": 26,
   "metadata": {
    "collapsed": false
   },
   "outputs": [
    {
     "name": "stdout",
     "output_type": "stream",
     "text": [
      "{'b', 'a', 'c'}\n",
      "{'c', 'a', 'w', 'b', 'x', 'z'}\n"
     ]
    }
   ],
   "source": [
    "d = {\"a\": \"apple\", \"b\": \"banana\", \"c\": \"cuttlefish\"}\n",
    "s = set(d)\n",
    "print(s)\n",
    "s1 = {\"z\", \"w\", \"x\"}\n",
    "s2 = s | s1 | {\"z\"}\n",
    "print(s2)"
   ]
  },
  {
   "cell_type": "code",
   "execution_count": null,
   "metadata": {
    "collapsed": true
   },
   "outputs": [],
   "source": []
  }
 ],
 "metadata": {
  "anaconda-cloud": {},
  "kernelspec": {
   "display_name": "Python [Root]",
   "language": "python",
   "name": "Python [Root]"
  },
  "language_info": {
   "codemirror_mode": {
    "name": "ipython",
    "version": 3
   },
   "file_extension": ".py",
   "mimetype": "text/x-python",
   "name": "python",
   "nbconvert_exporter": "python",
   "pygments_lexer": "ipython3",
   "version": "3.5.2"
  }
 },
 "nbformat": 4,
 "nbformat_minor": 0
}
