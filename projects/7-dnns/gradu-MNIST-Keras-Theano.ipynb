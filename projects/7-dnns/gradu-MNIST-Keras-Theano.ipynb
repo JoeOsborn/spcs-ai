{
 "cells": [
  {
   "cell_type": "code",
   "execution_count": null,
   "metadata": {
    "collapsed": true
   },
   "outputs": [],
   "source": [
    "import numpy\n",
    "from keras.datasets import mnist\n",
    "from keras.models import Sequential\n",
    "from keras.layers import Dense\n",
    "from keras.layers import Dropout\n",
    "from keras.layers import Flatten\n",
    "from keras.layers.convolutional import Convolution2D\n",
    "from keras.layers.convolutional import MaxPooling2D\n",
    "from keras.utils import np_utils\n",
    " \n",
    "seed = 7\n",
    "numpy.random.seed(seed)\n",
    " \n",
    "(X_train, y_train), (X_test, y_test) = mnist.load_data()\n",
    "X_train = X_train.reshape(X_train.shape[0], 1, 28, 28).astype('float32')\n",
    "X_test = X_test.reshape(X_test.shape[0], 1, 28, 28).astype('float32')\n",
    " \n",
    "X_train = X_train / 255\n",
    "X_test = X_test / 255\n",
    "y_train = np_utils.to_categorical(y_train)\n",
    "y_test = np_utils.to_categorical(y_test)\n",
    "num_classes = y_test.shape[1]\n",
    "\n",
    "def larger_model():\n",
    "    model = Sequential()\n",
    "    model.add(Convolution2D(30, 5, 5, border_mode='valid', input_shape=(1, 28, 28), activation='relu'))\n",
    "    model.add(MaxPooling2D(pool_size=(2, 2)))\n",
    "    model.add(Convolution2D(15, 3, 3, activation='relu'))\n",
    "    model.add(MaxPooling2D(pool_size=(2, 2)))\n",
    "    model.add(Dropout(0.2))\n",
    "    model.add(Flatten())\n",
    "    model.add(Dense(128, activation='relu'))\n",
    "    model.add(Dense(50, activation='relu'))\n",
    "    model.add(Dense(num_classes, activation='softmax'))\n",
    "    model.compile(loss='categorical_crossentropy', optimizer='adam', metrics=['accuracy'])\n",
    "    return model\n",
    "\n",
    "model = larger_model()\n",
    "model.fit(X_train, y_train, validation_data=(X_test, y_test), nb_epoch=10, batch_size=200, verbose=2)\n",
    "\n",
    "scores = model.evaluate(X_test, y_test, verbose=0)\n",
    "print(\"Baseline Error: %.2f%%\" % (100-scores[1]*100))"
   ]
  },
  {
   "cell_type": "markdown",
   "metadata": {},
   "source": [
    "Epoch 1/10 210s - loss: 0.3787 - acc: 0.8790 - val_loss: 0.0815 - val_acc: 0.9738 \n",
    "Epoch 2/10 212s - loss: 0.0929 - acc: 0.9709 - val_loss: 0.0466 - val_acc: 0.9847 \n",
    "Epoch 3/10 344s - loss: 0.0677 - acc: 0.9789 - val_loss: 0.0364 - val_acc: 0.9873 \n",
    "Epoch 4/10 365s - loss: 0.0541 - acc: 0.9828 - val_loss: 0.0344 - val_acc: 0.9883 \n",
    "Epoch 5/10 377s - loss: 0.0462 - acc: 0.9856 - val_loss: 0.0299 - val_acc: 0.9893 \n",
    "Epoch 6/10 383s - loss: 0.0394 - acc: 0.9875 - val_loss: 0.0298 - val_acc: 0.9897 \n",
    "Epoch 7/10 381s - loss: 0.0370 - acc: 0.9880 - val_loss: 0.0246 - val_acc: 0.9916 \n",
    "Epoch 8/10 366s - loss: 0.0327 - acc: 0.9894 - val_loss: 0.0286 - val_acc: 0.9896 \n",
    "Epoch 9/10 576s - loss: 0.0310 - acc: 0.9902 - val_loss: 0.0233 - val_acc: 0.9918 \n",
    "Epoch 10/10 401s - loss: 0.0275 - acc: 0.9912 - val_loss: 0.0247 - val_acc: 0.9912\n",
    "\n",
    "Final evaluation of the model\n",
    "Baseline Error: 0.88%\n",
    "\n"
   ]
  }
 ],
 "metadata": {
  "kernelspec": {
   "display_name": "Python 3",
   "language": "python",
   "name": "python3"
  },
  "language_info": {
   "codemirror_mode": {
    "name": "ipython",
    "version": 3
   },
   "file_extension": ".py",
   "mimetype": "text/x-python",
   "name": "python",
   "nbconvert_exporter": "python",
   "pygments_lexer": "ipython3",
   "version": "3.4.3"
  }
 },
 "nbformat": 4,
 "nbformat_minor": 0
}
