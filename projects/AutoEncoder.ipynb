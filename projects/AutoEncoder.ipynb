{
 "cells": [
  {
   "cell_type": "code",
   "execution_count": 12,
   "metadata": {
    "collapsed": false
   },
   "outputs": [],
   "source": [
    "\n",
    "from sklearn.base import BaseEstimator\n",
    "import numpy\n",
    "\n",
    "import theano\n",
    "import theano.tensor as T\n",
    "from theano.tensor.shared_randomstreams import RandomStreams\n",
    "\n",
    "\n",
    "class DenoisingAutoencoder(BaseEstimator):\n",
    "    def __init__(self, n_hidden, learning_rate = 0.1, training_epochs = 20, corruption_level = 0.3, batch_size = 20, verbose=False):\n",
    "        self.n_visible = None\n",
    "        self.n_hidden = n_hidden\n",
    "        self.learning_rate = learning_rate\n",
    "        self.corruption_level = corruption_level\n",
    "        self.training_epochs = training_epochs\n",
    "        self.batch_size = batch_size\n",
    "        self.verbose = verbose\n",
    "\n",
    "        self.da = None\n",
    "        self.x = T.matrix('x')\n",
    "\n",
    "    def load_data(self,X):\n",
    "        try:\n",
    "            matrix = X.as_matrix()\n",
    "        except AttributeError:\n",
    "            matrix = X\n",
    "        shared_x = theano.shared(numpy.asarray(matrix, dtype=theano.config.floatX), borrow=True)\n",
    "        return shared_x\n",
    "        \n",
    "    def fit(self,X):\n",
    "        self.n_visible = X.shape[1]\n",
    "\n",
    "        train_set_x = self.load_data(X)\n",
    "\n",
    "        # compute number of minibatches for training, validation and testing\n",
    "        n_train_batches = train_set_x.get_value(borrow=True).shape[0] / self.batch_size\n",
    "\n",
    "        # allocate symbolic variables for the data\n",
    "        index = T.lscalar()    # index to a [mini]batch\n",
    "\n",
    "        rng = numpy.random.RandomState(123)\n",
    "        theano_rng = RandomStreams(rng.randint(2 ** 30))\n",
    "\n",
    "        self.da = dA(\n",
    "            numpy_rng=rng,\n",
    "            theano_rng=theano_rng,\n",
    "            input=self.x,\n",
    "            n_visible=self.n_visible,\n",
    "            n_hidden=self.n_hidden\n",
    "        )\n",
    "\n",
    "        cost, updates = self.da.get_cost_updates(\n",
    "            corruption_level=self.corruption_level,\n",
    "            learning_rate=self.learning_rate\n",
    "        )\n",
    "\n",
    "        train_da = theano.function(\n",
    "            [index],\n",
    "            cost,\n",
    "            updates=updates,\n",
    "            givens={\n",
    "                self.x: train_set_x[index * self.batch_size: (index + 1) * self.batch_size]\n",
    "            }\n",
    "        )\n",
    "\n",
    "        # training...\n",
    "        for epoch in xrange(self.training_epochs):\n",
    "            c = []\n",
    "            for batch_index in xrange(n_train_batches):\n",
    "                c.append(train_da(batch_index))\n",
    "\n",
    "            if self.verbose:\n",
    "                print ('Training epoch %d, cost ' % epoch, numpy.mean(c))\n",
    "\n",
    "\n",
    "    def transform(self,X):\n",
    "        z = self.da.get_prediction()\n",
    "        predict_da = theano.function([self.x],z)\n",
    "        return predict_da(X)\n",
    "\n",
    "    def transform_latent_representation(self,X):\n",
    "        h = self.da.get_latent_representation()\n",
    "        predict_da = theano.function([self.x],h)\n",
    "        return predict_da(X)\n",
    "\n"
   ]
  },
  {
   "cell_type": "code",
   "execution_count": null,
   "metadata": {
    "collapsed": true
   },
   "outputs": [],
   "source": []
  },
  {
   "cell_type": "code",
   "execution_count": null,
   "metadata": {
    "collapsed": true
   },
   "outputs": [],
   "source": []
  },
  {
   "cell_type": "code",
   "execution_count": null,
   "metadata": {
    "collapsed": true
   },
   "outputs": [],
   "source": []
  },
  {
   "cell_type": "code",
   "execution_count": null,
   "metadata": {
    "collapsed": true
   },
   "outputs": [],
   "source": []
  }
 ],
 "metadata": {
  "anaconda-cloud": {},
  "kernelspec": {
   "display_name": "Python [Root]",
   "language": "python",
   "name": "Python [Root]"
  },
  "language_info": {
   "codemirror_mode": {
    "name": "ipython",
    "version": 3
   },
   "file_extension": ".py",
   "mimetype": "text/x-python",
   "name": "python",
   "nbconvert_exporter": "python",
   "pygments_lexer": "ipython3",
   "version": "3.5.2"
  }
 },
 "nbformat": 4,
 "nbformat_minor": 0
}
