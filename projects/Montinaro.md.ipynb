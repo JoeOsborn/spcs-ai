{
 "cells": [
  {
   "cell_type": "markdown",
   "metadata": {},
   "source": [
    "Shakey was a robot created at the Stanford Research Institute in 1966 and developed through 1972. Shakey's main purpose was to navigate through a room with obstacles and perform simple tasks such as moving objects. However, the purpose of its development was to expand the capabilities of robot planning in an environment for more complex uses such as space exploration. The robot was equipped with television cameras, bump sensors, and range finders which it would use to gather information about its surroundings. That information would be processed, leading to Shakey planning its routes according to what it saw. A radio on top allows Shakey to communicate with a computer for instructions or feedback. By putting together some of its low level action capabilities, Shakey was able to accomplish more complex tasks inputted by a user. One of Shakey's more complex actions was \"GOTO\". This action calls for Shakey to observe its surroundings, plan a route, and execute its movements. If there is an obstacle between it and the goal, it creates \"subgoals\" around said obstacle for a safer path. Shakey measures its location using wheel revolutions, but when more precise location is required, it can take pictures and reorient itself. In order to combine its intermediate tasks, Shakey uses an AI system called STRIPS that analyzes each action with several expected results to create the best possible course of action. User inputted tasks are given in plain English that the robot is able to understand and convert into commands. Some of the more complex actions include moving through multiple doorways to move a box to block a doorway. After formulating a plan, the robot uses its less complicated algorithms to act out the desired task."
   ]
  }
 ],
 "metadata": {
  "kernelspec": {
   "display_name": "Python [Root]",
   "language": "python",
   "name": "Python [Root]"
  },
  "language_info": {
   "codemirror_mode": {
    "name": "ipython",
    "version": 3
   },
   "file_extension": ".py",
   "mimetype": "text/x-python",
   "name": "python",
   "nbconvert_exporter": "python",
   "pygments_lexer": "ipython3",
   "version": "3.5.2"
  }
 },
 "nbformat": 4,
 "nbformat_minor": 0
}
