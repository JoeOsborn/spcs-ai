{
 "cells": [
  {
   "cell_type": "markdown",
   "metadata": {},
   "source": [
    "Hi, I am Valerio Galanti and I live in Germany. So Far I have had experience programming in C, C++, Python, Java (and a bit in Swift). Until recently, I have only had limited occasions to implement 'AI' in my code, mostly just small recursive algorithms to play certain board games like for example Tic Tac Toe. Then, about a few weeks ago, I learned how one can utilise neural networks for an otherwise complicated task, image recognition. I particularly enjoyed the mathematics behind the scenes (partial derivatives and calculus in general, gradient descent, backpropagation...) and the techniques developped to improve the performances of such networks (different types of neurons, regularization, convolutional neural nets...). I hope to gain more understanding and a deeper insight into the vast topic of Artificial Intelligence, its applications, as well as how it will affect our lives in the future (and how it already does now)."
   ]
  },
  {
   "cell_type": "code",
   "execution_count": null,
   "metadata": {
    "collapsed": true
   },
   "outputs": [],
   "source": [
    "print('Valerio Galanti')"
   ]
  }
 ],
 "metadata": {
  "kernelspec": {
   "display_name": "Python [Root]",
   "language": "python",
   "name": "Python [Root]"
  },
  "language_info": {
   "codemirror_mode": {
    "name": "ipython",
    "version": 3
   },
   "file_extension": ".py",
   "mimetype": "text/x-python",
   "name": "python",
   "nbconvert_exporter": "python",
   "pygments_lexer": "ipython3",
   "version": "3.5.2"
  }
 },
 "nbformat": 4,
 "nbformat_minor": 0
}
