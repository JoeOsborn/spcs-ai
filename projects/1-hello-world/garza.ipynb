{
 "cells": [
  {
   "cell_type": "markdown",
   "metadata": {},
   "source": [
    "# Eugenio Garza (Eugene) <----- Me\n",
    "\n",
    "## Background in programming: \n",
    "\n",
    " None to speak of but I have a great interest in all things computers.\n",
    "\n",
    "## Background in AI\n",
    "\n",
    "I have read up on some amazing projects including [AlphaGo](https://deepmind.com/alpha-go) but I have no practical experience.\n",
    "\n",
    "## Hopes for the course\n",
    "\n",
    "I hope to learn a lot, meet new people, and have fun.\n",
    "\n",
    "## Hobbies \n",
    "\n",
    "* Football (Soccer) \n",
    "* Golf \n",
    "* Sleeping\n"
   ]
  },
  {
   "cell_type": "code",
   "execution_count": 1,
   "metadata": {
    "collapsed": false
   },
   "outputs": [
    {
     "name": "stdout",
     "output_type": "stream",
     "text": [
      "Hello World\n"
     ]
    }
   ],
   "source": [
    "print(\"Hello World\")"
   ]
  }
 ],
 "metadata": {
  "anaconda-cloud": {},
  "kernelspec": {
   "display_name": "Python 3",
   "language": "python",
   "name": "python3"
  },
  "language_info": {
   "codemirror_mode": {
    "name": "ipython",
    "version": 3
   },
   "file_extension": ".py",
   "mimetype": "text/x-python",
   "name": "python",
   "nbconvert_exporter": "python",
   "pygments_lexer": "ipython3",
   "version": "3.5.2"
  }
 },
 "nbformat": 4,
 "nbformat_minor": 0
}
