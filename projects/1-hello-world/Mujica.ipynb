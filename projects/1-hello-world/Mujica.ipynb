{
 "cells": [
  {
   "cell_type": "markdown",
   "metadata": {},
   "source": [
    "I started programming in an Intro to Programming class at my high school that tought me object-oriented programming with Java. The next year I took the AP Computer Science class at my high school (also in java) and one of the projects involved coming up with predicted ratings of certain movies by certain imdb users after feeding a bajillion ratings through your program and at the end of the project our algorithm was tested to see who's was the most accurate. This project was one of my favorites and I realize now it used some basic machine learning. The next summer I messed around with C++ and toyed with some different AI's that could play rock paper scissors. It was a cool experience because my adapting AI would learn to beat other AI's that chose randomly but favored a specific choice. This past school year I was out of computer science classes at my high school so I took some C++ classes at the local community college. This summer I have been teaching myself Android app development and I have been looking forward to this program."
   ]
  },
  {
   "cell_type": "code",
   "execution_count": 2,
   "metadata": {
    "collapsed": false
   },
   "outputs": [
    {
     "name": "stdout",
     "output_type": "stream",
     "text": [
      "Hello World! -Luke Mujica\n"
     ]
    }
   ],
   "source": [
    "print('Hello World! -Luke Mujica')"
   ]
  },
  {
   "cell_type": "code",
   "execution_count": null,
   "metadata": {
    "collapsed": true
   },
   "outputs": [],
   "source": []
  }
 ],
 "metadata": {
  "anaconda-cloud": {},
  "kernelspec": {
   "display_name": "Python [Root]",
   "language": "python",
   "name": "Python [Root]"
  },
  "language_info": {
   "codemirror_mode": {
    "name": "ipython",
    "version": 3
   },
   "file_extension": ".py",
   "mimetype": "text/x-python",
   "name": "python",
   "nbconvert_exporter": "python",
   "pygments_lexer": "ipython3",
   "version": "3.5.2"
  }
 },
 "nbformat": 4,
 "nbformat_minor": 0
}
