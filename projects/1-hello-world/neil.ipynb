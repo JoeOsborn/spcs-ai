{
 "cells": [
  {
   "cell_type": "markdown",
   "metadata": {
    "collapsed": true
   },
   "source": [
    "# Introduction\n",
    "Hello, my name is Neil. \n",
    "## Background In Programming and AI\n",
    "I've been into programming for a about 6-7 years now. I started off with copying tutorials line by line. I don't know which language or what I made exactly, I just recall following Youtube tutorials for hours. Then I moved onto Java, making plugins for a game (Minecraft). I slowly became more proficient with it, and eventually took AP Computer Science and got a 5. I learned a lot by trying (and usually failing) in attempting to make projects/networks with friends, and intend to be a programmer in the future as a career choice.\n",
    "\n",
    "As for AI, I got interested in it over the summer last year, and chose it for my Math Research. I explored the very basics of ML, creating a linear regression using gradient descent (simple, but at least it's simple enough for me to verify). I made it such that I could easily expand it later into multiple dimensions. I also created a basic genetic algorithm in Java, and have played with some Python libraries to make a basic neural network. \n",
    "\n",
    "\n",
    "## What I Hope to Gain From This Course\n",
    "I hope to become more familiar with using the various tools in ML/AI, rather than implementing them by hand. I did that for my research, and it was not fun (especially with it only accomplishing something as simple as linreg).\n",
    "\n",
    "I also hope to gain some inspiration for my next year research project, which is going to be ML/AI applied to some field of science. I currently am looking for an idea which is novel and will be genuinely interesting to look into.\n",
    "\n",
    "\n",
    "## Favorite Hobbies Outside of Programming (and computing)\n",
    "I like playing videogames. A lot. I have over 1000 hours in Counter Strike: Global Offensive, and recently started playing Overwatch.\n",
    "\n",
    "Outside of computers completely, I enjoy badminton and watching movies with friends. "
   ]
  },
  {
   "cell_type": "code",
   "execution_count": 2,
   "metadata": {
    "collapsed": false
   },
   "outputs": [
    {
     "name": "stdout",
     "output_type": "stream",
     "text": [
      "True\n"
     ]
    }
   ],
   "source": [
    "print(1==1)"
   ]
  },
  {
   "cell_type": "code",
   "execution_count": null,
   "metadata": {
    "collapsed": true
   },
   "outputs": [],
   "source": []
  }
 ],
 "metadata": {
  "kernelspec": {
   "display_name": "Python 3",
   "language": "python",
   "name": "python3"
  },
  "language_info": {
   "codemirror_mode": {
    "name": "ipython",
    "version": 3
   },
   "file_extension": ".py",
   "mimetype": "text/x-python",
   "name": "python",
   "nbconvert_exporter": "python",
   "pygments_lexer": "ipython3",
   "version": "3.5.2"
  }
 },
 "nbformat": 4,
 "nbformat_minor": 0
}
