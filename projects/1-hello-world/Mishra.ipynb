{
 "cells": [
  {
   "cell_type": "markdown",
   "metadata": {},
   "source": [
    "Hello! My name's Katie and I live in Menlo Park, quite close to Stanford. I started programming in freshman year (I'll be a junior next year). Since then, I have completed Stanford's CS106A (equivalent of AP CS in Java) and CS106B (C++ Algorithms + Data Structures). I've also completed MakeSchool's Swift course to make apps and Coursera's Machine Learning course from Stanford. I lead the Java programming club at my school as well as the more general CS club. I'm also the lead programmer of my FIRST Robotics team where I lead the programming of industrial size robots and develop vision systems for a global competition. I also volunteer a lot at the Boys and Girls Club for their CS classes. This summer I'm developing CS curriculum for their middle and high school programs to be used throughout the bay area. This Spring, I created an iOS app to aid teen stress and was a global semi-finalist in the all-girls Technovation competition. Aside from CS, I've published two books (and will publish the third in August!) :) From this course, I hope to learn how to implement diverse algorithms to apply in my individual machine learning work with robotics and other projects. AI has always been the most interesting topic in CS for me, so I'm very interested in everything about it - from ethics to algorithms to history and more! "
   ]
  },
  {
   "cell_type": "code",
   "execution_count": null,
   "metadata": {
    "collapsed": true
   },
   "outputs": [],
   "source": [
    "print(Katie Mishra)"
   ]
  }
 ],
 "metadata": {
  "anaconda-cloud": {},
  "kernelspec": {
   "display_name": "Python [Root]",
   "language": "python",
   "name": "Python [Root]"
  },
  "language_info": {
   "codemirror_mode": {
    "name": "ipython",
    "version": 3
   },
   "file_extension": ".py",
   "mimetype": "text/x-python",
   "name": "python",
   "nbconvert_exporter": "python",
   "pygments_lexer": "ipython3",
   "version": "3.5.2"
  }
 },
 "nbformat": 4,
 "nbformat_minor": 0
}
