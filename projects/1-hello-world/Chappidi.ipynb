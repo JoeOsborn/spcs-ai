{
 "cells": [
  {
   "cell_type": "markdown",
   "metadata": {},
   "source": [
    "Hi, My name is Medha Chappidi and I am a rising senior in Klein Oak Highschool which is located in a suburb of Houston, TX known as Spring. After a two years of AP CS I was in CS SL in the IB program where we got to build a database for a project and also our own websites (which is where I first used github). After this I got to attend an all girls computer science camp at the University of Texas called First Bytes where I was first introduced to AI. I got to see the robots the robocup team used and they showed us a bit of what they were working on. This led to my growing interest in AI, and I started reading about Twitter Bots and wanted to make one myself. I also wanted to write my EE which is an extended essay ( a year long research paper that is mandatory for IB) on a specific AI topic, and I really hope this course can help me specify what topic to do this and I can hopefully find out a more specific branch of AI I am interested in. Programming and generally anything coding relating has always come across as daunting to me and I just want more experience and knowledge in this area. Outside of anything computer related I love learning to juggle, biking, and rock climbing. I'm also working on starting a non profit with my friend to provide education to children  in Mexico and India. "
   ]
  },
  {
   "cell_type": "code",
   "execution_count": null,
   "metadata": {
    "collapsed": true
   },
   "outputs": [],
   "source": [
    "print('Medha Chappidi')"
   ]
  }
 ],
 "metadata": {
  "anaconda-cloud": {},
  "kernelspec": {
   "display_name": "Python [Root]",
   "language": "python",
   "name": "Python [Root]"
  },
  "language_info": {
   "codemirror_mode": {
    "name": "ipython",
    "version": 3
   },
   "file_extension": ".py",
   "mimetype": "text/x-python",
   "name": "python",
   "nbconvert_exporter": "python",
   "pygments_lexer": "ipython3",
   "version": "3.5.2"
  }
 },
 "nbformat": 4,
 "nbformat_minor": 0
}
