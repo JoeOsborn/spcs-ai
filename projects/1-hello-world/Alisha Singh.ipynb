{
 "cells": [
  {
   "cell_type": "markdown",
   "metadata": {},
   "source": [
    "Hi Joe! My name is Alisha. I am a new programmer, having just taken my first Java course this past school year. I highly enjoyed the Java class (my favorite activity was our final project, in which my team programmed a SimonSays game) and plan to take AP Computer Science this coming year. With respect to artificial intelligence, I am also relatively new. This Stanford Summer Institute will be my first experience with studying the field, and I am excited to about the potential of AI.\n",
    "\n",
    "Through completing the Artificial Intelligence course, I hope to gain an introductory understanding of Artificial Intelligence that can serve as a base for any future courses or study of the field, as well as to gain an insight as to how Artificial Intelligence may redefine the future.\n",
    "\n",
    "About Me :)\n",
    "My hobbies throughout my academic career have been many (I love to try new things!), so for the sake of time and for your stamina I won't  list them all. Currently, however, one of my favorite activities is long distance running. This past school year, I ran cross country. I also train on my own, and have run 2 half-marathons and am set to run another one at the end of this program! Soon, I want to race a full marathon. I am currently still working towards that goal (the most I have run so far is 16 miles).\n",
    "Besides running, one hobby that has been a constant love for me is music. I have studied classical guitar since the age of 5, and the voice since 1st or 2nd grade. I sing with the Cantabile Youth Singers of Silicon Valley and have toured to Canada, Italy, New York, Ireland, and France to perform at the Vatican, Carnegie Hall, Notre Damme, and other venues. \n",
    "\n",
    "I look forward to getting to know you as an instructor and learning more about AI!"
   ]
  },
  {
   "cell_type": "code",
   "execution_count": null,
   "metadata": {
    "collapsed": true
   },
   "outputs": [],
   "source": [
    "print(\"Alisha Singh\")"
   ]
  }
 ],
 "metadata": {
  "anaconda-cloud": {},
  "kernelspec": {
   "display_name": "Python [Root]",
   "language": "python",
   "name": "Python [Root]"
  },
  "language_info": {
   "codemirror_mode": {
    "name": "ipython",
    "version": 3
   },
   "file_extension": ".py",
   "mimetype": "text/x-python",
   "name": "python",
   "nbconvert_exporter": "python",
   "pygments_lexer": "ipython3",
   "version": "3.5.2"
  }
 },
 "nbformat": 4,
 "nbformat_minor": 0
}
