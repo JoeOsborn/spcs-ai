{
 "cells": [
  {
   "cell_type": "markdown",
   "metadata": {},
   "source": [
    "I'm Hector and I'm 16. I was born and raised in Tenerife, a Spanish island right beside Africa. I love drawing, playing the piano, maths and getting to know new stuff. In my spare time I like keeping my websites updated and working on my AppInventor apps. \n",
    "I haven't really done much with plain code but I have already deployed several apps made with AppInventor on Google Play. Using this platform, I've built, over the course of three years, a simple virtual assistant that runs on Android called Cal. It's only in Spanish :/. With its language recognision algorythm, Cal is able to recognise and respond to several queries. In addition to this, Cal is connected to Google, using their knowledge graph to reply with facts, Wikipedia, YouTube and the Android Phone Dialer and Settings apps.\n",
    "\n",
    "Snapchat has this function called geofilters, with which users can overlay special designs for the place they're in. I've designed over 10 geofilters for my home island, being the first one to make them there. \n",
    "\n",
    "I am really looking forward to this course and I can't wait to learn about AI and computing in general! "
   ]
  },
  {
   "cell_type": "code",
   "execution_count": null,
   "metadata": {
    "collapsed": true
   },
   "outputs": [],
   "source": [
    "print(Hey, it's Hector!)"
   ]
  }
 ],
 "metadata": {
  "anaconda-cloud": {},
  "kernelspec": {
   "display_name": "Python [Root]",
   "language": "python",
   "name": "Python [Root]"
  },
  "language_info": {
   "codemirror_mode": {
    "name": "ipython",
    "version": 2
   },
   "file_extension": ".py",
   "mimetype": "text/x-python",
   "name": "python",
   "nbconvert_exporter": "python",
   "pygments_lexer": "ipython2",
   "version": "2.7.12"
  }
 },
 "nbformat": 4,
 "nbformat_minor": 0
}
