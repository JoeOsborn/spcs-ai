{
 "cells": [
  {
   "cell_type": "markdown",
   "metadata": {},
   "source": [
    "My name is Ava Crnkovic-Rubsamen. I've taken computer science classes for the past two years, and I've been doing robotics since the beginning of middle school. I have never taken a class that was explicitly Artificial Intelligence, but I'm really interested in learning more about it. From this course, I hope to learn more about AI and figure out if it is something I am interested in and enjoy doing. Some of my other hobbies are debate, swimming, and ceramics, although I enjoy doing many different things."
   ]
  },
  {
   "cell_type": "code",
   "execution_count": 1,
   "metadata": {
    "collapsed": false
   },
   "outputs": [
    {
     "name": "stdout",
     "output_type": "stream",
     "text": [
      "Ava Crnkovic-Rubsamen\n"
     ]
    }
   ],
   "source": [
    "print(\"Ava Crnkovic-Rubsamen\")"
   ]
  },
  {
   "cell_type": "code",
   "execution_count": null,
   "metadata": {
    "collapsed": true
   },
   "outputs": [],
   "source": []
  }
 ],
 "metadata": {
  "kernelspec": {
   "display_name": "Python [Root]",
   "language": "python",
   "name": "Python [Root]"
  },
  "language_info": {
   "codemirror_mode": {
    "name": "ipython",
    "version": 3
   },
   "file_extension": ".py",
   "mimetype": "text/x-python",
   "name": "python",
   "nbconvert_exporter": "python",
   "pygments_lexer": "ipython3",
   "version": "3.5.2"
  }
 },
 "nbformat": 4,
 "nbformat_minor": 0
}
