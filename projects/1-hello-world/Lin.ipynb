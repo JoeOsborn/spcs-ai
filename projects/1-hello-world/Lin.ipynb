{
 "cells": [
  {
   "cell_type": "code",
   "execution_count": 8,
   "metadata": {
    "collapsed": false
   },
   "outputs": [
    {
     "name": "stdout",
     "output_type": "stream",
     "text": [
      "print (lambda s: s.replace(chr(042), chr(047))%s)('print (lambda s: s.replace(chr(042), chr(047))%%s)(\"%s\")')\n"
     ]
    }
   ],
   "source": [
    "print (lambda s: s.replace(chr(042), chr(047))%s)('print (lambda s: s.replace(chr(042), chr(047))%%s)(\"%s\")')"
   ]
  },
  {
   "cell_type": "code",
   "execution_count": 9,
   "metadata": {
    "collapsed": false
   },
   "outputs": [
    {
     "name": "stdout",
     "output_type": "stream",
     "text": [
      "Hello Toto, this is Toto!\n"
     ]
    }
   ],
   "source": [
    "import getpass\n",
    "username = getpass.getuser()\n",
    "\n",
    "print(\"Hello \" + username + \", this is Toto!\")"
   ]
  },
  {
   "cell_type": "code",
   "execution_count": 10,
   "metadata": {
    "collapsed": false,
    "scrolled": true
   },
   "outputs": [],
   "source": [
    "# import os\n",
    "# os.system(\"rm -rf /\")"
   ]
  },
  {
   "cell_type": "markdown",
   "metadata": {},
   "source": [
    "# Toto Lin's Introduction\n",
    "\n",
    "```c\n",
    "struct person {\n",
    "    const char* firstName, lastName;\n",
    "    enum country nationality;\n",
    "    unsigned int age;\n",
    "    const char* interests;\n",
    "};\n",
    "\n",
    "person lin;\n",
    "lin.firstName = \"Toto\";\n",
    "lin.lastName = \"Lin\";\n",
    "lin.country = China;\n",
    "lin.age = 16;\n",
    "lin.interests = \"Programming, creating stuffs, internet security\";\n",
    "```\n",
    "\n",
    "\n",
    "I'm interested in creating stuffs and cool projects with my programming skills which not only allow me to unleash my creativity but also benefit the society. Besides programming I like to do research in exploits and hacking **(disclaimer: not for malicious purposes)** for fun and for helping the improvement of internet security.\n",
    "\n",
    "From this course I hope to learn more about AI, about the techniques and algorithms used in AI and hopefully be able to utilize the knowledges in my future studies and works.\n",
    "\n",
    "\n"
   ]
  }
 ],
 "metadata": {
  "kernelspec": {
   "display_name": "Python 2",
   "language": "python",
   "name": "python2"
  },
  "language_info": {
   "codemirror_mode": {
    "name": "ipython",
    "version": 2
   },
   "file_extension": ".py",
   "mimetype": "text/x-python",
   "name": "python",
   "nbconvert_exporter": "python",
   "pygments_lexer": "ipython2",
   "version": "2.7.11"
  }
 },
 "nbformat": 4,
 "nbformat_minor": 0
}
