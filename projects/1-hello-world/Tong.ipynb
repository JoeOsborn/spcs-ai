{
 "cells": [
  {
   "cell_type": "markdown",
   "metadata": {},
   "source": [
    "Ailyn Tong\n",
    "\n",
    "Background:\n",
    "    * Two years of java programming courses, including APCS\n",
    "    * Two years of robot programming, C++\n",
    "    * Basic video games: Conway/Hivolts in Java, shooter in C++ (using SFML)\n",
    "    \n",
    "Goals:\n",
    "    * Learn generally about AI and machine learning, with specific interest in applications for video games and robotics (ex. game algorithms, computer vision)\n",
    "    \n",
    "Hobbies:\n",
    "    * Video games!\n",
    "    * Reading\n",
    "    * Painting\n",
    "    * Music (listening and playing piano)"
   ]
  },
  {
   "cell_type": "code",
   "execution_count": 1,
   "metadata": {
    "collapsed": false
   },
   "outputs": [
    {
     "name": "stdout",
     "output_type": "stream",
     "text": [
      "Ailyn Tong\n"
     ]
    }
   ],
   "source": [
    "print(\"Ailyn Tong\")"
   ]
  }
 ],
 "metadata": {
  "kernelspec": {
   "display_name": "Python [Root]",
   "language": "python",
   "name": "Python [Root]"
  },
  "language_info": {
   "codemirror_mode": {
    "name": "ipython",
    "version": 3
   },
   "file_extension": ".py",
   "mimetype": "text/x-python",
   "name": "python",
   "nbconvert_exporter": "python",
   "pygments_lexer": "ipython3",
   "version": "3.5.2"
  }
 },
 "nbformat": 4,
 "nbformat_minor": 0
}
