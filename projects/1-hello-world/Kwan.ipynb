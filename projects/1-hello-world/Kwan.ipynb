{
 "cells": [
  {
   "cell_type": "markdown",
   "metadata": {},
   "source": [
    "Hi, my name is Melissa. I'm a Bay Area native who first learned programming by taking a Python course online. Since then, I've taken classes in Java and C++, including APCS this past year.\n",
    "\n",
    "Though I've programmed in class, until this year I was pretty unaware of the large coding community that exists online through Firebase, Mongo.db, Github, and other platforms. My experience coding is limited to localized programs like Minesweeper and Sudoku, and I hope to expand the scope of my projects through online sharing.\n",
    "\n",
    "By the end of this class, I hope to have a more concrete understanding of artificial intelligence, which is currently a pretty abstract concept in my mind. I've read so much about the ethical concerns and the vague possibilities of AI, but I want to understand the actual code first before considering the implications.\n",
    "\n",
    "Outside of CS, I have played club volleyball for 5 years. I have played every single position (outside, right side, setter, libero) except for middle hitter. I'm also on the yearbook staff at my school, where I discovered my interest in graphic design.\n",
    "\n",
    "Thanks for reading!"
   ]
  }
 ],
 "metadata": {
  "kernelspec": {
   "display_name": "Python 3",
   "language": "python",
   "name": "python3"
  },
  "language_info": {
   "codemirror_mode": {
    "name": "ipython",
    "version": 3
   },
   "file_extension": ".py",
   "mimetype": "text/x-python",
   "name": "python",
   "nbconvert_exporter": "python",
   "pygments_lexer": "ipython3",
   "version": "3.5.0b2"
  }
 },
 "nbformat": 4,
 "nbformat_minor": 0
}
