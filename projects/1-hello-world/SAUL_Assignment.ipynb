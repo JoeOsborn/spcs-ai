{
 "cells": [
  {
   "cell_type": "code",
   "execution_count": null,
   "metadata": {
    "collapsed": true
   },
   "outputs": [],
   "source": [
    "print (\"Hello Joe!\")"
   ]
  },
  {
   "cell_type": "markdown",
   "metadata": {},
   "source": [
    "# Hello Joe! I'm Erel Saul and I'm from Turkey, Istanbul. \n",
    "\n",
    "I have always been interested in technology and computers but the first time I had the chance to pursue this interest was in 8th grade when I took 'Introduction to CS' course in 'Istanbul C Programmers Foundation'. With that course, I learned the basics of programming and a little bit of Java (the course was taught in Java language). Later, in 9th grade, I felt that I shouldn't rush into creating apps and all that stuff but I should keep masterminding the fundementals of CS and have a solid backbone. So this time I took an online course from Udacity. It was taught in Python and I was required to submit a project to pass the course. I built a very basic social network which helped me learn databases, functions, syntaxes in further depth. This year I took elective CS lesson in my school and studied databases via Microsoft Access. Also I participated in the first ever coding competition for high school students in Turkey. \n",
    "\n",
    "By taking this course I hope to expand my CS knowledge and learn from other people's perspectives. My other hobbies include sports (especially basketball and soccer), politics and video games. \n",
    "\n",
    "\n"
   ]
  },
  {
   "cell_type": "code",
   "execution_count": null,
   "metadata": {
    "collapsed": true
   },
   "outputs": [],
   "source": [
    "print (\"Erel\")"
   ]
  }
 ],
 "metadata": {
  "anaconda-cloud": {},
  "kernelspec": {
   "display_name": "Python [Root]",
   "language": "python",
   "name": "Python [Root]"
  },
  "language_info": {
   "codemirror_mode": {
    "name": "ipython",
    "version": 3
   },
   "file_extension": ".py",
   "mimetype": "text/x-python",
   "name": "python",
   "nbconvert_exporter": "python",
   "pygments_lexer": "ipython3",
   "version": "3.5.2"
  }
 },
 "nbformat": 4,
 "nbformat_minor": 0
}
