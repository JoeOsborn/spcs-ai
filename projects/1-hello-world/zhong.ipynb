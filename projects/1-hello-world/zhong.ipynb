{
 "cells": [
  {
   "cell_type": "markdown",
   "metadata": {
    "collapsed": true
   },
   "source": [
    "Hi Joe! My name is Joey. I am from Toronto, Ontario, Canada and this is my first time visiting California. I am currently 16 years old and I am going into grade 11 next year. \n",
    "\n",
    "I have a decent amount of experience in compettive programming (i had reached gold in USACO). Outside of computing and programming, I am a avid chess player, swimmer, and badminton player. I hope that by the end of this course, I will learn a lot more about AI and hopefully bea ble to use the lessons in this coruse to create a project of my own. In addition, I hope to make new friends in the next three weeks."
   ]
  }
 ],
 "metadata": {
  "anaconda-cloud": {},
  "kernelspec": {
   "display_name": "Python [Root]",
   "language": "python",
   "name": "Python [Root]"
  },
  "language_info": {
   "codemirror_mode": {
    "name": "ipython",
    "version": 3
   },
   "file_extension": ".py",
   "mimetype": "text/x-python",
   "name": "python",
   "nbconvert_exporter": "python",
   "pygments_lexer": "ipython3",
   "version": "3.5.2"
  }
 },
 "nbformat": 4,
 "nbformat_minor": 0
}
