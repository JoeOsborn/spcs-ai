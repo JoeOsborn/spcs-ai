{
 "cells": [
  {
   "cell_type": "markdown",
   "metadata": {},
   "source": [
    "Hi, I'm Jackson Deitelzweig. I have a basic background of programming in Python and Java, but mostly Python. I have also been doing some research with natural language processing including sentiment analysis and stance detection, and I have a small familiarity with neural networks. I have mostly worked with classifiers. From this course, I want to enhance my knowledge of aritificial intelligence and learn more about deep learning and other techniques, since those are becoming extremely prominenet in the field. Outside programming, I like to run, rock climb, and play with my dog."
   ]
  },
  {
   "cell_type": "code",
   "execution_count": 1,
   "metadata": {
    "collapsed": false
   },
   "outputs": [
    {
     "name": "stdout",
     "output_type": "stream",
     "text": [
      "Jackson Deitelzweig\n"
     ]
    }
   ],
   "source": [
    "print(\"Jackson Deitelzweig\")"
   ]
  },
  {
   "cell_type": "code",
   "execution_count": null,
   "metadata": {
    "collapsed": true
   },
   "outputs": [],
   "source": []
  }
 ],
 "metadata": {
  "kernelspec": {
   "display_name": "Python 3",
   "language": "python",
   "name": "python3"
  },
  "language_info": {
   "codemirror_mode": {
    "name": "ipython",
    "version": 3
   },
   "file_extension": ".py",
   "mimetype": "text/x-python",
   "name": "python",
   "nbconvert_exporter": "python",
   "pygments_lexer": "ipython3",
   "version": "3.5.2"
  }
 },
 "nbformat": 4,
 "nbformat_minor": 0
}
