{
 "cells": [
  {
   "cell_type": "markdown",
   "metadata": {},
   "source": [
    "Hello, My name is Spencer von der Ohe. I have programmed a lot in java. I have created many of desktop applications using java. I have created some basic android apps. I have created a game, a lot like Tron, with my own knowledge based AI. I have also used a few other languages including creating a server program in php(that interfaces with java), a basic operating system in C# and some basic compling software in batch. I am interested in pursusing a career in computer science(I am not sure what specifically yet.) I am looking to become a better programmer and to see if this is what I would like to take in university and pursue in a career. I like to program and play video games. I also play soccer, indoor and outdoor. I used to play hockey but now just watch hockey. My favorite team is the Edmonton Oilers."
   ]
  },
  {
   "cell_type": "code",
   "execution_count": 5,
   "metadata": {
    "collapsed": false
   },
   "outputs": [
    {
     "name": "stdout",
     "output_type": "stream",
     "text": [
      "Spencer von der Ohe\n",
      "\n",
      "Coin flip application:\n",
      "Type flip to flip coin.flip\n",
      "It landed on tails.\n"
     ]
    }
   ],
   "source": [
    "print(\"Spencer von der Ohe\\n\")\n",
    "print(\"Coin flip application:\")\n",
    "if (input('Type flip to flip coin:')==\"flip\"):\n",
    "    from random import randint\n",
    "    if (randint(0,1)==1):\n",
    "        print(\"It landed on heads.\")\n",
    "    \n",
    "    else:\n",
    "        print(\"It landed on tails.\")\n",
    "    \n",
    "\n"
   ]
  },
  {
   "cell_type": "code",
   "execution_count": null,
   "metadata": {
    "collapsed": true
   },
   "outputs": [],
   "source": []
  }
 ],
 "metadata": {
  "kernelspec": {
   "display_name": "Python [Root]",
   "language": "python",
   "name": "Python [Root]"
  },
  "language_info": {
   "codemirror_mode": {
    "name": "ipython",
    "version": 3
   },
   "file_extension": ".py",
   "mimetype": "text/x-python",
   "name": "python",
   "nbconvert_exporter": "python",
   "pygments_lexer": "ipython3",
   "version": "3.5.2"
  }
 },
 "nbformat": 4,
 "nbformat_minor": 0
}
