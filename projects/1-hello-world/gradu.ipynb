{
 "cells": [
  {
   "cell_type": "markdown",
   "metadata": {},
   "source": [
    "My name is Paula. I am 17 and live in Bucharest, the capital of Romania. My interest for computer science began in 9th grade, when I started studying algorithms in C++. I immediately loved coming up with different solutions and performance optimizations. Studying at the International Computer High School of Bucharest, I got to share my passion and also learn from my peers. A year ago, an older friend of mine told me about his enthusiasm about AI and got me to complete Andrew Ng's Machine Learning course on coursera and got me hooked on this topic as well. From then on, I have been continuing to learn about AI and ML by reading as many research papers as I can and taking online courses. Right now, I am a part of The Research Institute for Artificial Intelligence \"Mihai Draganescu\", working on developing and training better Romanian parsers using mostly neural networks.\n",
    "Through this course, I hope to further develop my skills and knowledge on this topic, discovering ideas I hadn't considered before (such as the ethics of AI). I am also enthusiastic about meeting so many people from all over the world with the same passion as me.\n",
    "My non-computing hobbies are drawing portraits and taking veery long walks around the city (or around wherever I am at a particular time). "
   ]
  },
  {
   "cell_type": "code",
   "execution_count": null,
   "metadata": {
    "collapsed": true
   },
   "outputs": [],
   "source": [
    "print('Hi everyone!')"
   ]
  }
 ],
 "metadata": {
  "kernelspec": {
   "display_name": "Python 3",
   "language": "python",
   "name": "python3"
  },
  "language_info": {
   "codemirror_mode": {
    "name": "ipython",
    "version": 3
   },
   "file_extension": ".py",
   "mimetype": "text/x-python",
   "name": "python",
   "nbconvert_exporter": "python",
   "pygments_lexer": "ipython3",
   "version": "3.4.3"
  }
 },
 "nbformat": 4,
 "nbformat_minor": 0
}
