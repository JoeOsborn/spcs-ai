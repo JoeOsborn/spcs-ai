{
 "cells": [
  {
   "cell_type": "markdown",
   "metadata": {},
   "source": [
    "# Background"
   ]
  },
  {
   "cell_type": "markdown",
   "metadata": {},
   "source": [
    "State machines, like most transition systems, are defined in terms of their set of states, their initial state, their terminal states, and the valid transitions between the states. State machines are still used widely in game character AI, but they also show up in various guises all over computer science (for example in regular expressions, program verification, cyber-physical systems, ...). A solid understanding of transition systems is key to understanding many different research areas.\n",
    "\n",
    "Today's assignment is to use state machines in a couple of different ways to get used to reading and writing Python code, and to get a feel for what can be done with state machines.\n",
    "\n",
    "First, we want to create a data type to represent state machines. In Python, the custom data type is the `class`. We know that it will be initialized with a set of states and edges, an initial state, and some terminal states, and creating a state machine should look something like:\n",
    "\n",
    "```python\n",
    "ab_a_ = StateMachine(\n",
    "    #We can define the states and edges in one go\n",
    "    [(\"s1\", \"a\", \"s2\"), (\"s2\", \"b\", \"s3\"), (\"s3\", \"a\", \"s3\")],\n",
    "    #Initial state\n",
    "    \"s1\",\n",
    "    #Terminal states\n",
    "    [\"s3\"]\n",
    ")\n",
    "```\n",
    "\n",
    "To recap:\n",
    "\n",
    "* `ab_a_ = ...` assigns the result of evaluating the right hand side to the variable `ab_a_`.\n",
    "* `StateMachine(...)` creates a new object of the StateMachine class\n",
    "* `[...]` is a comma-separated list of arbitrary \"things\". This list could grow or shrink but the key idea is that its length is unknown in advance to the code that's processing it (usually necessitating some kind of iteration or recursion over the length of the list).\n",
    "* `(...)` without a word to its left is a \"tuple\", a fixed-length sequence of objects. Here, each 3-tuple defines the source state, the transition symbol, and the target state. (If there were a word to the left of the parentheses, it would be a function call as in the case of `StateMachine(...)`).\n",
    "* `\"...\"` is a \"string\", a sequence of characters.\n",
    "\n",
    "Putting it all together, the line above makes a machine with three states that accepts `aba+`, if written as a regular expression (and stores the machine into the variable `ab_a_`): any string with the prefix `ab` followed by one or more `a`. Here's `ab(cab)+d`, `ab` followed by one or more repetitions of `cab` ending with a `d`:\n",
    "\n",
    "```python\n",
    "ab_cab_d = StateMachine(\n",
    "    [(\"s1\", \"a\", \"s2\"),\n",
    "     (\"s2\", \"b\", \"s3\"), # The same so far...\n",
    "     (\"s3\", \"c\", \"s4\"),\n",
    "     (\"s4\", \"a\", \"s5\"),\n",
    "     (\"s5\", \"b\", \"s6\"),\n",
    "     (\"s6\", \"c\", \"s4\"), # Note the loop back to s4 on \"c\"\n",
    "     (\"s6\", \"d\", \"s7\")], # Or else the continuation to s7 on \"d\"\n",
    "    \"s1\",\n",
    "    [\"s7\"]\n",
    ")\n",
    "```\n",
    "\n",
    "We have two questions of interest for any transition system:\n",
    "\n",
    "* What is the current configuration?\n",
    "* What configurations are accessible from the current configuration, and how?\n",
    "\n",
    "In our case, we can use e.g. `ab_a_.state` to get its current state identifier, and `ab_a_.out_edges()` to get a Python `dict` of the successors (with `ab_a_.out_edges().keys()` yielding the symbols and the `ab_a_.out_edgdes().values()` giving the successor states).\n",
    "\n",
    "There is one operation on state machines that we're interested in right now:\n",
    "\n",
    "* Advance the state machine along a particular available edge.\n",
    "\n",
    "We can write e.g. `ab_a_.advance(\"a\")` to advance the `ab_a_` machine by feeding it the symbol `\"a\"`. If it starts in state `\"s1\"`, this will put it into state `\"s2\"`. Then we can call `ab_a_.advance(\"b\")` to feed it a `\"b\"` and advance it to `\"s3\"`, and so on. It is an error to call `advance` with an unavailable or invalid symbol.\n",
    "\n",
    "Now that we know what the StateMachine class should look like, we can define it. Recall that Python is indentation-sensitive:"
   ]
  },
  {
   "cell_type": "code",
   "execution_count": null,
   "metadata": {
    "collapsed": false
   },
   "outputs": [],
   "source": [
    "class StateMachine:\n",
    "    # __init__ defines the function to be called when `StateMachine(...)` is invoked.\n",
    "    # Note that, like other instance methods on `StateMachine`, the first argument is `self`:\n",
    "    # the particular state machine being operated upon (in this case, initialized). `self` is\n",
    "    # provided implicitly in most cases.\n",
    "    # `edges` should be a list of 3-tuples of strings, init-state should be a string, and terminals a list of strings.\n",
    "    def __init__(self, edges, init_state, terminals):\n",
    "        # We create a `states` variable on `self` to store the transition system information.\n",
    "        # It will be a dict whose keys are state identifiers and whose values are themselves dicts\n",
    "        # of successor states keyed by symbols.\n",
    "        self.states = dict()\n",
    "        # `for X in C` iterates over each member `X` of collection `C`.\n",
    "        # Since we know `C` (`edges`) contains 3-tuples, we can \"unpack\" them using the tuple notation in place of `X`.\n",
    "        for (src, symbol, dest) in edges:\n",
    "            # Ensure that the state referred to by `src` exists in the transition system as a dict (again, symbols->states):\n",
    "            if src not in self.states:\n",
    "                self.states[src] = dict()\n",
    "            # Ditto for `dest`.\n",
    "            if dest not in self.states:\n",
    "                self.states[dest] = dict()\n",
    "            # Ensure that the symbol is not already used in an out-edge of src. This is a deterministic state machine which\n",
    "            # can't make \"guesses\" in such cases.\n",
    "            if symbol in self.states[src]:\n",
    "                # Exceptions are informative failures that other code can catch and deal with; they represent exceptional\n",
    "                # cases which this code is not in a position to recover from.\n",
    "                raise Exception(\"This StateMachine only supports DFAs, so each state can have at most one out edge for each symbol.\")\n",
    "            # Finally, connect the `s`ou`rc`e state to the `dest`ination state along `symbol`.\n",
    "            self.states[src][symbol] = dest\n",
    "        # This state machine starts in the initial state\n",
    "        self.state = init_state\n",
    "        # And we remember the terminal states so that we know when we're accepting.\n",
    "        # The list is packed into a `set()`, which permits us to say `state_id in self.terminal_states` to simplify checking.\n",
    "        # You can think of sets as being like dicts of type Anything->True: \n",
    "        # The object is in the set if and only if the key is present.\n",
    "        self.terminal_states = set(terminals)\n",
    "\n",
    "    # Determining the available out-edges is straightforward because of the way we've chosen to represent the\n",
    "    # transition system.\n",
    "    def out_edges(self):\n",
    "        # Return the out edges of the currently active state.\n",
    "        return self.states[self.state]\n",
    "    \n",
    "    # A state machine is in a terminal state if its current state is terminal\n",
    "    def is_terminal(self):\n",
    "        # Is the current state in the set of terminal states?\n",
    "        return self.state in self.terminal_states\n",
    "\n",
    "    # A state machine is stuck if it has no out edges.\n",
    "    def is_stuck(self):\n",
    "        return len(self.out_edges()) == 0\n",
    "    \n",
    "    # Finally, to advance the state machine by a symbol...\n",
    "    def advance(self, symbol):\n",
    "        # We reassign the machine's state to be the target state denoted by that symbol, among the current out edges.\n",
    "        self.state = self.out_edges()[symbol]"
   ]
  },
  {
   "cell_type": "markdown",
   "metadata": {},
   "source": [
    "With all that done, we can finally say:"
   ]
  },
  {
   "cell_type": "code",
   "execution_count": null,
   "metadata": {
    "collapsed": false
   },
   "outputs": [],
   "source": [
    "ab_a_ = StateMachine(\n",
    "    #We can define the states and edges in one go\n",
    "    [(\"s1\", \"a\", \"s2\"), (\"s2\", \"b\", \"s3\"), (\"s3\", \"a\", \"s3\")],\n",
    "    #Initial state\n",
    "    \"s1\",\n",
    "    #Terminal states\n",
    "    [\"s3\"]\n",
    ")\n",
    "print(\"Initial state:\", ab_a_.state) # note, no parens after `state` because it's a value field and not a function\n",
    "print(\"Accepting?\", ab_a_.is_terminal()) # parens after `is_terminal` to _call_ it.\n",
    "ab_a_.advance(\"a\")\n",
    "print(\"After a:\", ab_a_.state)\n",
    "ab_a_.advance(\"b\")\n",
    "print(\"After ab:\", ab_a_.state)\n",
    "print(\"Next steps:\", ab_a_.out_edges())\n",
    "print(\"Accepting?\", ab_a_.is_terminal())"
   ]
  },
  {
   "cell_type": "markdown",
   "metadata": {},
   "source": [
    "# Assignment 1"
   ]
  },
  {
   "cell_type": "markdown",
   "metadata": {},
   "source": [
    "The first part of the assignment is to define the function `check(...)` below:"
   ]
  },
  {
   "cell_type": "code",
   "execution_count": null,
   "metadata": {
    "collapsed": true
   },
   "outputs": [],
   "source": [
    "def check(sm, string):\n",
    "    return True # FIXME: if and only if `sm` accepts `string`."
   ]
  },
  {
   "cell_type": "markdown",
   "metadata": {},
   "source": [
    "It should give the correct results for at least these examples, and we encourage you to try out more tests."
   ]
  },
  {
   "cell_type": "code",
   "execution_count": null,
   "metadata": {
    "collapsed": false
   },
   "outputs": [],
   "source": [
    "# Test suite 1. Should not throw any errors.\n",
    "# (First, we define a function to produce the test state machine so we can use a fresh one every time.)\n",
    "def test1():\n",
    "    # This one accepts \"h(e(llo|y) | i(hi)*)\n",
    "    return StateMachine(\n",
    "        [(\"s1\", \"h\", \"s2\"), (\"s2\", \"e\", \"s3\"), \n",
    "         (\"s3\", \"y\", \"s4\"), \n",
    "         (\"s3\", \"l\", \"s5\"), (\"s5\", \"l\", \"s6\"), (\"s6\", \"o\", \"s7\"),\n",
    "         (\"s2\", \"i\", \"s8\"), (\"s8\", \"h\", \"s9\"), (\"s9\", \"i\", \"s8\")\n",
    "        ],\n",
    "        \"s1\",\n",
    "        [\"s4\", \"s7\", \"s8\"]\n",
    "    )\n",
    "assert check(test1(), \"hello\")\n",
    "assert check(test1(), \"hey\")\n",
    "assert check(test1(), \"hi\")\n",
    "assert check(test1(), \"hihi\")\n",
    "assert check(test1(), \"hihihi\")\n",
    "assert not check(test1(), \"greetings\")\n",
    "assert not check(test1(), \"hel\")\n",
    "assert not check(test1(), \"helloy\")\n",
    "assert not check(test1(), \"hih\")\n",
    "assert not check(test1(), \"heyhey\")"
   ]
  },
  {
   "cell_type": "markdown",
   "metadata": {},
   "source": [
    "Next, define a state machine which accepts email addresses consisting only of the letter \"x\" and the symbols \"@\" and \".\" (in other words, you don't need a ton of edges). Devise tests for it below (try to be sinister---get a partner to come up with adversarial examples too)."
   ]
  },
  {
   "cell_type": "code",
   "execution_count": null,
   "metadata": {
    "collapsed": false
   },
   "outputs": [],
   "source": [
    "def test2():\n",
    "    # TODO: define transition system here:\n",
    "    return StateMachine([],\n",
    "                        \"s1\",\n",
    "                        [])\n",
    "# TODO: tests go here\n"
   ]
  },
  {
   "cell_type": "markdown",
   "metadata": {},
   "source": [
    "# Assignment 2"
   ]
  },
  {
   "cell_type": "markdown",
   "metadata": {},
   "source": [
    "Define a function which, given a state machine, generates all the strings of a given (exact) length that the state machine would accept.\n",
    "\n",
    "If you have an intuition on how to do this, feel free to try it! Insert your attempt and its tests in the empty code cell just after this one. Then come back and take a look at the approach below."
   ]
  },
  {
   "cell_type": "code",
   "execution_count": null,
   "metadata": {
    "collapsed": true
   },
   "outputs": [],
   "source": [
    "def try_sample(sm, length):\n",
    "    return []"
   ]
  },
  {
   "cell_type": "markdown",
   "metadata": {},
   "source": [
    "Note that any path through a state machine ending in a terminal state is a valid string, and each step of the path is associated with a symbol (i.e., a letter). To combine symbols together into strings, you can use string concatenation:"
   ]
  },
  {
   "cell_type": "code",
   "execution_count": null,
   "metadata": {
    "collapsed": false
   },
   "outputs": [],
   "source": [
    "ab = \"a\" + \"b\"\n",
    "print(ab)\n",
    "abc = ab + \"c\"\n",
    "print(abc)"
   ]
  },
  {
   "cell_type": "markdown",
   "metadata": {},
   "source": [
    "You can combine lists the same way:"
   ]
  },
  {
   "cell_type": "code",
   "execution_count": null,
   "metadata": {
    "collapsed": true
   },
   "outputs": [],
   "source": [
    "lst_abc = [\"a\",\"b\"] + [\"c\"]\n",
    "print(lst_abc)"
   ]
  },
  {
   "cell_type": "markdown",
   "metadata": {},
   "source": [
    "All that's left is enumerating the valid paths of a given length and assembling those into strings. The skeleton below is a _recursive_ function that calls itself repeatedly, branching out according to each option. You can imagine that the call to `sample()` is the root of a tree of calls to `sample2`, and the paths through that tree are paths through the state machine---the path itself is \"stored\" in the third argument to `sample2`. In other words:\n",
    "\n",
    "* To get the possible paths of length `K` from a state machine `SM`:\n",
    "    * Initialize `S` to `SM`'s current state.\n",
    "    * Initialize the `result` to `[]`\n",
    "    * For each available out-edge at `S`:\n",
    "        * Advance `SM` along that edge\n",
    "        * Get the possible paths of length `K-1` from `SM` and add them to the result\n",
    "        * Put `SM` back into state `S` (so we can advance it along the next available out edge)\n",
    "    * Yield `result`\n",
    "\n",
    "It's up to you to figure out how to find the possible paths of length 0. Hint: How many such paths can there be for a given call to `sample2(sm, 0, sofar)`? What aspects of the state machine's status does it depend on?"
   ]
  },
  {
   "cell_type": "code",
   "execution_count": null,
   "metadata": {
    "collapsed": true
   },
   "outputs": [],
   "source": [
    "# Starter function that calls sample2() with an empty string as argument. This is just to \"accumulate\" paths into\n",
    "# that argument without tracking a bunch of data externally.\n",
    "def sample(sm, length):\n",
    "    return sample2(sm, length, \"\")\n",
    "\n",
    "# sample2 samples paths of length \"length\" from the state machine sm as of its current state.\n",
    "# sofar is the path assembled so far.\n",
    "# sample2 returns a list of paths.\n",
    "def sample2(sm, length, sofar):\n",
    "    if length == 0:\n",
    "        # TODO: What path(s) should be returned? When?\n",
    "        return []\n",
    "    state = sm.state\n",
    "    result = []\n",
    "    # TODO: implement the rest of the pseudocode above\n",
    "    return result"
   ]
  },
  {
   "cell_type": "code",
   "execution_count": null,
   "metadata": {
    "collapsed": false
   },
   "outputs": [],
   "source": [
    "assert len(sample(test2(), 0)) == 0\n",
    "assert len(sample(test2(), 1)) == 0\n",
    "assert len(sample(test2(), 2)) == 0\n",
    "assert len(sample(test2(), 3)) == 0\n",
    "assert len(sample(test2(), 4)) == 0\n",
    "assert len(sample(test2(), 5)) == 1\n",
    "assert len(sample(test2(), 6)) == 3\n",
    "assert len(sample(test2(), 7)) == 7\n",
    "assert len(sample(test2(), 8)) == 14\n",
    "\n",
    "all_samples = []\n",
    "for i in range(0, 9):\n",
    "    all_samples = all_samples + sample(test2(), i)\n",
    "print(all_samples)"
   ]
  },
  {
   "cell_type": "markdown",
   "metadata": {},
   "source": [
    "# What's next?"
   ]
  },
  {
   "cell_type": "markdown",
   "metadata": {},
   "source": [
    "If you like (and have time), define more test state machines in new test cells (test3, test4, etc). What types of string are easy to recognize, and which seem hard---or even impossible? You might want to try some of these and determine whether they're possible within the limits of state machines:\n",
    "\n",
    "* Phone numbers\n",
    "* URLs\n",
    "* Palindromes\n",
    "* HTML tags\n",
    "* English-language numbers (e.g. \"seventy-one\", \"nineteen\", \"six\", \"one hundred and one\")\n",
    "* Roman numerals\n",
    "\n",
    "Another (bigger) project might be to write a regular expression compiler to generate state machines from regular expressions---even just supporting concatenation and Kleene star would be a fun exercise for an evening!\n",
    "\n",
    "If you have an interest in the theory behind computer science, you might want to implement a non-deterministic automaton which can be in (or start in) several states simultaneously, may have out-edges to multiple distinct states on a given symbol, or may even have \"null\" or \"epsilon\" transitions which can be taken without consuming any input at all! Another good project here might involve taking the intersection or union of two languages (by manipulating their state machines)."
   ]
  },
  {
   "cell_type": "code",
   "execution_count": null,
   "metadata": {
    "collapsed": true
   },
   "outputs": [],
   "source": []
  }
 ],
 "metadata": {
  "anaconda-cloud": {},
  "kernelspec": {
   "display_name": "Python [Root]",
   "language": "python",
   "name": "Python [Root]"
  },
  "language_info": {
   "codemirror_mode": {
    "name": "ipython",
    "version": 3
   },
   "file_extension": ".py",
   "mimetype": "text/x-python",
   "name": "python",
   "nbconvert_exporter": "python",
   "pygments_lexer": "ipython3",
   "version": "3.5.2"
  }
 },
 "nbformat": 4,
 "nbformat_minor": 0
}
