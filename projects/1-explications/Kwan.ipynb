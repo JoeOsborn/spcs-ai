{
 "cells": [
  {
   "cell_type": "markdown",
   "metadata": {},
   "source": [
    "Artificial intelligence start out as a technical endeavor, but it is always grounded in real world contexts. As a result, many AI systems seek to predict human behavior and imitate the human tendency to handle new situations based on past experiences.\n",
    "\n",
    "Predicting human behavior is far too large a challenge to undertake with a knowledge-based approach. As a result, Stanford University researchers Ethan Fast, William McGrath, Pranav Rajpurkar, and Michael S. Bernstein took the statistical approach, drawing upon Wattpad, a huge database of online fiction, as a training set for their AI. By analyzing actions in fiction, Augur, their AI, drew conclusions about human behavior and applied them to new situations.\n",
    "\n",
    "From a knowledge representation standpoint, Augur uses natural language processing to parse text into actions, and inputs those actions into a vector space model. TC, the language the researchers use to parse text, uses subject-verb relationships to detect actions. It creates associations between words, such as “grocery store” and “fruit,” according to the paper. It then maps this data onto vector maps called Activity Detection, Object Affordances, and Activity Prediction, which represent the data graphically and can detect patterns in it.\n",
    "\n",
    "As the paper states, statistical analysis does a much more thorough job detecting mundane human actions because no single researchers could accurately document the huge set of human activities in a knowledge-based system.\n",
    "\n",
    "However, fiction still has its drawbacks. The Stanford researchers assert that fiction represents a surprisingly accurate portrayal of modern life, but it still tends to be more dramatic than in real life. For instance, The Stack notes that the “Augur-based prediction system is most likely, when identifying a cat, to predict that the next thing it will do is hiss.” Until Augur can adjust its training set to include episodes from real life instead of modern fiction, its data will be fundamentally flawed."
   ]
  }
 ],
 "metadata": {
  "kernelspec": {
   "display_name": "Python 3",
   "language": "python",
   "name": "python3"
  },
  "language_info": {
   "codemirror_mode": {
    "name": "ipython",
    "version": 3
   },
   "file_extension": ".py",
   "mimetype": "text/x-python",
   "name": "python",
   "nbconvert_exporter": "python",
   "pygments_lexer": "ipython3",
   "version": "3.5.0b2"
  }
 },
 "nbformat": 4,
 "nbformat_minor": 0
}
