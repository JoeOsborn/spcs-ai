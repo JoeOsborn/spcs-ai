{
 "cells": [
  {
   "cell_type": "markdown",
   "metadata": {},
   "source": [
    "Autonomous cars, which scientists have been experimenting with since the early 1920s, have recently made immense improvements. Various car and technology companies have explored the idea and many major companies have developed prototypes. The writers' purpose in creating these AI systems was to further the field of artificial intelligence, create good publicity for their companies, and to potentially create a product that could be sold to consumers in the future. As of now, autonomous cars are not commonly used, but those who have Tesla's semi-autonomic cars use them for the purpose of creating an easier and less stressful driving experience. Although there was recently an accident in which a Tesla driver, who had the Autopilot system activated, was killed, this was the first ever accident, and the tractor that hit them was driving perpendicularly across the highway, which is an incredibly unlikely circumstance. In general, one of the reasons that consumers buy and use autonomous or semi-autonomous cars is for the safety that they offer, free from the human error that leads to so many car accidents. These goals are somewhat aligned with those of the writers, as they both want to create improved vehicles in terms of efficiency and safety, among other things. From a knowledge representation standpoint, these cars view the world through the sensor information that they take in, and through the originial knowledge that they were coded with. Through cameras, motion sensors, light sensors, and much more, these cars view the world as a set of values describing their immediate surroundings. The other way in which this AI system views the world is through the information coded into it to start, including traffic rules and norms of driving, along with other useful information. This system interacts with humans in only limited ways. With Tesla's semi-autonomous cars, the interaction is a little more present, given that the human will be driving the car at some points, and the car will have to respond to the actions of the human. With entirely autonomous cars, there will be no interaction with humans, which is basically the  point of creating this technology. In terms of what the AI assumes or knows about the humans using it, again it is very limited, decreasing as the level of autonomy increases. With semi-automatic cars, the AI could assume that the human driving would not be paying attention or would not be able to drive, and thus would make decisions for them. There are a few ways in which a hostile user or third party could manipulate this AI system to harm others. For example, a third party could somehow change the code to make the car run over pedestrians or chase people. Another way this technology could be used for evil is by hacking into a car and changing its destinations, which could aid in kidnapping."
   ]
  }
 ],
 "metadata": {
  "anaconda-cloud": {},
  "kernelspec": {
   "display_name": "Python [Root]",
   "language": "python",
   "name": "Python [Root]"
  },
  "language_info": {
   "codemirror_mode": {
    "name": "ipython",
    "version": 3
   },
   "file_extension": ".py",
   "mimetype": "text/x-python",
   "name": "python",
   "nbconvert_exporter": "python",
   "pygments_lexer": "ipython3",
   "version": "3.5.2"
  }
 },
 "nbformat": 4,
 "nbformat_minor": 0
}
