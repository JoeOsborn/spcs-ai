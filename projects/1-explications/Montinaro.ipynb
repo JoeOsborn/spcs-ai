{
 "cells": [
  {
   "cell_type": "markdown",
   "metadata": {},
   "source": [
    "The chess-playing robot, Deep Blue, is most famously known for defeating chess grandmaster Garry Kasparov. It is a statistical AI system that used repeated exposure of chess patterns to perfect its strategy and beat the best. Deep Blue was created by two students at Carnegie Mellon Univesity, Feng-hsiung Hsu and Thomas Anantharaman in order to test the limits of human versus robot competition. Deep Blue’s first form was called “Chiptest”, but when its creators joined IBM, they immensely enhanced the capabilities of Chiptest by optimizing its processing power and renamed it “Deep Blue”. The system does not require users, an opponent rather, to compete against. The only input it requires is a chess board to analyze. Deep Blue has competed against other computers as well as chess masters to refine its capabilities. It views the game of chess in terms of patterns, and compares moves in order to choose the best possible option. The first versions could only analyze about fifty thousand moves per second while the final version that defeated Garry Kasparov could search through about 100 million chess positions per second. Although this system does not interact directly with humans, it uses humans moves to refine itself when its competing. It assumes that the opponent is trying to defeat the system. Because this AI system operated in the harmless game of chess, there was no way to compromise it and cause any physical harm to anybody. However, one way to corrupt the system would be to change its idea of a successful move and/or the goal of the game, making it a less effective player. In conclusion this system is an example of a statistical AI that adapts and uses past experiences to become superior."
   ]
  }
 ],
 "metadata": {
  "anaconda-cloud": {},
  "kernelspec": {
   "display_name": "Python [Root]",
   "language": "python",
   "name": "Python [Root]"
  },
  "language_info": {
   "codemirror_mode": {
    "name": "ipython",
    "version": 3
   },
   "file_extension": ".py",
   "mimetype": "text/x-python",
   "name": "python",
   "nbconvert_exporter": "python",
   "pygments_lexer": "ipython3",
   "version": "3.5.2"
  }
 },
 "nbformat": 4,
 "nbformat_minor": 0
}
