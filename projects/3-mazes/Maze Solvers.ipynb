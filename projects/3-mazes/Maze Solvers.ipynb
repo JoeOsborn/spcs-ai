{
 "cells": [
  {
   "cell_type": "markdown",
   "metadata": {},
   "source": [
    "First, we load up some useful libraries for visualization and data structures."
   ]
  },
  {
   "cell_type": "code",
   "execution_count": null,
   "metadata": {
    "collapsed": false
   },
   "outputs": [],
   "source": [
    "%matplotlib inline\n",
    "\n",
    "import matplotlib\n",
    "import numpy as np\n",
    "import matplotlib.pyplot as plt\n",
    "import matplotlib.patches as patches\n",
    "import matplotlib.axes as axes\n",
    "import copy\n",
    "import random"
   ]
  },
  {
   "cell_type": "markdown",
   "metadata": {},
   "source": [
    "Next we need a Maze class for pathfinding. It will help to have read the RedBlobGames [A\\* tutorial](http://www.redblobgames.com/pathfinding/a-star/introduction.html) before continuing.\n",
    "\n",
    "These Mazes are defined in ASCII diagrams and can have walls (\"#\"), empty spaces (\".\"), switches (numbers), and doors (letters; closed are uppercase). The \"0\" switch toggles the open status of all the \"a\" doors, \"1\" goes to the \"b\" doors, etc. Mazes can also contain pits: \"?\" pits have a 30% chance of killing the player and \"!\" pits have a 60% chance. Every maze has one player start location \"@\" and one goal square \"X\". Walls and closed doors block movement."
   ]
  },
  {
   "cell_type": "code",
   "execution_count": null,
   "metadata": {
    "collapsed": false
   },
   "outputs": [],
   "source": [
    "class Maze:\n",
    "    SwitchMap = {\"0\":\"a\", \"1\":\"b\", \"2\":\"c\", \"3\":\"d\", \"4\":\"e\", \"5\":\"f\", \"6\":\"g\", \"7\":\"h\", \"8\":\"i\", \"9\":\"j\"}\n",
    "    Colors = {\"a\":\"coral\",\"b\":\"tan\",\"c\":\"palegreen\",\"d\":\"blue\",\"e\":\"cyan\",\"f\":\"magenta\",\"g\":\"yellow\",\"h\":\"olive\",\"i\":\"purple\",\"j\":\"darkgreen\",\n",
    "              \"0\":\"coral\",\"1\":\"tan\",\"2\":\"palegreen\",\"3\":\"blue\",\"4\":\"cyan\",\"5\":\"magenta\",\"6\":\"yellow\",\"7\":\"olive\",\"8\":\"purple\",\"9\":\"darkgreen\",\n",
    "             \"?\":\"orange\",\n",
    "             \"!\":\"red\",\n",
    "             \"x\":\"green\",\"@\":\"gray\",\n",
    "             \"#\":\"sienna\",\".\":\"white\"}\n",
    "    \n",
    "    def __init__(self,rows):\n",
    "        self.grid = [list(r) for r in rows]\n",
    "        self.grid.reverse()\n",
    "        height = len(self.grid)\n",
    "        width = len(self.grid[0])\n",
    "        self.exit_pos = None\n",
    "        self.player_pos = None\n",
    "        self.player_alive = True\n",
    "        for y in range(0,height):\n",
    "            assert len(self.grid[y]) == width, \"All rows must be equal length!\"\n",
    "            for x in range(0,width):\n",
    "                c = self.grid[y][x]\n",
    "                assert c == \"#\" or c == \".\" or c == \"!\" or c == \"?\" or c == \"@\" or c.isalnum()\n",
    "                if c.lower() == \"x\":\n",
    "                    assert self.exit_pos == None\n",
    "                    self.exit_pos = (x,y)\n",
    "                if c == \"@\":\n",
    "                    assert self.player_pos == None\n",
    "                    self.player_pos = (x,y)\n",
    "                    self.grid[y][x] = \".\"\n",
    "    \n",
    "    def clone(self):\n",
    "        return copy.deepcopy(self)\n",
    "    \n",
    "    def toggle_cell(self,switchnum,c):\n",
    "        if c.isalpha() and Maze.SwitchMap[switchnum] == c.lower():\n",
    "            if c.islower():\n",
    "                return c.upper()\n",
    "            else:\n",
    "                return c.lower()\n",
    "        return c\n",
    "    \n",
    "    def toggle(self):\n",
    "        assert self.player_alive\n",
    "        height = len(self.grid)\n",
    "        width = len(self.grid[0])\n",
    "        (px,py) = self.player_pos\n",
    "        switchnum = self.grid[py][px]\n",
    "        assert switchnum.isnumeric()\n",
    "        for y in range(0,height):\n",
    "            for x in range(0,width):\n",
    "                self.grid[y][x] = self.toggle_cell(switchnum,self.grid[y][x])\n",
    "    \n",
    "    def is_free(self,x,y):\n",
    "        if y < 0 or y >= len(self.grid):\n",
    "            return False\n",
    "        if x < 0 or x >= len(self.grid[0]):\n",
    "            return False\n",
    "        cell = self.grid[y][x]\n",
    "        return (\n",
    "            cell == \".\" or\n",
    "            cell == \"?\" or cell == \"!\" or \n",
    "            (cell.isalpha() and cell.islower()) or cell.isnumeric()\n",
    "        )\n",
    "    \n",
    "    def move_player(self,dx,dy):\n",
    "        assert self.player_alive\n",
    "        assert abs(dx)+abs(dy) == 1\n",
    "        (x,y) = self.player_pos\n",
    "        (newx,newy) = (x+dx,y+dy)\n",
    "        assert self.is_free(newx,newy)\n",
    "        self.player_pos = (x+dx,y+dy)\n",
    "        cell = self.grid[y+dy][x+dx]\n",
    "        if cell == \"?\" and random.random() < 0.3:\n",
    "            self.player_alive = False\n",
    "        if cell == \"!\" and random.random() < 0.6:\n",
    "            self.player_alive = False\n",
    "    \n",
    "    def available_moves(self):\n",
    "        if not self.player_alive:\n",
    "            return []\n",
    "        (x,y) = self.player_pos\n",
    "        can_switch = self.grid[y][x].isnumeric()\n",
    "        return [(dx,dy) for (dx,dy) in [(-1,0),(1,0),(0,-1),(0,1)] if self.is_free(x+dx,y+dy)] + (\n",
    "            [\"switch\"] if can_switch else []\n",
    "        )\n",
    "    \n",
    "    def is_at_exit(self):\n",
    "        return self.player_alive and self.player_pos == self.exit_pos\n",
    "    \n",
    "    def draw(self):\n",
    "        fig1 = plt.figure()\n",
    "        ax1 = fig1.add_subplot(1,1,1, aspect='equal')\n",
    "        ax1.set_axis_bgcolor('sienna')\n",
    "        height = len(self.grid)\n",
    "        width = len(self.grid[0])\n",
    "        ax1.set_xlim([0,width])\n",
    "        ax1.set_ylim([0,height])\n",
    "        for y in range(0,height):\n",
    "            for x in range(0,width):\n",
    "                cell = self.grid[y][x]\n",
    "                if cell == \"#\": continue\n",
    "                is_door = cell.isalpha() and cell.lower() != \"x\"\n",
    "                is_pit = cell == \"?\" or cell == \"!\"\n",
    "                is_open = is_door and cell.islower()\n",
    "                is_switch = cell.isnumeric()\n",
    "                ax1.add_patch(\n",
    "                    patches.Rectangle((x, y),\n",
    "                                      1,1,\n",
    "                                      fill=True,\n",
    "                                      facecolor=Maze.Colors[cell.lower()],\n",
    "                                      edgecolor=\"black\",\n",
    "                                      hatch=\"/\" if is_switch else (\"-\" if (is_door and not is_open) else None),\n",
    "                                      label=cell)\n",
    "                )\n",
    "        ax1.add_patch(\n",
    "            patches.Rectangle(self.player_pos,\n",
    "                              1,1,\n",
    "                              fill=True,\n",
    "                              hatch=\"x\" if not self.player_alive else None,\n",
    "                              facecolor=Maze.Colors[\"@\"] if self.player_alive else \"black\",\n",
    "                              edgecolor=Maze.Colors[\"@\"] if self.player_alive else \"white\")\n",
    "        )\n",
    "        plt.show(fig1)\n",
    "    \n",
    "    def __eq__(self,other):\n",
    "        return self.grid == other.grid and self.player_pos == other.player_pos and self.player_alive == other.player_alive\n",
    "    \n",
    "    def __neq__(self,other):\n",
    "        return not self == other\n",
    "    \n",
    "    def __hash__(self):\n",
    "        return hash(str(self.grid)) % 1000007 + hash(self.player_pos) % 1000007 + hash(self.player_alive) % 1000007\n",
    "    \n",
    "    def __cmp__(self,other):\n",
    "        if self == other:\n",
    "            return 0\n",
    "        return __cmp__(id(self), id(other))\n",
    "    \n",
    "    \n",
    "sample=Maze([\n",
    "        \"##x#\",\n",
    "        \"#.A#\",\n",
    "        \"#0?#\",\n",
    "        \"a@##\"\n",
    "    ])\n",
    "sample.move_player(0,1)\n",
    "print(sample.available_moves())\n",
    "sample.move_player(1,0)\n",
    "sample.draw()"
   ]
  },
  {
   "cell_type": "markdown",
   "metadata": {},
   "source": [
    "# Assignment 1\n",
    "\n",
    "Write a function to solve pathfinding and switch-and-door puzzles with one of the heuristic search algorithms described during the lecture. Try it on the provided sample puzzles; if a puzzle gives your algorithm trouble, try to explain why that happens. Make sure the path you're getting is the actual shortest path!\n",
    "\n",
    "Try to get this assignment done by Friday; the other two may take a little longer but the sooner you attempt them the earlier you can get feedback!\n",
    "\n",
    "You may also try visualizing paths through the maze, implementing several different heuristic searches, comparing against aheuristic search, etc.\n",
    "\n",
    "Generating mazes automatically would also be a great exercise!"
   ]
  },
  {
   "cell_type": "code",
   "execution_count": null,
   "metadata": {
    "collapsed": true
   },
   "outputs": [],
   "source": [
    "def heuristic(maze):\n",
    "    # Return a path which solves the maze: a sequence of elements like (dx,dy) or \"switch\".\n",
    "    # You can use maze.exit_pos and query maze.grid[row][column] to investigate the maze.\n",
    "    return []"
   ]
  },
  {
   "cell_type": "code",
   "execution_count": null,
   "metadata": {
    "collapsed": false
   },
   "outputs": [],
   "source": [
    "def maze1():\n",
    "    return Maze([\n",
    "        \"########\",\n",
    "        \"#X.#...#\",\n",
    "        \"#.##.#.#\",\n",
    "        \"#.#..#.#\",\n",
    "        \"#....#.#\",\n",
    "        \"#.##...#\",\n",
    "        \"#..#..##\",\n",
    "        \"##.#..@#\",\n",
    "        \"########\"\n",
    "    ])\n",
    "\n",
    "maze1().draw()\n",
    "\n",
    "def maze2():\n",
    "    return Maze([\n",
    "        \"###############\",\n",
    "        \"#X#@.#.#...#..#\",\n",
    "        \"#.##.....#....#\",\n",
    "        \"#.#.#.#..#..#.#\",\n",
    "        \"#...#.#....#..#\",\n",
    "        \"#.#.#.........#\",\n",
    "        \"#.#.##.#..#...#\",\n",
    "        \"#.....#..#..#.#\",\n",
    "        \"#####...#.....#\",\n",
    "        \"########...####\",\n",
    "        \"###############\"\n",
    "    ])\n",
    "\n",
    "maze2().draw()\n",
    "\n",
    "def mazeUnsolvable1():\n",
    "    return Maze([\n",
    "        \"###############\",\n",
    "        \"#X#@.#.#...#..#\",\n",
    "        \"#.##.....#....#\",\n",
    "        \"#.#.#.#..#..#.#\",\n",
    "        \"#.#.#.#....#..#\",\n",
    "        \"#..##...#.....#\",\n",
    "        \"#.#.##....#...#\",\n",
    "        \"#.#...#..#..#.#\",\n",
    "        \"#####...#.....#\",\n",
    "        \"########...####\",\n",
    "        \"###############\"\n",
    "    ])\n",
    "\n",
    "mazeUnsolvable1().draw()"
   ]
  },
  {
   "cell_type": "code",
   "execution_count": null,
   "metadata": {
    "collapsed": false
   },
   "outputs": [],
   "source": [
    "print(heuristic(maze1()))\n",
    "print(heuristic(maze2()))\n",
    "print(heuristic(mazeUnsolvable1()))"
   ]
  },
  {
   "cell_type": "markdown",
   "metadata": {},
   "source": [
    "You also have to be able to handle switch and door puzzles:"
   ]
  },
  {
   "cell_type": "code",
   "execution_count": null,
   "metadata": {
    "collapsed": false
   },
   "outputs": [],
   "source": [
    "def maze3():\n",
    "    return Maze([\n",
    "        \"###############\",\n",
    "        \"#X#@.#.#...#.1#\",\n",
    "        \"#.##.....#....#\",\n",
    "        \"#A#.#.#..#..#.#\",\n",
    "        \"#.a.#C#....#..#\",\n",
    "        \"#.#.#0C.......#\",\n",
    "        \"#.#.##.#..#...#\",\n",
    "        \"#.B...#.2#..#.#\",\n",
    "        \"#####...#.....#\",\n",
    "        \"########...####\",\n",
    "        \"###############\"\n",
    "    ])\n",
    "\n",
    "maze3().draw()\n",
    "\n",
    "def maze4():\n",
    "    return Maze([\n",
    "        \"########\",\n",
    "        \"#@0#.01#\",\n",
    "        \"#A1#C#a#\",\n",
    "        \"#0#..#.#\",\n",
    "        \"#aBc2#.#\",\n",
    "        \"#B##c..#\",\n",
    "        \"#..#bb##\",\n",
    "        \"##1#..X#\",\n",
    "        \"########\"\n",
    "    ])\n",
    "\n",
    "maze4().draw()"
   ]
  },
  {
   "cell_type": "code",
   "execution_count": null,
   "metadata": {
    "collapsed": false
   },
   "outputs": [],
   "source": [
    "print(heuristic(maze3()))\n",
    "print(heuristic(maze4()))"
   ]
  },
  {
   "cell_type": "markdown",
   "metadata": {},
   "source": [
    "# Assignment 2\n",
    "\n",
    "Once you have this working, write an agent which finds a policy for a \"blind\" puzzle using MCTS. \"Blind\" puzzles are just like the puzzles above, only (a) you don't get to see the whole puzzle or know the goal states in advance, and (b) some nodes are trap doors with a chance of dropping the player into a bottomless pit! Try different policies for deciding between exploit/explore and for doing rollouts and compare them.  Plot graphs on how learning improves with  more rollouts.\n",
    "\n",
    "Of course, it should also be able to solve the earlier maze puzzles!"
   ]
  },
  {
   "cell_type": "code",
   "execution_count": null,
   "metadata": {
    "collapsed": true
   },
   "outputs": [],
   "source": [
    "def mcts(maze,iterations):\n",
    "    # Return the expected value (a number between 0 for \"player dead\", 1 for \"made it to the end\")\n",
    "    # for a budget of `iterations` rollouts.\n",
    "    # Should also return the best found path (the one most likely to lead to success).\n",
    "    # Here, don't look at maze.exit_pos or maze.grid:\n",
    "    # you're only allowed to query `maze.available_moves()`, `maze.player_alive`, and `maze.is_at_exit`.\n",
    "\n",
    "    # After training for `iterations` rollouts, run an agent through the maze using that learned policy \n",
    "    # for a large number of times and return the average reward:\n",
    "    # (best_path, expected_reward, test_reward)\n",
    "\n",
    "    return ([], 0)"
   ]
  },
  {
   "cell_type": "code",
   "execution_count": null,
   "metadata": {
    "collapsed": false
   },
   "outputs": [],
   "source": [
    "def maze5():\n",
    "    return Maze([\n",
    "        \"#######\",\n",
    "        \"#@???X#\",\n",
    "        \"#.....#\",\n",
    "        \"#######\"\n",
    "    ])\n",
    "\n",
    "maze5().draw()\n",
    "\n",
    "def maze6():\n",
    "    return Maze([\n",
    "        \"#######\",\n",
    "        \"#@?!?X#\",\n",
    "        \"#.???.#\",\n",
    "        \"#.....#\",\n",
    "        \"#######\"\n",
    "    ])\n",
    "\n",
    "maze6().draw()\n",
    "\n",
    "def maze7():\n",
    "    return Maze([\n",
    "        \"########\",\n",
    "        \"#@0#?01#\",\n",
    "        \"#A1#C#a#\",\n",
    "        \"#0#.?#!#\",\n",
    "        \"#aBc2#.#\",\n",
    "        \"#B##c.?#\",\n",
    "        \"#.!#bb##\",\n",
    "        \"##1#.?X#\",\n",
    "        \"########\"\n",
    "    ])\n",
    "\n",
    "maze7().draw()"
   ]
  },
  {
   "cell_type": "markdown",
   "metadata": {},
   "source": [
    "# Assignment 3\n",
    "\n",
    "Do assignment 2 again, but with reinforcement learning! Compare various approaches and parameters (e.g.\\ different discounting rates, Sarsa vs Q-learning, etc) against your MCTS agents in terms of iterations required to reach certain levels of performance. Plot graphs showing how learning improves with more iterations. Print or draw out (at least some of) the state-value or action-value matrix.\n",
    "\n",
    "Read as much as you care to of Sutton & Barto---[section 2](https://webdocs.cs.ualberta.ca/~sutton/book/ebook/node39.html) is especially useful.\n"
   ]
  },
  {
   "cell_type": "code",
   "execution_count": null,
   "metadata": {
    "collapsed": true
   },
   "outputs": [],
   "source": [
    "def rl(maze,iterations):\n",
    "    # Return the best path (most likely to lead to success) along with its expected value and a validated value\n",
    "    # for a budget of `iterations` experiments.\n",
    "    # As above, don't look at maze.exit_pos or maze.grid:\n",
    "    # you're only allowed to query `maze.available_moves()`, `maze.player_alive`, and `maze.is_at_exit`.\n",
    "\n",
    "    # After training for `iterations` experiments, run an agent through the maze using that learned policy \n",
    "    # for a large number of times and return the average reward:\n",
    "    # (best_path, expected_reward, test_reward)\n",
    "\n",
    "    return ([],0,0)"
   ]
  },
  {
   "cell_type": "markdown",
   "metadata": {},
   "source": [
    "# Bonus Assignment\n",
    "\n",
    "Make an adversary for the maze who is trying to eat the player. Try to get the best performing adversary possible!"
   ]
  }
 ],
 "metadata": {
  "kernelspec": {
   "display_name": "Python 3",
   "language": "python",
   "name": "python3"
  },
  "language_info": {
   "codemirror_mode": {
    "name": "ipython",
    "version": 3
   },
   "file_extension": ".py",
   "mimetype": "text/x-python",
   "name": "python",
   "nbconvert_exporter": "python",
   "pygments_lexer": "ipython3",
   "version": "3.5.1"
  }
 },
 "nbformat": 4,
 "nbformat_minor": 0
}
