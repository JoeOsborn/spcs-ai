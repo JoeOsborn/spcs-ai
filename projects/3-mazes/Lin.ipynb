{
 "cells": [
  {
   "cell_type": "markdown",
   "metadata": {},
   "source": [
    "# Notes\n",
    "\n",
    "I actually extended the class and add some functionalities to help me visualize the steps.\n",
    "\n",
    "Also this Maze class fails on my **Python 2** due to some unicode-related issues (mostly with unicode.isnumeric()). I fixed some parts involved in this issue and I think it should run well in **Python 3**, but I'm not sure.\n",
    "\n",
    "------\n",
    "\n",
    "First, we load up some useful libraries for visualization and data structures."
   ]
  },
  {
   "cell_type": "code",
   "execution_count": 1,
   "metadata": {
    "collapsed": false
   },
   "outputs": [],
   "source": [
    "%matplotlib inline\n",
    "\n",
    "import matplotlib\n",
    "import numpy as np\n",
    "import matplotlib.pyplot as plt\n",
    "import matplotlib.patches as patches\n",
    "import matplotlib.axes as axes\n",
    "import copy\n",
    "import random"
   ]
  },
  {
   "cell_type": "markdown",
   "metadata": {},
   "source": [
    "Next we need a Maze class for pathfinding. It will help to have read the RedBlobGames [A\\* tutorial](http://www.redblobgames.com/pathfinding/a-star/introduction.html) before continuing.\n",
    "\n",
    "These Mazes are defined in ASCII diagrams and can have walls (\"#\"), empty spaces (\".\"), switches (numbers), and doors (letters; closed are uppercase). The \"0\" switch toggles the open status of all the \"a\" doors, \"1\" goes to the \"b\" doors, etc. Mazes can also contain pits: \"?\" pits have a 30% chance of killing the player and \"!\" pits have a 60% chance. Every maze has one player start location \"@\" and one goal square \"X\". Walls and closed doors block movement."
   ]
  },
  {
   "cell_type": "code",
   "execution_count": 2,
   "metadata": {
    "collapsed": false
   },
   "outputs": [
    {
     "name": "stdout",
     "output_type": "stream",
     "text": [
      "[(1, 0), (0, -1), (0, 1), 'switch']\n"
     ]
    },
    {
     "data": {
      "image/png": "[encoded data removed]",
      "text/plain": [
       "<matplotlib.figure.Figure at 0x10eae3810>"
      ]
     },
     "metadata": {},
     "output_type": "display_data"
    }
   ],
   "source": [
    "class Maze:\n",
    "    \n",
    "    SwitchMap = {\"0\":\"a\", \"1\":\"b\", \"2\":\"c\", \"3\":\"d\", \"4\":\"e\", \"5\":\"f\", \"6\":\"g\", \"7\":\"h\", \"8\":\"i\", \"9\":\"j\"}\n",
    "    Colors = {\"a\":\"coral\",\"b\":\"tan\",\"c\":\"palegreen\",\"d\":\"blue\",\"e\":\"cyan\",\"f\":\"magenta\",\"g\":\"yellow\",\"h\":\"olive\",\"i\":\"purple\",\"j\":\"darkgreen\",\n",
    "              \"0\":\"coral\",\"1\":\"tan\",\"2\":\"palegreen\",\"3\":\"blue\",\"4\":\"cyan\",\"5\":\"magenta\",\"6\":\"yellow\",\"7\":\"olive\",\"8\":\"purple\",\"9\":\"darkgreen\",\n",
    "             \"?\":\"orange\",\n",
    "             \"!\":\"red\",\n",
    "             \"x\":\"green\",\"@\":\"gray\",\n",
    "             \"#\":\"sienna\",\".\":\"white\",\n",
    "             \"p\":\"blue\" # For paths\n",
    "             }\n",
    "    \n",
    "    def __init__(self,rows):\n",
    "        self.grid = [list(r) for r in rows]\n",
    "        self.grid.reverse()\n",
    "        height = len(self.grid)\n",
    "        width = len(self.grid[0])\n",
    "        self.exit_pos = None\n",
    "        self.player_pos = None\n",
    "        self.player_alive = True\n",
    "        for y in range(0,height):\n",
    "            assert len(self.grid[y]) == width, \"All rows must be equal length!\"\n",
    "            for x in range(0,width):\n",
    "                c = self.grid[y][x]\n",
    "                assert c == \"#\" or c == \".\" or c == \"!\" or c == \"?\" or c == \"@\" or c.isalnum()\n",
    "                if c.lower() == \"x\":\n",
    "                    assert self.exit_pos == None\n",
    "                    self.exit_pos = (x,y)\n",
    "                if c == \"@\":\n",
    "                    assert self.player_pos == None\n",
    "                    self.player_pos = (x,y)\n",
    "                    self.grid[y][x] = \".\"\n",
    "                    \n",
    "    def __eq__(self, other):\n",
    "        return self.grid == other.grid and self.player_pos == other.player_pos and self.player_alive == other.player_alive\n",
    "    \n",
    "    def __neq__(self, other):\n",
    "        return not self == other\n",
    "    \n",
    "    def __hash__(self):\n",
    "        return hash(str(self.grid)) % 1000007 + hash(self.player_pos) % 1000007 + hash(self.player_alive) % 1000007\n",
    "    \n",
    "    def clone(self):\n",
    "        return copy.deepcopy(self)\n",
    "    \n",
    "    def open_all_doors(self):\n",
    "        height = len(self.grid)\n",
    "        width = len(self.grid[0])\n",
    "        for y in range(0,height):\n",
    "            for x in range(0,width):\n",
    "                if self.grid[y][x].isalpha():\n",
    "                    self.grid[y][x] = self.grid[y][x].lower()\n",
    "    \n",
    "    def toggle_cell(self,switchnum,c):\n",
    "        if c.isalpha() and Maze.SwitchMap[switchnum] == c.lower():\n",
    "            if c.islower():\n",
    "                return c.upper()\n",
    "            else:\n",
    "                return c.lower()\n",
    "        return c\n",
    "    \n",
    "    def toggle(self):\n",
    "        assert self.player_alive\n",
    "        height = len(self.grid)\n",
    "        width = len(self.grid[0])\n",
    "        (px,py) = self.player_pos\n",
    "        switchnum = self.grid[py][px]\n",
    "        assert unicode(switchnum, 'ascii').isnumeric()\n",
    "        for y in range(0,height):\n",
    "            for x in range(0,width):\n",
    "                self.grid[y][x] = self.toggle_cell(switchnum,self.grid[y][x])\n",
    "    \n",
    "    def is_free(self,x,y):\n",
    "        if y < 0 or y >= len(self.grid):\n",
    "            return False\n",
    "        if x < 0 or x >= len(self.grid[0]):\n",
    "            return False\n",
    "        cell = self.grid[y][x]\n",
    "        return (\n",
    "            cell == \".\" or cell == \"X\" or cell == \"@\" or\n",
    "            cell == \"?\" or cell == \"!\" or \n",
    "            (cell.isalpha() and cell.islower()) or unicode(cell).isnumeric()\n",
    "        )\n",
    "    \n",
    "    def move_player(self,dx,dy):\n",
    "        assert self.player_alive\n",
    "        assert abs(dx)+abs(dy) == 1\n",
    "        (x,y) = self.player_pos\n",
    "        (newx,newy) = (x+dx,y+dy)\n",
    "        assert self.is_free(newx,newy)\n",
    "        self.player_pos = (x+dx,y+dy)\n",
    "        cell = self.grid[y+dy][x+dx]\n",
    "        if cell == \"?\" and random.random() < 0.3:\n",
    "            self.player_alive = False\n",
    "        if cell == \"!\" and random.random() < 0.6:\n",
    "            self.player_alive = False\n",
    "    \n",
    "    def available_moves(self):\n",
    "        if not self.player_alive:\n",
    "            return []\n",
    "        (x,y) = self.player_pos\n",
    "        can_switch = unicode(self.grid[y][x], 'ascii').isnumeric()\n",
    "        return [(dx,dy) for (dx,dy) in [(-1,0),(1,0),(0,-1),(0,1)] if self.is_free(x+dx,y+dy)] + (\n",
    "            [\"switch\"] if can_switch else []\n",
    "        )\n",
    "    \n",
    "    def is_at_exit(self):\n",
    "        return self.player_alive and self.player_pos == self.exit_pos\n",
    "    \n",
    "    def set_path(self, path):\n",
    "        for point in path:\n",
    "            self.grid[point[1]][point[0]] = 'p'\n",
    "    \n",
    "    def draw(self):\n",
    "        fig1 = plt.figure()\n",
    "        ax1 = fig1.add_subplot(1,1,1, aspect='equal')\n",
    "        ax1.set_axis_bgcolor('sienna')\n",
    "        height = len(self.grid)\n",
    "        width = len(self.grid[0])\n",
    "        ax1.set_xlim([0,width])\n",
    "        ax1.set_ylim([0,height])\n",
    "        for y in range(0,height):\n",
    "            for x in range(0,width):\n",
    "                cell = self.grid[y][x]\n",
    "                if cell == \"#\": continue\n",
    "                is_door = cell.isalpha() and cell.lower() != \"x\"\n",
    "                is_pit = cell == \"?\" or cell == \"!\"\n",
    "                is_open = is_door and cell.islower()\n",
    "                is_switch = unicode(cell, 'ascii').isnumeric()\n",
    "                ax1.add_patch(\n",
    "                    patches.Rectangle((x, y),\n",
    "                                      1,1,\n",
    "                                      fill=True,\n",
    "                                      facecolor=Maze.Colors[cell.lower()],\n",
    "                                      edgecolor=\"black\",\n",
    "                                      hatch=\"/\" if is_switch else (\"-\" if (is_door and not is_open) else None),\n",
    "                                      label=cell)\n",
    "                )\n",
    "        ax1.add_patch(\n",
    "            patches.Rectangle(self.player_pos,\n",
    "                              1,1,\n",
    "                              fill=True,\n",
    "                              hatch=\"x\" if not self.player_alive else None,\n",
    "                              facecolor=Maze.Colors[\"@\"] if self.player_alive else \"black\",\n",
    "                              edgecolor=Maze.Colors[\"@\"] if self.player_alive else \"white\")\n",
    "        )\n",
    "        plt.show(fig1)\n",
    "\n",
    "sample=Maze([\n",
    "        \"##X#\",\n",
    "        \"#.A#\",\n",
    "        \"#0?#\",\n",
    "        \"a@##\"\n",
    "    ])\n",
    "sample.move_player(0,1)\n",
    "print(sample.available_moves())\n",
    "#sample.move_player(1,0)\n",
    "sample.draw()"
   ]
  },
  {
   "cell_type": "markdown",
   "metadata": {},
   "source": [
    "# Assignment 1\n",
    "\n",
    "Write a function to solve pathfinding and switch-and-door puzzles with one of the heuristic search algorithms described during the lecture. Try it on the provided sample puzzles; if a puzzle gives your algorithm trouble, try to explain why that happens. Make sue the path you're getting is the actual shortest path!\n",
    "\n",
    "Try to get this assignment done by Friday; the other two may take a little longer but the sooner you attempt them the earlier you can get feedback!\n",
    "\n",
    "You may also try visualizing paths through the maze, implementing several different heuristic searches, comparing against aheuristic search, etc.\n",
    "\n",
    "Generating mazes automatically would also be a great exercise!"
   ]
  },
  {
   "cell_type": "code",
   "execution_count": 3,
   "metadata": {
    "collapsed": false
   },
   "outputs": [
    {
     "data": {
      "image/png": "[encoded data removed]",
      "text/plain": [
       "<matplotlib.figure.Figure at 0x10ecd6dd0>"
      ]
     },
     "metadata": {},
     "output_type": "display_data"
    }
   ],
   "source": [
    "import random\n",
    "\n",
    "def simpleMazeGenerator(w, h):\n",
    "    percentage_of_empty_space = 0.75\n",
    "    \n",
    "    maze = []\n",
    "    start_position_set = False\n",
    "    last_rand_end_position = int(random.random() * (h - 2) + 1)\n",
    "    \n",
    "    for i in range(w):\n",
    "        str = \"\"\n",
    "        for j in range(h):\n",
    "            if i == 0 or i == w-1 or j == 0 or j == h-1:\n",
    "                str += \"#\"\n",
    "            elif i == w - 2 and j == last_rand_end_position:\n",
    "                str += \"X\"\n",
    "            else:\n",
    "                rand = random.random()\n",
    "                if rand <= percentage_of_empty_space:\n",
    "                    if not start_position_set:\n",
    "                        str += \"@\"\n",
    "                        start_position_set = True\n",
    "                    else:\n",
    "                        str += \".\"\n",
    "                        \n",
    "                else:\n",
    "                    str += \"#\"\n",
    "                \n",
    "        maze.append(str)\n",
    "                \n",
    "    \n",
    "    return Maze(maze)\n",
    "\n",
    "simpleMazeGenerator(10,15).draw()"
   ]
  },
  {
   "cell_type": "code",
   "execution_count": 4,
   "metadata": {
    "collapsed": false
   },
   "outputs": [],
   "source": [
    "import copy\n",
    "from Queue import PriorityQueue\n",
    "\n",
    "def ta(a,b): # tuple add\n",
    "    return tuple(map(sum, zip(a,b)))\n",
    "\n",
    "def est_value(a, b):\n",
    "    return abs(a[0] - b[0]) + abs(a[1] - b[1])\n",
    "\n",
    "def heuristic(maze):\n",
    "    dis = [[10000000 for x in range(len(maze.grid[0]))] for y in range(len(maze.grid))] # Fill with an +INF num\n",
    "    dis[maze.player_pos[1]][maze.player_pos[0]] = 0\n",
    "    q = PriorityQueue()\n",
    "    q.put((0, maze, []))\n",
    "    \n",
    "    while not q.empty():\n",
    "        (prio, front_maze, path) = q.get()\n",
    "        \n",
    "        if front_maze.is_at_exit():\n",
    "            path.pop()\n",
    "            return path\n",
    "        \n",
    "        for move in front_maze.available_moves():\n",
    "            \n",
    "            if move is \"switch\": continue\n",
    "            \n",
    "            new_maze = front_maze.clone()\n",
    "\n",
    "            (dx, dy) = move\n",
    "            new_maze.move_player(dx, dy)\n",
    "            (ox, oy) = front_maze.player_pos\n",
    "            (px, py) = new_maze.player_pos\n",
    "\n",
    "            if dis[oy][ox] + 1 < dis[py][px]:\n",
    "                dis[py][px] = dis[oy][ox] + 1\n",
    "                priority = est_value(new_maze.player_pos, new_maze.exit_pos) + dis[py][px]\n",
    "                new_path = list(path)\n",
    "                new_path.append((px, py))\n",
    "                q.put((priority, new_maze, new_path))\n",
    "\n",
    "    return [] # No solution found"
   ]
  },
  {
   "cell_type": "code",
   "execution_count": 5,
   "metadata": {
    "collapsed": false
   },
   "outputs": [],
   "source": [
    "def maze1():\n",
    "    return Maze([\n",
    "        \"########\",\n",
    "        \"#X.#...#\",\n",
    "        \"#.##.#.#\",\n",
    "        \"#.#..#.#\",\n",
    "        \"#....#.#\",\n",
    "        \"#.##...#\",\n",
    "        \"#..#..##\",\n",
    "        \"##.#..@#\",\n",
    "        \"########\"\n",
    "    ])\n",
    "\n",
    "#maze1().draw()\n",
    "\n",
    "def maze2():\n",
    "    return Maze([\n",
    "        \"###############\",\n",
    "        \"#X#@.#.#...#..#\",\n",
    "        \"#.##.....#....#\",\n",
    "        \"#.#.#.#..#..#.#\",\n",
    "        \"#...#.#....#..#\",\n",
    "        \"#.#.#.........#\",\n",
    "        \"#.#.##.#..#...#\",\n",
    "        \"#.....#..#..#.#\",\n",
    "        \"#####...#.....#\",\n",
    "        \"########...####\",\n",
    "        \"###############\"\n",
    "    ])\n",
    "\n",
    "#maze2().draw()\n",
    "\n",
    "def mazeUnsolvable1():\n",
    "    return Maze([\n",
    "        \"###############\",\n",
    "        \"#X#@.#.#...#..#\",\n",
    "        \"#.##.....#....#\",\n",
    "        \"#.#.#.#..#..#.#\",\n",
    "        \"#.#.#.#....#..#\",\n",
    "        \"#..##...#.....#\",\n",
    "        \"#.#.##....#...#\",\n",
    "        \"#.#...#..#..#.#\",\n",
    "        \"#####...#.....#\",\n",
    "        \"########...####\",\n",
    "        \"###############\"\n",
    "    ])\n",
    "\n",
    "#mazeUnsolvable1().draw()"
   ]
  },
  {
   "cell_type": "code",
   "execution_count": 6,
   "metadata": {
    "collapsed": false
   },
   "outputs": [
    {
     "data": {
      "image/png": "[encoded data removed]",
      "text/plain": [
       "<matplotlib.figure.Figure at 0x10d843fd0>"
      ]
     },
     "metadata": {},
     "output_type": "display_data"
    },
    {
     "data": {
      "image/png": "[encoded data removed]",
      "text/plain": [
       "<matplotlib.figure.Figure at 0x10ed5c810>"
      ]
     },
     "metadata": {},
     "output_type": "display_data"
    },
    {
     "data": {
      "image/png": "[encoded data removed]",
      "text/plain": [
       "<matplotlib.figure.Figure at 0x10ede5950>"
      ]
     },
     "metadata": {},
     "output_type": "display_data"
    }
   ],
   "source": [
    "mz1 = maze1()\n",
    "mz1.set_path(heuristic(mz1))\n",
    "mz1.draw()\n",
    "\n",
    "mz2 = maze2()\n",
    "mz2.set_path(heuristic(mz2))\n",
    "mz2.draw()\n",
    "\n",
    "mzu = mazeUnsolvable1()\n",
    "mzu.set_path(heuristic(mzu))\n",
    "mzu.draw()"
   ]
  },
  {
   "cell_type": "code",
   "execution_count": 7,
   "metadata": {
    "collapsed": false
   },
   "outputs": [
    {
     "data": {
      "image/png": "[encoded data removed]",
      "text/plain": [
       "<matplotlib.figure.Figure at 0x10ebad550>"
      ]
     },
     "metadata": {},
     "output_type": "display_data"
    }
   ],
   "source": [
    "mzs = simpleMazeGenerator(15, 20)\n",
    "mzs.set_path(heuristic(mzs))\n",
    "mzs.draw()"
   ]
  },
  {
   "cell_type": "markdown",
   "metadata": {},
   "source": [
    "You also have to be able to handle switch and door puzzles:"
   ]
  },
  {
   "cell_type": "code",
   "execution_count": 8,
   "metadata": {
    "collapsed": false
   },
   "outputs": [
    {
     "data": {
      "image/png": "[encoded data removed]",
      "text/plain": [
       "<matplotlib.figure.Figure at 0x10f3c7410>"
      ]
     },
     "metadata": {},
     "output_type": "display_data"
    },
    {
     "data": {
      "image/png": "[encoded data removed]",
      "text/plain": [
       "<matplotlib.figure.Figure at 0x10f3ad710>"
      ]
     },
     "metadata": {},
     "output_type": "display_data"
    }
   ],
   "source": [
    "def maze3():\n",
    "    return Maze([\n",
    "        \"###############\",\n",
    "        \"#X#@.#.#...#.1#\",\n",
    "        \"#.##.....#....#\",\n",
    "        \"#A#.#.#..#..#.#\",\n",
    "        \"#.a.#C#....#..#\",\n",
    "        \"#.#.#0C.......#\",\n",
    "        \"#.#.##.#..#...#\",\n",
    "        \"#.B...#.2#..#.#\",\n",
    "        \"#####...#.....#\",\n",
    "        \"########...####\",\n",
    "        \"###############\"\n",
    "    ])\n",
    "\n",
    "maze3().draw()\n",
    "\n",
    "def maze4():\n",
    "    return Maze([\n",
    "        \"########\",\n",
    "        \"#@0#.01#\",\n",
    "        \"#A1#C#a#\",\n",
    "        \"#0#..#.#\",\n",
    "        \"#aBc2#.#\",\n",
    "        \"#B##c..#\",\n",
    "        \"#..#bb##\",\n",
    "        \"##1#..X#\",\n",
    "        \"########\"\n",
    "    ])\n",
    "\n",
    "maze4().draw()"
   ]
  },
  {
   "cell_type": "code",
   "execution_count": 9,
   "metadata": {
    "collapsed": false
   },
   "outputs": [],
   "source": [
    "def heuristic_switch(maze):\n",
    "    appeared_maze = set([maze])\n",
    "    q = PriorityQueue()\n",
    "    q.put((0, maze, [], 0))\n",
    "    \n",
    "    while not q.empty():\n",
    "        (prio, front_maze, path, cost) = q.get()\n",
    "        \n",
    "        if front_maze.is_at_exit():\n",
    "            path.pop()\n",
    "            return path\n",
    "        \n",
    "        for move in front_maze.available_moves():\n",
    "            \n",
    "            new_maze = front_maze.clone()\n",
    "            \n",
    "            if move is \"switch\": \n",
    "                new_maze.toggle()\n",
    "                new_path = list(path)\n",
    "                if new_maze not in appeared_maze:\n",
    "                    q.put((priority, new_maze, new_path, cost))\n",
    "                    appeared_maze.add(new_maze)\n",
    "                \n",
    "            else:     \n",
    "                (dx, dy) = move\n",
    "                new_maze.move_player(dx, dy)\n",
    "                (ox, oy) = front_maze.player_pos\n",
    "                (px, py) = new_maze.player_pos\n",
    "\n",
    "                priority = est_value(new_maze.player_pos, new_maze.exit_pos) + cost\n",
    "                new_path = list(path)\n",
    "                new_path.append((px, py))\n",
    "                \n",
    "                if new_maze not in appeared_maze:\n",
    "                    q.put((priority, new_maze, new_path, cost + 1))\n",
    "                    appeared_maze.add(new_maze)\n",
    "\n",
    "    return [] # No solution found"
   ]
  },
  {
   "cell_type": "code",
   "execution_count": 10,
   "metadata": {
    "collapsed": false
   },
   "outputs": [
    {
     "data": {
      "image/png": "[encoded data removed]",
      "text/plain": [
       "<matplotlib.figure.Figure at 0x10f3ad990>"
      ]
     },
     "metadata": {},
     "output_type": "display_data"
    },
    {
     "data": {
      "image/png": "[encoded data removed]",
      "text/plain": [
       "<matplotlib.figure.Figure at 0x10f391f10>"
      ]
     },
     "metadata": {},
     "output_type": "display_data"
    }
   ],
   "source": [
    "mz3 = maze3()\n",
    "mz3.set_path(heuristic_switch(mz3))\n",
    "mz3.draw()\n",
    "\n",
    "mz4 = maze4()\n",
    "mz4.set_path(heuristic_switch(mz4))\n",
    "mz4.draw()"
   ]
  },
  {
   "cell_type": "markdown",
   "metadata": {},
   "source": [
    "# Assignment 2\n",
    "\n",
    "Once you have this working, write an agent which finds a policy for a \"blind\" puzzle using MCTS. \"Blind\" puzzles are just like the puzzles above, only (a) you don't get to see the whole puzzle or know the goal states in advance, and (b) some nodes are trap doors with a chance of dropping the player into a bottomless pit! Try different policies for deciding between exploit/explore and for doing rollouts and compare them.  Plot graphs on how learning improves with  more rollouts.\n",
    "\n",
    "Of course, it should also be able to solve the earlier maze puzzles!"
   ]
  },
  {
   "cell_type": "code",
   "execution_count": 136,
   "metadata": {
    "collapsed": false
   },
   "outputs": [],
   "source": [
    "import random\n",
    "from math import sqrt\n",
    "from numpy import log\n",
    "from ipywidgets import FloatProgress\n",
    "from IPython.display import display\n",
    "\n",
    "appeared_maze_mcts = set([])\n",
    "iterations_mcts = 0\n",
    "\n",
    "class Tree:\n",
    "\n",
    "    def __init__(self):\n",
    "        self.parent = None\n",
    "        self.children = set()\n",
    "        self.tried_moves = set()\n",
    "        self.maze = None\n",
    "        self.reward = 0\n",
    "        self.access_count = 1  # Must be 1 to prevent division-by-zero\n",
    "        self.depth = 0\n",
    "\n",
    "    def append(self, sub_tree):\n",
    "        sub_tree.parent = self\n",
    "        sub_tree.depth = self.depth + 1\n",
    "        self.children.add(sub_tree)\n",
    "\n",
    "\n",
    "def mcts(maze, iterations):\n",
    "    # Return the expected value (a number between 0 for \"player dead\", 1 for \"made it to the end\")\n",
    "    # for a budget of `iterations` rollouts.\n",
    "    # Should also return the best found path (the one most likely to lead to success).\n",
    "    # Here, don't look at maze.exit_pos or maze.grid:\n",
    "    # you're only allowed to query `maze.available_moves()`, `maze.player_alive`, and `maze.is_at_exit`.\n",
    "\n",
    "    # After training for `iterations` rollouts, run an agent through the maze using that learned policy\n",
    "    # for a large number of times and return the average reward:\n",
    "    # (best_path, expected_reward, test_reward)\n",
    "\n",
    "    global appeared_maze_mcts\n",
    "    global iterations_mcts\n",
    "\n",
    "    appeared_maze_mcts = set()\n",
    "    tree = Tree()\n",
    "    tree.maze = maze\n",
    "    iterations_mcts = iterations\n",
    "    appeared_maze_mcts.add(maze)\n",
    "\n",
    "    percentage_loader = -1\n",
    "\n",
    "    progress_bar = FloatProgress(min=0, max=100)\n",
    "    display(progress_bar)\n",
    "\n",
    "    for i in range(iterations):\n",
    "        if int(i * 100.0 / iterations) != percentage_loader:\n",
    "            percentage_loader = int(i * 100 / iterations)\n",
    "            progress_bar.value = percentage_loader\n",
    "\n",
    "        sub_tree = tree_policy(tree)\n",
    "        maze_copy = sub_tree.maze.clone()\n",
    "        reward = default_policy(maze_copy)\n",
    "        backup(sub_tree, reward)\n",
    "\n",
    "    path = []\n",
    "    last_reward = 0\n",
    "    while tree is not None:\n",
    "        path.append(tree.maze.player_pos)\n",
    "        last_reward = tree.reward\n",
    "        tree = best_child(tree)\n",
    "\n",
    "    path.pop()\n",
    "    return (path, last_reward)\n",
    "\n",
    "\n",
    "def tree_policy(tree):\n",
    "    while not tree.maze.is_at_exit() and tree.maze.player_alive:\n",
    "        if len(tree.maze.available_moves()) > len(tree.tried_moves) and len(\n",
    "                tree.maze.available_moves()) != 0:\n",
    "\n",
    "            #print(\"Expand\")\n",
    "            child = expand(tree)\n",
    "            if child == None:\n",
    "                #print(\" -> Best\")\n",
    "                old_tree = tree\n",
    "                tree = best_child(tree)\n",
    "                if tree is None: return old_tree\n",
    "        else:\n",
    "            #print(\"Best\")\n",
    "            old_tree = tree\n",
    "            tree = best_child(tree)\n",
    "            if tree is None: return old_tree\n",
    "\n",
    "    return tree\n",
    "\n",
    "\n",
    "def expand(tree):\n",
    "    global appeared_maze_mcts\n",
    "\n",
    "    for move in tree.maze.available_moves():\n",
    "        child_maze = tree.maze.clone()\n",
    "\n",
    "        if move not in tree.tried_moves:\n",
    "            tree.tried_moves.add(move)\n",
    "            child_maze = tree.maze.clone()\n",
    "\n",
    "            if move is \"switch\":\n",
    "                child_maze.toggle()\n",
    "            else:\n",
    "                child_maze.move_player(move[0], move[1])\n",
    "\n",
    "            if child_maze not in appeared_maze_mcts:\n",
    "                child = Tree()\n",
    "                child.maze = child_maze\n",
    "                appeared_maze_mcts.add(child_maze)\n",
    "                tree.append(child)\n",
    "                return child\n",
    "            else:\n",
    "                continue\n",
    "\n",
    "\n",
    "def best_child(tree):\n",
    "    global iterations_mcts\n",
    "\n",
    "    max_reward = -1\n",
    "    best = None\n",
    "    for child in tree.children:\n",
    "        if child.reward != None:\n",
    "            reward = child.reward * 1.0 / child.access_count + 1 * \\\n",
    "                     sqrt(2 * log(tree.access_count * 1.0) / child.access_count)\n",
    "            if reward > max_reward:\n",
    "                best = child\n",
    "                max_reward = reward\n",
    "\n",
    "    return best\n",
    "\n",
    "\n",
    "def default_policy(maze):\n",
    "    while not maze.is_at_exit() and maze.player_alive:\n",
    "        move = random.choice(maze.available_moves())\n",
    "        if move is \"switch\":\n",
    "            maze.toggle()\n",
    "        else:\n",
    "            maze.move_player(move[0], move[1])\n",
    "\n",
    "    if maze.is_at_exit():\n",
    "        return 1.0\n",
    "    else:\n",
    "        return 0\n",
    "\n",
    "\n",
    "def backup(tree, reward):\n",
    "    while tree is not None:\n",
    "        tree.access_count += 1\n",
    "        tree.reward += reward\n",
    "        tree = tree.parent\n",
    "    return\n"
   ]
  },
  {
   "cell_type": "code",
   "execution_count": 12,
   "metadata": {
    "collapsed": false
   },
   "outputs": [
    {
     "data": {
      "image/png": "[encoded data removed]",
      "text/plain": [
       "<matplotlib.figure.Figure at 0x10ebcd110>"
      ]
     },
     "metadata": {},
     "output_type": "display_data"
    },
    {
     "data": {
      "image/png": "[encoded data removed]",
      "text/plain": [
       "<matplotlib.figure.Figure at 0x10f58f2d0>"
      ]
     },
     "metadata": {},
     "output_type": "display_data"
    },
    {
     "data": {
      "image/png": "[encoded data removed]",
      "text/plain": [
       "<matplotlib.figure.Figure at 0x10eea9ed0>"
      ]
     },
     "metadata": {},
     "output_type": "display_data"
    }
   ],
   "source": [
    "def maze5():\n",
    "    return Maze([\n",
    "        \"#######\",\n",
    "        \"#@???X#\",\n",
    "        \"#.....#\",\n",
    "        \"#######\"\n",
    "    ])\n",
    "\n",
    "maze5().draw()\n",
    "\n",
    "def maze6():\n",
    "    return Maze([\n",
    "        \"#######\",\n",
    "        \"#@?!?X#\",\n",
    "        \"#.???.#\",\n",
    "        \"#.....#\",\n",
    "        \"#######\"\n",
    "    ])\n",
    "\n",
    "maze6().draw()\n",
    "\n",
    "def maze7():\n",
    "    return Maze([\n",
    "        \"########\",\n",
    "        \"#@0#?01#\",\n",
    "        \"#A1#C#a#\",\n",
    "        \"#0#.?#!#\",\n",
    "        \"#aBc2#.#\",\n",
    "        \"#B##c.?#\",\n",
    "        \"#.!#bb##\",\n",
    "        \"##1#.?X#\",\n",
    "        \"########\"\n",
    "    ])\n",
    "\n",
    "maze7().draw()"
   ]
  },
  {
   "cell_type": "code",
   "execution_count": 162,
   "metadata": {
    "collapsed": false
   },
   "outputs": [
    {
     "name": "stderr",
     "output_type": "stream",
     "text": [
      "Widget Javascript not detected.  It may not be installed properly. Did you enable the widgetsnbextension? If not, then run \"jupyter nbextension enable --py --sys-prefix widgetsnbextension\"\n"
     ]
    },
    {
     "data": {
      "image/png": "[encoded data removed]",
      "text/plain": [
       "<matplotlib.figure.Figure at 0x10eca9e90>"
      ]
     },
     "metadata": {},
     "output_type": "display_data"
    }
   ],
   "source": [
    "mz5 = maze5()\n",
    "mz5.set_path(mcts(mz5, 5000)[0])\n",
    "mz5.draw()"
   ]
  },
  {
   "cell_type": "code",
   "execution_count": 160,
   "metadata": {
    "collapsed": false
   },
   "outputs": [
    {
     "name": "stderr",
     "output_type": "stream",
     "text": [
      "Widget Javascript not detected.  It may not be installed properly. Did you enable the widgetsnbextension? If not, then run \"jupyter nbextension enable --py --sys-prefix widgetsnbextension\"\n"
     ]
    },
    {
     "data": {
      "image/png": "[encoded data removed]",
      "text/plain": [
       "<matplotlib.figure.Figure at 0x10f9665d0>"
      ]
     },
     "metadata": {},
     "output_type": "display_data"
    }
   ],
   "source": [
    "mz6 = maze6()\n",
    "mz6.set_path(mcts(mz6, 5000)[0])\n",
    "mz6.draw()"
   ]
  },
  {
   "cell_type": "code",
   "execution_count": 161,
   "metadata": {
    "collapsed": false
   },
   "outputs": [
    {
     "name": "stderr",
     "output_type": "stream",
     "text": [
      "Widget Javascript not detected.  It may not be installed properly. Did you enable the widgetsnbextension? If not, then run \"jupyter nbextension enable --py --sys-prefix widgetsnbextension\"\n"
     ]
    },
    {
     "data": {
      "image/png": "[encoded data removed]",
      "text/plain": [
       "<matplotlib.figure.Figure at 0x10ee96990>"
      ]
     },
     "metadata": {},
     "output_type": "display_data"
    }
   ],
   "source": [
    "mz7 = maze7()\n",
    "mz7.set_path(mcts(mz7, 10000)[0])\n",
    "mz7.draw()"
   ]
  },
  {
   "cell_type": "markdown",
   "metadata": {},
   "source": [
    "# Assignment 3\n",
    "\n",
    "Do assignment 2 again, but with reinforcement learning! Compare various approaches and parameters (e.g.\\ state-value learning vs action-value learning, different discounting rates, etc) against your MCTS agents in terms of iterations required to reach certain levels of performance. Plot graphs showing how learning improves with more iterations. Print or draw out (at least some of) the state-value or action-value matrix."
   ]
  },
  {
   "cell_type": "code",
   "execution_count": null,
   "metadata": {
    "collapsed": true
   },
   "outputs": [],
   "source": [
    "def rl(maze,iterations):\n",
    "    # Return the best path (most likely to lead to success) along with its expected value and a validated value\n",
    "    # for a budget of `iterations` experiments.\n",
    "    # As above, don't look at maze.exit_pos or maze.grid:\n",
    "    # you're only allowed to query `maze.available_moves()`, `maze.player_alive`, and `maze.is_at_exit`.\n",
    "\n",
    "    # After training for `iterations` experiments, run an agent through the maze using that learned policy \n",
    "    # for a large number of times and return the average reward:\n",
    "    # (best_path, expected_reward, test_reward)\n",
    "\n",
    "    return ([],0,0)"
   ]
  }
 ],
 "metadata": {
  "kernelspec": {
   "display_name": "Python 2",
   "language": "python",
   "name": "python2"
  },
  "language_info": {
   "codemirror_mode": {
    "name": "ipython",
    "version": 2
   },
   "file_extension": ".py",
   "mimetype": "text/x-python",
   "name": "python",
   "nbconvert_exporter": "python",
   "pygments_lexer": "ipython2",
   "version": "2.7.12"
  },
  "widgets": {
   "state": {
    "00f499958c7648b7845585df90f57314": {
     "views": []
    },
    "012a7fef74294d3c8667abfd8f8dfb5a": {
     "views": []
    },
    "01dee00d995b4806a09d3de52073e9be": {
     "views": []
    },
    "02ebf66da9144b23bca0a5b763ffe3cd": {
     "views": []
    },
    "044dcc3557ca4aab91c22cac2277d1ef": {
     "views": []
    },
    "0462f747f3c948d49d18547b032553cb": {
     "views": []
    },
    "05b50f7aa84e4a6898d4d5ca75ca60ac": {
     "views": []
    },
    "081602a61e7a46d2bc294276c3b2f868": {
     "views": []
    },
    "0820d28a2cb547c98efb705bdf0e710d": {
     "views": []
    },
    "0a9df92325d24de79da5a2cb9cdb5578": {
     "views": []
    },
    "0ae3caf809cd4e2cae1f4cd346e90749": {
     "views": []
    },
    "0b5a246f16da4b1dad6eeb82a5cfbce8": {
     "views": []
    },
    "0bc24683d797408e9229cce73e77770a": {
     "views": []
    },
    "0bddb67508bb4db287cb33d82e17060c": {
     "views": []
    },
    "0c2e604928da420485ea34e5f1eacb14": {
     "views": []
    },
    "0e9cdf8c788147c6a6fa8438377019a8": {
     "views": []
    },
    "0f544cf17e6f4291aef02696581fb698": {
     "views": []
    },
    "0f5fdce28b494da3867c9c4fab202704": {
     "views": []
    },
    "0faf04bf496a46dbaeb805b94d5092fd": {
     "views": []
    },
    "0ff9e587a1c44e769e06d67133ba5ea7": {
     "views": []
    },
    "101e60dfcf79464da017be4dc809bfdf": {
     "views": []
    },
    "104e781ea61748cab730b34cf59c2631": {
     "views": []
    },
    "10544625510d45449866b0a132bb807c": {
     "views": []
    },
    "1114541dc3e54a20b61e9f4bdb4f07c7": {
     "views": []
    },
    "125853994e5e4f2ea4ae9eb39b7df3af": {
     "views": []
    },
    "140a6c88e0be46278f94807e8c7e2c64": {
     "views": [
      {
       "cell_index": 17
      }
     ]
    },
    "15984696b84c4e04bf8fbf3e2c4a5bbe": {
     "views": []
    },
    "16a0b055b21c4b9f8f77e59e834da4f3": {
     "views": []
    },
    "16d16c4b8d924eeeb04af01400b01ba2": {
     "views": []
    },
    "1705536497fd4243a7a8e5a4673c65b2": {
     "views": []
    },
    "17a48238f3d043d8b87d03f351cc5a8e": {
     "views": []
    },
    "17ab9af2035f4d6cb5cf43ecab5902cd": {
     "views": []
    },
    "189cb272d81c4502901f921c0b1293d3": {
     "views": []
    },
    "192b96239e104e9c9ede5ee763a67f08": {
     "views": [
      {
       "cell_index": 17
      }
     ]
    },
    "1a42ec5b65a94d7daf3a4aa9b7bc0d20": {
     "views": []
    },
    "1a4bba6512d949358787d048cdabe411": {
     "views": []
    },
    "1a9684fa6f2045afbd59d4b041c198f2": {
     "views": []
    },
    "1b5ec1f4ff374b24b03e20dd2b200ffe": {
     "views": []
    },
    "1e0e6a5907e24d0bb4e1f50f97a1ae9b": {
     "views": []
    },
    "202c5513afb74cc1a27ad7601cd93016": {
     "views": []
    },
    "20abbe74de5f4cb6bbdf04315216422e": {
     "views": []
    },
    "20acbf45e3314135b656ce176ebfd32e": {
     "views": []
    },
    "20fe9f2452ec469dbf5f45d8a08e76a9": {
     "views": [
      {
       "cell_index": 17
      }
     ]
    },
    "2144578f87e846b5a4a7ecded551c309": {
     "views": []
    },
    "2227aa1a74c34c3b80615581ab0ba34b": {
     "views": []
    },
    "2280e3eeaf7a49449608ebe7341c0966": {
     "views": []
    },
    "229a6fc07a9b4a408f90ea967d5e7c77": {
     "views": []
    },
    "230c80b9424b4f849995f88dd50cf317": {
     "views": []
    },
    "27d23737df6b4135ac61df646582835e": {
     "views": []
    },
    "284d330c7252400683ed1743d249805f": {
     "views": []
    },
    "287665019ca946ee9359ef0174a93d2b": {
     "views": []
    },
    "287bc5aa25a64a86b9d83c9b547f617f": {
     "views": []
    },
    "29cd0b3d1070484aaac5e592bef49495": {
     "views": []
    },
    "2a1fa180b0544603a8b0696840878c79": {
     "views": []
    },
    "2ac1af7502504b5bafa2b974d59ee8bb": {
     "views": []
    },
    "2ae4e12cf35c4bc59c6fc15789400e53": {
     "views": []
    },
    "2bbec389e5594407a53420f92f6c66ca": {
     "views": []
    },
    "2bd9688e270b4e10b2556b73e5577c71": {
     "views": []
    },
    "2cc7e06b0b2f4fdeaff237a254fed6d3": {
     "views": []
    },
    "2ceba43c9bf4455685c2c21edab68110": {
     "views": []
    },
    "2d576c9e75594a60ac0ab15ee75cb965": {
     "views": []
    },
    "2efb12c25dc04e93bf7b5d90f2e6f570": {
     "views": []
    },
    "2f3a052f4ee241a9911e915c3cdef325": {
     "views": []
    },
    "301ea025b5ec401e9d98c8d97ae1380b": {
     "views": []
    },
    "30de7b0817af4d249681f028b2e2856f": {
     "views": []
    },
    "30e637c7c0ce4e2098c01293f37c6b6c": {
     "views": []
    },
    "3264b2feee954b799a85f547d89627ad": {
     "views": []
    },
    "33f82b62357d409596585690b4e9671d": {
     "views": []
    },
    "35fa7a43a5b24dbd95723a4028b7fe4e": {
     "views": []
    },
    "368e49b0c18b4a039aad86ea990fbcf7": {
     "views": []
    },
    "37c9e7c663de4b81923dbe9f0d597389": {
     "views": []
    },
    "38b2c7f114b84d89921056a9f44f7ea6": {
     "views": []
    },
    "3ad2bf09112c449f973e4e2294642713": {
     "views": []
    },
    "3b2a2950f4c1477dae2f273d1ed515b2": {
     "views": []
    },
    "3c29b9f423a14fecb9b6c2ecc11ca082": {
     "views": []
    },
    "3c3a75e25510454dab5cefd581ab7a22": {
     "views": []
    },
    "3d0b0984162549ec890e471753f8bbc9": {
     "views": []
    },
    "3d112b67a49b4c229f2b5a669301d95a": {
     "views": []
    },
    "3dd4218c77d043379fa45dac2cae4544": {
     "views": []
    },
    "3f478940597d432e96f08b9eb1903095": {
     "views": []
    },
    "3fefa32d6a8649ccac52a83e94b32b39": {
     "views": []
    },
    "3ff55a332be848b59cb96545e93dee48": {
     "views": []
    },
    "4106681618a3449c8ee8e51c60dd3788": {
     "views": []
    },
    "4132be0424ea4dbe80ba2baf6cc50711": {
     "views": []
    },
    "419f8300e35c40bea5f2f74d8b008a72": {
     "views": []
    },
    "4241e63824aa4ca5972931eff9c5e57c": {
     "views": []
    },
    "427d2a611cd3471fa56193f59c6cf665": {
     "views": []
    },
    "428204f3ac8a419b8144581acbb12341": {
     "views": []
    },
    "42dc28560e344fb2966bdb0f337c9ed7": {
     "views": []
    },
    "42ea4311658740b89fed94fc7623ea17": {
     "views": []
    },
    "439f3957f50a4f1499d2e1ff97eb725b": {
     "views": []
    },
    "4511a46663ed4cff81b0eb7074804f97": {
     "views": []
    },
    "45537aeaf2b0416eb8957eaf94d9fec2": {
     "views": []
    },
    "4658e08b7cb244df8ca0a6ddf7a9494e": {
     "views": []
    },
    "46799f8988164c2c9a842ad3fd0ed314": {
     "views": []
    },
    "4acad1e084af43a6bdf364d2276c6f31": {
     "views": []
    },
    "4bc5b13474f648da94453867dabd14fd": {
     "views": []
    },
    "4bfc2433349f48f08a52bf8f9e3c7870": {
     "views": []
    },
    "4cd864960e1a4d0bbc76a21393b94a93": {
     "views": []
    },
    "4dfa7debdbb146f6a83379a7b243abfc": {
     "views": []
    },
    "4f9e06f1d5b0414d8adf5df4cc524de4": {
     "views": []
    },
    "504a66de603a49a184493670a1646be9": {
     "views": []
    },
    "533c4be73621483684d1d3ef0dde6ca1": {
     "views": []
    },
    "5357489390d74acba9c12ab34bfd7203": {
     "views": []
    },
    "54afbb663b8140acb0aa1464a0b32dd0": {
     "views": []
    },
    "577205ceeb81445e964e1722b6613b02": {
     "views": []
    },
    "588d5552abab4895b6f6db2770e402a1": {
     "views": []
    },
    "59d9a9fff5a94cd78cd742a7156f92cb": {
     "views": []
    },
    "5b63635047c24c15b439a1d895a3fcc2": {
     "views": []
    },
    "5c291c2656ea40c4aa3824c1ecbca187": {
     "views": []
    },
    "5c658d75bfd04bf0b657779f30e0d672": {
     "views": []
    },
    "5cd110316c8144eaa220b103e98ea11a": {
     "views": [
      {
       "cell_index": 17
      }
     ]
    },
    "5d85ff91614b4c838cf5a143f68c774e": {
     "views": []
    },
    "5e075e7d48664bb3acb36de02373d0ac": {
     "views": []
    },
    "5e3f9d550a1d4639953f70b23a9c32fd": {
     "views": []
    },
    "5f4ef1c21e93486da6285b2c8f4c984d": {
     "views": []
    },
    "5f96a939c80642c28ba68d80bf46171b": {
     "views": []
    },
    "5fc88c36e0c640e68e8708488d33fd6c": {
     "views": []
    },
    "600adec3625e471cbddfc0457fba132c": {
     "views": []
    },
    "6041ac69f0e240cfbaa7d444bbc08f5b": {
     "views": []
    },
    "62e18c0924b9471e8bf2d5d4f02ac8b5": {
     "views": []
    },
    "62f2447f26c6454796207a0ad0da31e6": {
     "views": []
    },
    "63aca8dee92d4dd49fdbfe85e1728b3e": {
     "views": []
    },
    "63ef901b3a89409b99b3a8fcb9b9fd30": {
     "views": [
      {
       "cell_index": 17
      }
     ]
    },
    "63fdd935c0624a2391a0deee9795563d": {
     "views": []
    },
    "64f72e2941524452b348ce22fddfc8cc": {
     "views": []
    },
    "65044f29d8b04c1d92bdf2af03ff9f8c": {
     "views": []
    },
    "6670d4c7a8014b00a3663891dd90ab48": {
     "views": []
    },
    "66cbada8a9314253b64cb7201d80ab6e": {
     "views": []
    },
    "672902f63b814281b45b7df65be40314": {
     "views": []
    },
    "67d04d1dae444c8f85cf1fa1f1418f85": {
     "views": []
    },
    "68a7bd9b6a4e4fe6b5528a59eab2e8e5": {
     "views": []
    },
    "68c6e7a2d63b4e5caba13b2b163a6899": {
     "views": []
    },
    "68d9bb5635724983bac5128a46f5c543": {
     "views": []
    },
    "697b7e43b43842a9bccf2552eed7ac17": {
     "views": []
    },
    "69a66697d8844a26b7ca8facb15f8646": {
     "views": []
    },
    "6a388b68f3fc45ff831df3b18df4623f": {
     "views": []
    },
    "6a4fd6bebbfe450f81a25df3e624a36a": {
     "views": []
    },
    "6a7993602df942a7896b7f570f8fe5c3": {
     "views": []
    },
    "6b2f3a25153c4808a634752bf37a483e": {
     "views": []
    },
    "6c2fb19d168040378ef2d6d912470117": {
     "views": []
    },
    "6d3fef1c3f6543e68faaf7c97ef0754a": {
     "views": []
    },
    "6d87b3b488924781b02eddcd56395e42": {
     "views": [
      {
       "cell_index": 17
      }
     ]
    },
    "6e24784fae954f51b676e4457ae176cb": {
     "views": []
    },
    "6e7ab9c312e0448a8cb41701f07e7100": {
     "views": []
    },
    "6f52d7f6e6754ac0a21e70f468f620b5": {
     "views": []
    },
    "6f8ecde719ba49bd935465ed6e8a1784": {
     "views": []
    },
    "70ba566235cf4ff382faa2e3c0c3a802": {
     "views": []
    },
    "74503bd713db4d0faddef5888fa8c6af": {
     "views": []
    },
    "745ae955d90f4e17877ecd04055334d8": {
     "views": [
      {
       "cell_index": 17
      }
     ]
    },
    "7520dc8378214b2a97f49208d81aecb8": {
     "views": []
    },
    "75be6f68752d45649e1cca03f58d0efe": {
     "views": []
    },
    "7649277fb34240b9859966b4ee7ab41d": {
     "views": []
    },
    "76774e5a7a7549de863bdfd547f96d08": {
     "views": []
    },
    "76ed779bdb5744ed83f6660030e92d5a": {
     "views": []
    },
    "773c7475bd074d7c81655b28eac8ef57": {
     "views": []
    },
    "77b5184a24ce4d1abb67c4c6be3dcbd7": {
     "views": []
    },
    "78b6ee5aff4d4a65b62d6e3ae9f0992f": {
     "views": []
    },
    "79dec45592e9404190bb4055bcac4b5c": {
     "views": []
    },
    "7a701db34aa043208cca5b0c71c509c5": {
     "views": []
    },
    "7b9bc10a11f34c6c8604cf427cf74a01": {
     "views": []
    },
    "7c066de6aac947248dac2430e3137fc2": {
     "views": []
    },
    "7c5d580e3a5e455e9262f3ca8699ec8c": {
     "views": []
    },
    "7cbf5dfa62744edaad7c1ad61ab1635b": {
     "views": []
    },
    "7da34b000cfb46a6bf6995d71c3a9c6a": {
     "views": []
    },
    "7f0cb10b8f0f424e8faaf3c2a45b5e0d": {
     "views": []
    },
    "7fd57ec53cec46d18dd2ca65410d6383": {
     "views": []
    },
    "80ffa090b20e4c51b63913d640c74fa9": {
     "views": []
    },
    "81a44f6a70a24a32935b3da2c5300388": {
     "views": []
    },
    "8243e5c6337b4935a19b489ae926d226": {
     "views": []
    },
    "82efe39917f544d0a29a93b144106424": {
     "views": []
    },
    "82fbe5f06d6848238eef65fb8643e1b2": {
     "views": []
    },
    "8339e7faf2704b818afb8abc38faaff9": {
     "views": []
    },
    "84f82ec99d4e455981c76c37a3efedc8": {
     "views": []
    },
    "854f570dd4d0477fac3a5d02d3e8a876": {
     "views": []
    },
    "859c1776635c40be856ea03a773196fe": {
     "views": []
    },
    "85dcd2ea31b64384b98ed6a267403473": {
     "views": []
    },
    "869ae32f6d1f422b8de1975a2cbaaa53": {
     "views": []
    },
    "87e695c732e74384984da3ad62a999d9": {
     "views": []
    },
    "88198409a4c444ce92b193935e62f4dd": {
     "views": []
    },
    "88875f9df7604a42ac9814f430805a0d": {
     "views": []
    },
    "893924bd11ba4cd3b4a6702598b0a8eb": {
     "views": []
    },
    "8955eab33eba49c38fa78260a14c1c67": {
     "views": []
    },
    "899bf3a7c61e45a0a4716597ec32edcb": {
     "views": []
    },
    "8a0f0a183b034490b28b9747c1284427": {
     "views": [
      {
       "cell_index": 17
      }
     ]
    },
    "8be8e23c90664127bd33ae6c0d54371e": {
     "views": []
    },
    "8c4e0c58c7ad4407b6fe2aeba3f6ccab": {
     "views": []
    },
    "8ce76bf53d27422fac6099a412b843ab": {
     "views": []
    },
    "8d77ca32fd974bae97c20bd0c3043ce5": {
     "views": []
    },
    "8da9bb7767e042d1bbea2802fc121d6c": {
     "views": []
    },
    "8de8256ec3d0411286d56270c43f10ec": {
     "views": []
    },
    "8e15d0f9bf4c452798724f7e7fc7906a": {
     "views": []
    },
    "8e9f2ca7e1e14316949ffa1be1b8f626": {
     "views": []
    },
    "8eca98412b874bde948398fab72a5bc1": {
     "views": []
    },
    "8f014bc4d1da48eb94ef4ba2c11e075a": {
     "views": []
    },
    "8f3d6133e6f74714996a6dbdaadc0086": {
     "views": []
    },
    "8f86c94f19bb4ab2984f089bfa623aea": {
     "views": []
    },
    "9057403a70cf4e019867f29d785846de": {
     "views": [
      {
       "cell_index": 17
      }
     ]
    },
    "91cfa62acfdd4fd080956f7bbc3dbd80": {
     "views": []
    },
    "92c3cad3d5804d0e847f48db2fa6c5bf": {
     "views": []
    },
    "92e4e051e6b54edea471a16cbf0addd6": {
     "views": []
    },
    "933144338ca647a49f890b3df2ec7f9b": {
     "views": []
    },
    "949204d64f6641e8bc8d299b917b73d5": {
     "views": []
    },
    "97039033c5dd4a19be5c4c7d0276834c": {
     "views": []
    },
    "97b8fccf0306436fad24b3fff4aa1f05": {
     "views": []
    },
    "97de9188b5ea4a4a8a67331a7ce33307": {
     "views": [
      {
       "cell_index": 17
      }
     ]
    },
    "9855ea5c431f4e61907949b824ab0515": {
     "views": []
    },
    "98d784999e5d438daa4c10f8b8afa064": {
     "views": []
    },
    "995654563b7147d69e55500a8e00b932": {
     "views": []
    },
    "996f9dd5dbf34660861031331a62c493": {
     "views": []
    },
    "9a28a31a6e5544adb6519c36acfe378d": {
     "views": []
    },
    "9ae448db2f4a499aba2d9b8615ffeca6": {
     "views": []
    },
    "9bcb87693ac14470a4d0194b38df3c8b": {
     "views": []
    },
    "9bda78d3166b4e3698696266ad0ddbda": {
     "views": [
      {
       "cell_index": 17
      }
     ]
    },
    "9bfaa82d8cfc4da1bea0f581951e4446": {
     "views": []
    },
    "9c8c8a082231459aa77f69bb99573682": {
     "views": []
    },
    "9d806e3825414698a9538042c3070454": {
     "views": []
    },
    "9dc1fd871f684c24b49e7668b72adf3f": {
     "views": []
    },
    "9e74369d6c244fbbbf12057a22732154": {
     "views": []
    },
    "9e8a50324d9346368a652ab6d05c1a06": {
     "views": []
    },
    "9fb21bf4073c4dcfb344cdaf1fe8988d": {
     "views": []
    },
    "a33def1e36694a20922bca84a39d69d2": {
     "views": []
    },
    "a4a17883d317436f83060673f7e5e486": {
     "views": []
    },
    "a4b08536da764e2fbd9a89a54b65638b": {
     "views": []
    },
    "a535afd18c144700a6d471418efbfbcb": {
     "views": []
    },
    "a5b8e7abec0c48e989036c5d213c6577": {
     "views": []
    },
    "a666d1bf67504c5c9a43082f123a9766": {
     "views": []
    },
    "a69ee49039ca4d20b130386437607fbe": {
     "views": []
    },
    "a6ba75b3d9424bb38720f68e8efec690": {
     "views": []
    },
    "a6cc2a5f1c674875b2e1dc02ac21c605": {
     "views": []
    },
    "a71eab5efc5144e08143bd57369ae3d4": {
     "views": []
    },
    "a7933a8af2a74b0cbd151d10288fc04e": {
     "views": []
    },
    "a79a2c5f93e0409bb3f6446a918d979f": {
     "views": []
    },
    "a7c4e9ed1a9f4544a4890fc6b9977faf": {
     "views": []
    },
    "a824f2f2832c4e8da4cc880d83a65d24": {
     "views": []
    },
    "a8d8e03ffe1b4889aec86d602aa8ec47": {
     "views": []
    },
    "ab34648e1e5243edb637fd1b6a7000e0": {
     "views": []
    },
    "abbba35841a643fba997c39715f69a82": {
     "views": [
      {
       "cell_index": 17
      }
     ]
    },
    "ade6837153d24a01ac83957a4d2864d5": {
     "views": []
    },
    "ae1ff409a63c442aacbecc3302987eb9": {
     "views": []
    },
    "ae8bf1a42dd7418c9d179d0934f65c47": {
     "views": []
    },
    "aeb9eb871a4442c3bfe4af519c34a76d": {
     "views": []
    },
    "aec044a4104647b3bd7d74d909305352": {
     "views": []
    },
    "af202db172a64dd0ae8315016d838935": {
     "views": []
    },
    "af54fbde2eac4c3190945fc39b8dd2bf": {
     "views": []
    },
    "afcb0d310dd342cda3e1581a0a04cbe0": {
     "views": []
    },
    "b0fcee94ddfc439daa9abae820a1740c": {
     "views": []
    },
    "b11f62d8c996466698c666d7320690f3": {
     "views": []
    },
    "b1a7445728204b12825f1ff3b72bdbe5": {
     "views": []
    },
    "b21c7f6643444b70bde5d10b98517b27": {
     "views": []
    },
    "b2573c054f464f30aefcfa71b575263f": {
     "views": []
    },
    "b2b617139eb542479f371b6b363c15e4": {
     "views": []
    },
    "b3ddd1441c534f96966fe0246143b873": {
     "views": []
    },
    "b44f7f7d6c164f69934df9ea866cc143": {
     "views": [
      {
       "cell_index": 19
      }
     ]
    },
    "b45f63283557403c8a2a7d3bd325b23a": {
     "views": []
    },
    "b4ed9e9ee9414fc9b249e5280f5d53f5": {
     "views": []
    },
    "b73e3616fb7d48f69d6435605fade259": {
     "views": []
    },
    "b7dcdc87acfd4660b327b6ed5840215a": {
     "views": []
    },
    "b80797a15a5f45a4b549b41d22d8caed": {
     "views": [
      {
       "cell_index": 17
      }
     ]
    },
    "b896684b55b341c98c80df4de8aa54f5": {
     "views": []
    },
    "b9a4329a4b004657a9bc5674f97f1c15": {
     "views": []
    },
    "b9f227afc0fd457285d4209a2f05b666": {
     "views": []
    },
    "baf8b176ba6c4c56b616abc967c70935": {
     "views": []
    },
    "bb6f9f37f74646d387e3c6e7e05fbfc9": {
     "views": [
      {
       "cell_index": 17
      }
     ]
    },
    "bbd6f553413147929d0d3e4ca10f2432": {
     "views": []
    },
    "bc07a5f64daa4636943393bd344f95e2": {
     "views": []
    },
    "bcd7e303b92e4ee0badcc960520fb38e": {
     "views": []
    },
    "bd2dcfc2ff084f2696a3798bd66ef0ec": {
     "views": []
    },
    "bd36672258254f1eb695b5412875ce47": {
     "views": []
    },
    "bdec01fa859b40169e260db148553593": {
     "views": []
    },
    "c022ce499c074aa19d47adff29c822fa": {
     "views": []
    },
    "c0902a78bc524419b05c343a35e7e762": {
     "views": []
    },
    "c0df110adb3a4393a602c585a7a8e06f": {
     "views": []
    },
    "c22139e61fa144e39fd17e98248ed7df": {
     "views": []
    },
    "c2bfc3ec5c834f27a65cf1a12e289ab6": {
     "views": []
    },
    "c2d9d67cc777408fa1493165b050fc49": {
     "views": []
    },
    "c3033f3110f6425bb687af08834bac53": {
     "views": []
    },
    "c35a2d8d453d4610a52178bc1526b81f": {
     "views": []
    },
    "c4a54471dbcc4ecc843f786d5bfe2480": {
     "views": []
    },
    "c509cecc447c4ea9bd268514f10e43a9": {
     "views": [
      {
       "cell_index": 17
      }
     ]
    },
    "c588d122e13f4ebcbffeb2024f74ffba": {
     "views": []
    },
    "c5ea8cbdb342448090d2dcc286f6a01e": {
     "views": []
    },
    "c6015325cb1147ed8170f3cb050778d6": {
     "views": []
    },
    "c63f027c00264bbdae45b8d0a1e1d232": {
     "views": []
    },
    "c7fc7515e6fa4c8395adfe5e5723428a": {
     "views": [
      {
       "cell_index": 17
      }
     ]
    },
    "c8de8d37f28a41eab823069b53241c6f": {
     "views": []
    },
    "c97a205cb249413aa3efdc50594e6ac7": {
     "views": []
    },
    "c9f205bd695b4a30ae9c3ac51d27298b": {
     "views": []
    },
    "ca8e07019e7640458a6126b1dcf43936": {
     "views": []
    },
    "cab6a453618d4aafb17a9318699c3e2d": {
     "views": []
    },
    "cb2894c3702c453eade2d613fbedd26a": {
     "views": []
    },
    "cd2089662ac64fa29b5809168cece8d1": {
     "views": []
    },
    "cd2273f6952c41319013b558b597621d": {
     "views": [
      {
       "cell_index": 17
      }
     ]
    },
    "cd37922c868e4515862fa60e745d5fc4": {
     "views": []
    },
    "ce18df7588624fcba0c3df2cf37a9308": {
     "views": []
    },
    "cf6055f7ee0547ef8f1927332ca72507": {
     "views": []
    },
    "d105c8ce166b455fa946b599e4be3e06": {
     "views": []
    },
    "d20a499dda124c1493a6f51248b780b7": {
     "views": []
    },
    "d20e7fe28eea4e01a5741c95471979f8": {
     "views": []
    },
    "d2f12a0195874db0bc59025740e4f875": {
     "views": []
    },
    "d3049a1f8be8446c8f4451039598f6dc": {
     "views": []
    },
    "d37b93f8018b46d8a788f45f488865e8": {
     "views": []
    },
    "d41aed888ac64532a30c6e06451245e2": {
     "views": []
    },
    "d46e4cba5eba4ce393376881929aefc5": {
     "views": []
    },
    "d476978ff4da454781139dfc2e218cca": {
     "views": []
    },
    "d4a0a46eba09439787e78378320117cd": {
     "views": []
    },
    "d845d6c471104df8a2663a1a745b369e": {
     "views": []
    },
    "d89524a120d244988c91a10388388f2d": {
     "views": []
    },
    "dacb97d940c84540ad8534660aeac281": {
     "views": []
    },
    "dae9150b2311451181365ba77d970c87": {
     "views": []
    },
    "dcd6b3745dd5478b95f632705440ccb5": {
     "views": []
    },
    "dcde0bd9b7a246e1bb1398e2c6439f1e": {
     "views": []
    },
    "dd2e0eed6d1146878ff7994a3b16de35": {
     "views": []
    },
    "dd92f72c07cf45dca3b2c7ceb56ef909": {
     "views": []
    },
    "de25821c0bb34976bc983d39a34aaa50": {
     "views": []
    },
    "deb951977c454a8bbab7480b88ff6c87": {
     "views": []
    },
    "df05d6574f404034a8b79e1f7621c55c": {
     "views": [
      {
       "cell_index": 17
      }
     ]
    },
    "df51e2002fa649b1834f71971f36374d": {
     "views": []
    },
    "e1f8ee0472fb46ba823a14cf25a1ccf0": {
     "views": []
    },
    "e2564d97c8dc4087a26934db5adf66cb": {
     "views": []
    },
    "e29519d697ab43f693330b1abdabda3f": {
     "views": []
    },
    "e46c05eff3054ac591e1d1dd80c60a29": {
     "views": []
    },
    "e65a2ac22ff34fb6851351b9fdf9dab2": {
     "views": []
    },
    "e72cb87f16694e6b960c643aaf286db7": {
     "views": []
    },
    "e8163f4216da4f04b3e8483f221e611e": {
     "views": []
    },
    "e8a2d2c543d0415e92f87eef02e15423": {
     "views": []
    },
    "e8dbd358cbb544cb810360b662845bdf": {
     "views": []
    },
    "ea5fb2dc89a2415e8dc5828f28a75839": {
     "views": []
    },
    "eaebf694b6304c6b964911dd57f496e9": {
     "views": []
    },
    "eb2455ab54f847ad8418a1c53d33f4b6": {
     "views": [
      {
       "cell_index": 17
      }
     ]
    },
    "eb52a422f75c4cd19ea30976eb0d05c5": {
     "views": []
    },
    "ebe7eb26e2f54ab9a52fc1c3e3f47fb8": {
     "views": []
    },
    "ecbbe0c10cec4776bd151881434e1d2e": {
     "views": []
    },
    "ee7c1e55f2074c62b4977b11d769b882": {
     "views": []
    },
    "efab1185ebe64e22b66616c858203546": {
     "views": []
    },
    "f0a047fac6ad4082865d5c564ecaaca8": {
     "views": []
    },
    "f107d3219c57461f9ed8b33171f8fb2d": {
     "views": []
    },
    "f1b3282a8488449c9e84983edb4bc36c": {
     "views": []
    },
    "f2431da95e0a4267adf307866b31f694": {
     "views": []
    },
    "f371602a6eb242098b102d2e149fc3ff": {
     "views": []
    },
    "f44a3968aa6740b7a410543c16aeb40f": {
     "views": []
    },
    "f563639e65734742945584fa44fa6f9b": {
     "views": []
    },
    "f5898d7786af4c61be377c6bb29eef60": {
     "views": []
    },
    "f5b4ff8dde72447583286b209dba2e0c": {
     "views": []
    },
    "f5ee469ffeae427fbbc5257c83330b0e": {
     "views": []
    },
    "f618563c0ef3488c986cd8ed651374d0": {
     "views": []
    },
    "f68b676a6854441f9db56c9b46ffa4c9": {
     "views": []
    },
    "f70846c181d8451c9f0feb9422483355": {
     "views": []
    },
    "f76e447ea6f9495abaa69408474ca503": {
     "views": []
    },
    "f8d291836ed240c4bbd0c349bb8635d3": {
     "views": []
    },
    "f8d8519940fb4df6b54caad38b0d77de": {
     "views": [
      {
       "cell_index": 18
      }
     ]
    },
    "f8dad6c6258e43ca9c01ba0c35ca8417": {
     "views": [
      {
       "cell_index": 17
      }
     ]
    },
    "f96d83f120b740d38e506e3b5a6cda01": {
     "views": []
    },
    "f983994b02bd4e0ea936851dc3742fba": {
     "views": []
    },
    "fa82aa30b07241d7b595d3dd60b9ede6": {
     "views": []
    },
    "fabbb4116aca4ec584b2d01a72642832": {
     "views": []
    },
    "fbb72cda10d9461783ef7c7f9ad7d7ee": {
     "views": []
    },
    "fc66784b9d8f4d6d94ddf12e87f221d9": {
     "views": []
    },
    "fc77554237d543d6bb7225c14c0c6caf": {
     "views": []
    },
    "fcda27335e714c28b791d24377b0a6f2": {
     "views": []
    },
    "fcda3914ce7f4943b696e14ce005882d": {
     "views": []
    },
    "fd7413a1b4df494caa28c35810f66f94": {
     "views": []
    },
    "fe34482c47f944cfbe5f429a4dd5bcb1": {
     "views": []
    },
    "fe40f6d1966e4390aa1282755c637867": {
     "views": []
    }
   },
   "version": "1.1.2"
  }
 },
 "nbformat": 4,
 "nbformat_minor": 0
}
