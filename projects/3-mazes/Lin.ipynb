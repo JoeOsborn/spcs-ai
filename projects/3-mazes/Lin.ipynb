{
 "cells": [
  {
   "cell_type": "markdown",
   "metadata": {},
   "source": [
    "# Notes\n",
    "\n",
    "I actually extended the class and add some functionalities to help me visualize the steps.\n",
    "\n",
    "Also this Maze class fails on my **Python 2** due to some unicode-related issues (mostly with unicode.isnumeric()). I fixed some parts involved in this issue and I think it should run well in **Python 3**, but I'm not sure.\n",
    "\n",
    "The MCTS training for maze7() is **very slow**, use **PyPy** for better performance.\n",
    "\n",
    "------\n",
    "\n",
    "First, we load up some useful libraries for visualization and data structures."
   ]
  },
  {
   "cell_type": "code",
   "execution_count": 3,
   "metadata": {
    "collapsed": false
   },
   "outputs": [],
   "source": [
    "%matplotlib inline\n",
    "\n",
    "import matplotlib\n",
    "import numpy as np\n",
    "import matplotlib.pyplot as plt\n",
    "import matplotlib.patches as patches\n",
    "import matplotlib.axes as axes\n",
    "import copy\n",
    "import random"
   ]
  },
  {
   "cell_type": "markdown",
   "metadata": {},
   "source": [
    "Next we need a Maze class for pathfinding. It will help to have read the RedBlobGames [A\\* tutorial](http://www.redblobgames.com/pathfinding/a-star/introduction.html) before continuing.\n",
    "\n",
    "These Mazes are defined in ASCII diagrams and can have walls (\"#\"), empty spaces (\".\"), switches (numbers), and doors (letters; closed are uppercase). The \"0\" switch toggles the open status of all the \"a\" doors, \"1\" goes to the \"b\" doors, etc. Mazes can also contain pits: \"?\" pits have a 30% chance of killing the player and \"!\" pits have a 60% chance. Every maze has one player start location \"@\" and one goal square \"X\". Walls and closed doors block movement."
   ]
  },
  {
   "cell_type": "code",
   "execution_count": 4,
   "metadata": {
    "collapsed": false
   },
   "outputs": [
    {
     "name": "stdout",
     "output_type": "stream",
     "text": [
      "[(1, 0), (0, -1), (0, 1), 'switch']\n"
     ]
    },
    {
     "data": {
      "image/png": "[encoded data removed]",
      "text/plain": [
       "<matplotlib.figure.Figure at 0x102254810>"
      ]
     },
     "metadata": {},
     "output_type": "display_data"
    }
   ],
   "source": [
    "class Maze:\n",
    "    \n",
    "    SwitchMap = {\"0\":\"a\", \"1\":\"b\", \"2\":\"c\", \"3\":\"d\", \"4\":\"e\", \"5\":\"f\", \"6\":\"g\", \"7\":\"h\", \"8\":\"i\", \"9\":\"j\"}\n",
    "    Colors = {\"a\":\"coral\",\"b\":\"tan\",\"c\":\"palegreen\",\"d\":\"blue\",\"e\":\"cyan\",\"f\":\"magenta\",\"g\":\"yellow\",\"h\":\"olive\",\"i\":\"purple\",\"j\":\"darkgreen\",\n",
    "              \"0\":\"coral\",\"1\":\"tan\",\"2\":\"palegreen\",\"3\":\"blue\",\"4\":\"cyan\",\"5\":\"magenta\",\"6\":\"yellow\",\"7\":\"olive\",\"8\":\"purple\",\"9\":\"darkgreen\",\n",
    "             \"?\":\"orange\",\n",
    "             \"!\":\"red\",\n",
    "             \"x\":\"green\",\"@\":\"gray\",\n",
    "             \"#\":\"sienna\",\".\":\"white\",\n",
    "             \"p\":\"blue\" # For paths\n",
    "             }\n",
    "    \n",
    "    def __init__(self,rows):\n",
    "        self.grid = [list(r) for r in rows]\n",
    "        self.grid.reverse()\n",
    "        height = len(self.grid)\n",
    "        width = len(self.grid[0])\n",
    "        self.exit_pos = None\n",
    "        self.player_pos = None\n",
    "        self.player_alive = True\n",
    "        for y in range(0,height):\n",
    "            assert len(self.grid[y]) == width, \"All rows must be equal length!\"\n",
    "            for x in range(0,width):\n",
    "                c = self.grid[y][x]\n",
    "                assert c == \"#\" or c == \".\" or c == \"!\" or c == \"?\" or c == \"@\" or c.isalnum()\n",
    "                if c.lower() == \"x\":\n",
    "                    assert self.exit_pos == None\n",
    "                    self.exit_pos = (x,y)\n",
    "                if c == \"@\":\n",
    "                    assert self.player_pos == None\n",
    "                    self.player_pos = (x,y)\n",
    "                    self.grid[y][x] = \".\"\n",
    "                    \n",
    "    def __eq__(self, other):\n",
    "        return self.grid == other.grid and self.player_pos == other.player_pos and self.player_alive == other.player_alive\n",
    "    \n",
    "    def __neq__(self, other):\n",
    "        return not self == other\n",
    "    \n",
    "    def __hash__(self):\n",
    "        return hash(str(self.grid)) % 1000007 + hash(self.player_pos) % 1000007 + hash(self.player_alive) % 1000007\n",
    "    \n",
    "    def clone(self):\n",
    "        return copy.deepcopy(self)\n",
    "    \n",
    "    def open_all_doors(self):\n",
    "        height = len(self.grid)\n",
    "        width = len(self.grid[0])\n",
    "        for y in range(0,height):\n",
    "            for x in range(0,width):\n",
    "                if self.grid[y][x].isalpha():\n",
    "                    self.grid[y][x] = self.grid[y][x].lower()\n",
    "    \n",
    "    def toggle_cell(self,switchnum,c):\n",
    "        if c.isalpha() and Maze.SwitchMap[switchnum] == c.lower():\n",
    "            if c.islower():\n",
    "                return c.upper()\n",
    "            else:\n",
    "                return c.lower()\n",
    "        return c\n",
    "    \n",
    "    def toggle(self):\n",
    "        assert self.player_alive\n",
    "        height = len(self.grid)\n",
    "        width = len(self.grid[0])\n",
    "        (px,py) = self.player_pos\n",
    "        switchnum = self.grid[py][px]\n",
    "        assert unicode(switchnum, 'ascii').isnumeric()\n",
    "        for y in range(0,height):\n",
    "            for x in range(0,width):\n",
    "                self.grid[y][x] = self.toggle_cell(switchnum,self.grid[y][x])\n",
    "    \n",
    "    def is_free(self,x,y):\n",
    "        if y < 0 or y >= len(self.grid):\n",
    "            return False\n",
    "        if x < 0 or x >= len(self.grid[0]):\n",
    "            return False\n",
    "        cell = self.grid[y][x]\n",
    "        return (\n",
    "            cell == \".\" or cell == \"X\" or cell == \"@\" or\n",
    "            cell == \"?\" or cell == \"!\" or \n",
    "            (cell.isalpha() and cell.islower()) or unicode(cell).isnumeric()\n",
    "        )\n",
    "    \n",
    "    def move_player(self,dx,dy):\n",
    "        assert self.player_alive\n",
    "        assert abs(dx)+abs(dy) == 1\n",
    "        (x,y) = self.player_pos\n",
    "        (newx,newy) = (x+dx,y+dy)\n",
    "        assert self.is_free(newx,newy)\n",
    "        self.player_pos = (x+dx,y+dy)\n",
    "        cell = self.grid[y+dy][x+dx]\n",
    "        if cell == \"?\" and random.random() < 0.3:\n",
    "            self.player_alive = False\n",
    "        if cell == \"!\" and random.random() < 0.6:\n",
    "            self.player_alive = False\n",
    "    \n",
    "    def available_moves(self):\n",
    "        if not self.player_alive:\n",
    "            return []\n",
    "        (x,y) = self.player_pos\n",
    "        can_switch = unicode(self.grid[y][x], 'ascii').isnumeric()\n",
    "        return [(dx,dy) for (dx,dy) in [(-1,0),(1,0),(0,-1),(0,1)] if self.is_free(x+dx,y+dy)] + (\n",
    "            [\"switch\"] if can_switch else []\n",
    "        )\n",
    "    \n",
    "    def is_at_exit(self):\n",
    "        return self.player_alive and self.player_pos == self.exit_pos\n",
    "    \n",
    "    def set_path(self, path):\n",
    "        for point in path:\n",
    "            self.grid[point[1]][point[0]] = 'p'\n",
    "            \n",
    "    def kill_player(self):\n",
    "        (x,y) = self.player_pos\n",
    "        cell = self.grid[y][x]\n",
    "        if cell == \"?\" and random.random() < 0.3:\n",
    "            self.player_alive = False\n",
    "        if cell == \"!\" and random.random() < 0.6:\n",
    "            self.player_alive = False\n",
    "    \n",
    "    def draw(self):\n",
    "        fig1 = plt.figure()\n",
    "        ax1 = fig1.add_subplot(1,1,1, aspect='equal')\n",
    "        ax1.set_axis_bgcolor('sienna')\n",
    "        height = len(self.grid)\n",
    "        width = len(self.grid[0])\n",
    "        ax1.set_xlim([0,width])\n",
    "        ax1.set_ylim([0,height])\n",
    "        for y in range(0,height):\n",
    "            for x in range(0,width):\n",
    "                cell = self.grid[y][x]\n",
    "                if cell == \"#\": continue\n",
    "                is_door = cell.isalpha() and cell.lower() != \"x\"\n",
    "                is_pit = cell == \"?\" or cell == \"!\"\n",
    "                is_open = is_door and cell.islower()\n",
    "                is_switch = unicode(cell, 'ascii').isnumeric()\n",
    "                ax1.add_patch(\n",
    "                    patches.Rectangle((x, y),\n",
    "                                      1,1,\n",
    "                                      fill=True,\n",
    "                                      facecolor=Maze.Colors[cell.lower()],\n",
    "                                      edgecolor=\"black\",\n",
    "                                      hatch=\"/\" if is_switch else (\"-\" if (is_door and not is_open) else None),\n",
    "                                      label=cell)\n",
    "                )\n",
    "        ax1.add_patch(\n",
    "            patches.Rectangle(self.player_pos,\n",
    "                              1,1,\n",
    "                              fill=True,\n",
    "                              hatch=\"x\" if not self.player_alive else None,\n",
    "                              facecolor=Maze.Colors[\"@\"] if self.player_alive else \"black\",\n",
    "                              edgecolor=Maze.Colors[\"@\"] if self.player_alive else \"white\")\n",
    "        )\n",
    "        plt.show(fig1)\n",
    "\n",
    "sample=Maze([\n",
    "        \"##X#\",\n",
    "        \"#.A#\",\n",
    "        \"#0?#\",\n",
    "        \"a@##\"\n",
    "    ])\n",
    "sample.move_player(0,1)\n",
    "print(sample.available_moves())\n",
    "#sample.move_player(1,0)\n",
    "sample.draw()"
   ]
  },
  {
   "cell_type": "markdown",
   "metadata": {},
   "source": [
    "# Assignment 1\n",
    "\n",
    "Write a function to solve pathfinding and switch-and-door puzzles with one of the heuristic search algorithms described during the lecture. Try it on the provided sample puzzles; if a puzzle gives your algorithm trouble, try to explain why that happens. Make sue the path you're getting is the actual shortest path!\n",
    "\n",
    "Try to get this assignment done by Friday; the other two may take a little longer but the sooner you attempt them the earlier you can get feedback!\n",
    "\n",
    "You may also try visualizing paths through the maze, implementing several different heuristic searches, comparing against aheuristic search, etc.\n",
    "\n",
    "Generating mazes automatically would also be a great exercise!"
   ]
  },
  {
   "cell_type": "code",
   "execution_count": 5,
   "metadata": {
    "collapsed": false
   },
   "outputs": [
    {
     "data": {
      "image/png": "[encoded data removed]",
      "text/plain": [
       "<matplotlib.figure.Figure at 0x103cb58d0>"
      ]
     },
     "metadata": {},
     "output_type": "display_data"
    }
   ],
   "source": [
    "import random\n",
    "\n",
    "def simpleMazeGenerator(w, h):\n",
    "    percentage_of_empty_space = 0.75\n",
    "    \n",
    "    maze = []\n",
    "    start_position_set = False\n",
    "    last_rand_end_position = int(random.random() * (h - 2) + 1)\n",
    "    \n",
    "    for i in range(w):\n",
    "        str = \"\"\n",
    "        for j in range(h):\n",
    "            if i == 0 or i == w-1 or j == 0 or j == h-1:\n",
    "                str += \"#\"\n",
    "            elif i == w - 2 and j == last_rand_end_position:\n",
    "                str += \"X\"\n",
    "            else:\n",
    "                rand = random.random()\n",
    "                if rand <= percentage_of_empty_space:\n",
    "                    if not start_position_set:\n",
    "                        str += \"@\"\n",
    "                        start_position_set = True\n",
    "                    else:\n",
    "                        str += \".\"\n",
    "                        \n",
    "                else:\n",
    "                    str += \"#\"\n",
    "                \n",
    "        maze.append(str)\n",
    "                \n",
    "    \n",
    "    return Maze(maze)\n",
    "\n",
    "simpleMazeGenerator(10,15).draw()"
   ]
  },
  {
   "cell_type": "code",
   "execution_count": 6,
   "metadata": {
    "collapsed": false
   },
   "outputs": [],
   "source": [
    "import copy\n",
    "from Queue import PriorityQueue\n",
    "\n",
    "def ta(a,b): # tuple add\n",
    "    return tuple(map(sum, zip(a,b)))\n",
    "\n",
    "def est_value(a, b):\n",
    "    return abs(a[0] - b[0]) + abs(a[1] - b[1])\n",
    "\n",
    "def heuristic(maze):\n",
    "    dis = [[10000000 for x in range(len(maze.grid[0]))] for y in range(len(maze.grid))] # Fill with an +INF num\n",
    "    dis[maze.player_pos[1]][maze.player_pos[0]] = 0\n",
    "    q = PriorityQueue()\n",
    "    q.put((0, maze, []))\n",
    "    \n",
    "    while not q.empty():\n",
    "        (prio, front_maze, path) = q.get()\n",
    "        \n",
    "        if front_maze.is_at_exit():\n",
    "            path.pop()\n",
    "            return path\n",
    "        \n",
    "        for move in front_maze.available_moves():\n",
    "            \n",
    "            if move is \"switch\": continue\n",
    "            \n",
    "            new_maze = front_maze.clone()\n",
    "\n",
    "            (dx, dy) = move\n",
    "            new_maze.move_player(dx, dy)\n",
    "            (ox, oy) = front_maze.player_pos\n",
    "            (px, py) = new_maze.player_pos\n",
    "\n",
    "            if dis[oy][ox] + 1 < dis[py][px]:\n",
    "                dis[py][px] = dis[oy][ox] + 1\n",
    "                priority = est_value(new_maze.player_pos, new_maze.exit_pos) + dis[py][px]\n",
    "                new_path = list(path)\n",
    "                new_path.append((px, py))\n",
    "                q.put((priority, new_maze, new_path))\n",
    "\n",
    "    return [] # No solution found"
   ]
  },
  {
   "cell_type": "code",
   "execution_count": 7,
   "metadata": {
    "collapsed": false
   },
   "outputs": [],
   "source": [
    "def maze1():\n",
    "    return Maze([\n",
    "        \"########\",\n",
    "        \"#X.#...#\",\n",
    "        \"#.##.#.#\",\n",
    "        \"#.#..#.#\",\n",
    "        \"#....#.#\",\n",
    "        \"#.##...#\",\n",
    "        \"#..#..##\",\n",
    "        \"##.#..@#\",\n",
    "        \"########\"\n",
    "    ])\n",
    "\n",
    "#maze1().draw()\n",
    "\n",
    "def maze2():\n",
    "    return Maze([\n",
    "        \"###############\",\n",
    "        \"#X#@.#.#...#..#\",\n",
    "        \"#.##.....#....#\",\n",
    "        \"#.#.#.#..#..#.#\",\n",
    "        \"#...#.#....#..#\",\n",
    "        \"#.#.#.........#\",\n",
    "        \"#.#.##.#..#...#\",\n",
    "        \"#.....#..#..#.#\",\n",
    "        \"#####...#.....#\",\n",
    "        \"########...####\",\n",
    "        \"###############\"\n",
    "    ])\n",
    "\n",
    "#maze2().draw()\n",
    "\n",
    "def mazeUnsolvable1():\n",
    "    return Maze([\n",
    "        \"###############\",\n",
    "        \"#X#@.#.#...#..#\",\n",
    "        \"#.##.....#....#\",\n",
    "        \"#.#.#.#..#..#.#\",\n",
    "        \"#.#.#.#....#..#\",\n",
    "        \"#..##...#.....#\",\n",
    "        \"#.#.##....#...#\",\n",
    "        \"#.#...#..#..#.#\",\n",
    "        \"#####...#.....#\",\n",
    "        \"########...####\",\n",
    "        \"###############\"\n",
    "    ])\n",
    "\n",
    "#mazeUnsolvable1().draw()"
   ]
  },
  {
   "cell_type": "code",
   "execution_count": 8,
   "metadata": {
    "collapsed": false
   },
   "outputs": [
    {
     "data": {
      "image/png": "[encoded data removed]",
      "text/plain": [
       "<matplotlib.figure.Figure at 0x1039f72d0>"
      ]
     },
     "metadata": {},
     "output_type": "display_data"
    },
    {
     "data": {
      "image/png": "[encoded data removed]",
      "text/plain": [
       "<matplotlib.figure.Figure at 0x103ac9410>"
      ]
     },
     "metadata": {},
     "output_type": "display_data"
    },
    {
     "data": {
      "image/png": "[encoded data removed]",
      "text/plain": [
       "<matplotlib.figure.Figure at 0x103aa7d50>"
      ]
     },
     "metadata": {},
     "output_type": "display_data"
    }
   ],
   "source": [
    "mz1 = maze1()\n",
    "mz1.set_path(heuristic(mz1))\n",
    "mz1.draw()\n",
    "\n",
    "mz2 = maze2()\n",
    "mz2.set_path(heuristic(mz2))\n",
    "mz2.draw()\n",
    "\n",
    "mzu = mazeUnsolvable1()\n",
    "mzu.set_path(heuristic(mzu))\n",
    "mzu.draw()"
   ]
  },
  {
   "cell_type": "code",
   "execution_count": 9,
   "metadata": {
    "collapsed": false
   },
   "outputs": [
    {
     "data": {
      "image/png": "[encoded data removed]",
      "text/plain": [
       "<matplotlib.figure.Figure at 0x104064c90>"
      ]
     },
     "metadata": {},
     "output_type": "display_data"
    }
   ],
   "source": [
    "mzs = simpleMazeGenerator(15, 20)\n",
    "mzs.set_path(heuristic(mzs))\n",
    "mzs.draw()"
   ]
  },
  {
   "cell_type": "markdown",
   "metadata": {},
   "source": [
    "You also have to be able to handle switch and door puzzles:"
   ]
  },
  {
   "cell_type": "code",
   "execution_count": 10,
   "metadata": {
    "collapsed": false
   },
   "outputs": [
    {
     "data": {
      "image/png": "[encoded data removed]",
      "text/plain": [
       "<matplotlib.figure.Figure at 0x1043a5610>"
      ]
     },
     "metadata": {},
     "output_type": "display_data"
    },
    {
     "data": {
      "image/png": "[encoded data removed]",
      "text/plain": [
       "<matplotlib.figure.Figure at 0x1043dff10>"
      ]
     },
     "metadata": {},
     "output_type": "display_data"
    }
   ],
   "source": [
    "def maze3():\n",
    "    return Maze([\n",
    "        \"###############\",\n",
    "        \"#X#@.#.#...#.1#\",\n",
    "        \"#.##.....#....#\",\n",
    "        \"#A#.#.#..#..#.#\",\n",
    "        \"#.a.#C#....#..#\",\n",
    "        \"#.#.#0C.......#\",\n",
    "        \"#.#.##.#..#...#\",\n",
    "        \"#.B...#.2#..#.#\",\n",
    "        \"#####...#.....#\",\n",
    "        \"########...####\",\n",
    "        \"###############\"\n",
    "    ])\n",
    "\n",
    "maze3().draw()\n",
    "\n",
    "def maze4():\n",
    "    return Maze([\n",
    "        \"########\",\n",
    "        \"#@0#.01#\",\n",
    "        \"#A1#C#a#\",\n",
    "        \"#0#..#.#\",\n",
    "        \"#aBc2#.#\",\n",
    "        \"#B##c..#\",\n",
    "        \"#..#bb##\",\n",
    "        \"##1#..X#\",\n",
    "        \"########\"\n",
    "    ])\n",
    "\n",
    "maze4().draw()"
   ]
  },
  {
   "cell_type": "code",
   "execution_count": 11,
   "metadata": {
    "collapsed": false
   },
   "outputs": [],
   "source": [
    "def heuristic_switch(maze):\n",
    "    appeared_maze = set([maze])\n",
    "    q = PriorityQueue()\n",
    "    q.put((0, maze, [], 0))\n",
    "    \n",
    "    while not q.empty():\n",
    "        (prio, front_maze, path, cost) = q.get()\n",
    "        \n",
    "        if front_maze.is_at_exit():\n",
    "            path.pop()\n",
    "            return path\n",
    "        \n",
    "        for move in front_maze.available_moves():\n",
    "            \n",
    "            new_maze = front_maze.clone()\n",
    "            \n",
    "            if move is \"switch\": \n",
    "                new_maze.toggle()\n",
    "                new_path = list(path)\n",
    "                if new_maze not in appeared_maze:\n",
    "                    q.put((priority, new_maze, new_path, cost))\n",
    "                    appeared_maze.add(new_maze)\n",
    "                \n",
    "            else:     \n",
    "                (dx, dy) = move\n",
    "                new_maze.move_player(dx, dy)\n",
    "                (ox, oy) = front_maze.player_pos\n",
    "                (px, py) = new_maze.player_pos\n",
    "\n",
    "                priority = est_value(new_maze.player_pos, new_maze.exit_pos) + cost\n",
    "                new_path = list(path)\n",
    "                new_path.append((px, py))\n",
    "                \n",
    "                if new_maze not in appeared_maze:\n",
    "                    q.put((priority, new_maze, new_path, cost + 1))\n",
    "                    appeared_maze.add(new_maze)\n",
    "\n",
    "    return [] # No solution found"
   ]
  },
  {
   "cell_type": "code",
   "execution_count": 28,
   "metadata": {
    "collapsed": false
   },
   "outputs": [
    {
     "name": "stdout",
     "output_type": "stream",
     "text": [
      "[(4, 9), (4, 8), (5, 8), (6, 8), (7, 8), (8, 8), (8, 9), (9, 9), (10, 9), (10, 8), (11, 8), (12, 8), (12, 9), (13, 9), (12, 9), (12, 8), (11, 8), (10, 8), (10, 7), (10, 6), (9, 6), (9, 5), (8, 5), (8, 4), (8, 3), (8, 4), (8, 5), (7, 5), (6, 5), (5, 5), (6, 5), (7, 5), (8, 5), (8, 4), (8, 3), (7, 3), (7, 2), (6, 2), (5, 2), (5, 3), (4, 3), (3, 3), (2, 3), (1, 3), (1, 4), (1, 5), (1, 6), (1, 7), (1, 8)]\n"
     ]
    },
    {
     "data": {
      "image/png": "[encoded data removed]",
      "text/plain": [
       "<matplotlib.figure.Figure at 0x103e8ac10>"
      ]
     },
     "metadata": {},
     "output_type": "display_data"
    },
    {
     "data": {
      "image/png": "[encoded data removed]",
      "text/plain": [
       "<matplotlib.figure.Figure at 0x104720650>"
      ]
     },
     "metadata": {},
     "output_type": "display_data"
    }
   ],
   "source": [
    "mz3 = maze3()\n",
    "mz3.set_path(heuristic_switch(mz3))\n",
    "mz3.draw()\n",
    "\n",
    "mz4 = maze4()\n",
    "mz4.set_path(heuristic_switch(mz4))\n",
    "mz4.draw()"
   ]
  },
  {
   "cell_type": "markdown",
   "metadata": {},
   "source": [
    "# Assignment 2\n",
    "\n",
    "Once you have this working, write an agent which finds a policy for a \"blind\" puzzle using MCTS. \"Blind\" puzzles are just like the puzzles above, only (a) you don't get to see the whole puzzle or know the goal states in advance, and (b) some nodes are trap doors with a chance of dropping the player into a bottomless pit! Try different policies for deciding between exploit/explore and for doing rollouts and compare them.  Plot graphs on how learning improves with  more rollouts.\n",
    "\n",
    "Of course, it should also be able to solve the earlier maze puzzles!"
   ]
  },
  {
   "cell_type": "code",
   "execution_count": 13,
   "metadata": {
    "collapsed": false
   },
   "outputs": [],
   "source": [
    "import random\n",
    "from math import sqrt\n",
    "from numpy import log\n",
    "from ipywidgets import FloatProgress\n",
    "from IPython.display import display\n",
    "\n",
    "iterations_mcts = 0\n",
    "CP = 0.707\n",
    "\n",
    "class Tree:\n",
    "\n",
    "    def __init__(self):\n",
    "        self.parent = None\n",
    "        self.children = set()\n",
    "        self.tried_moves = set()\n",
    "        self.maze = None\n",
    "        self.move = None\n",
    "        self.reward = 0\n",
    "        self.access_count = 1  # Must be 1 to prevent division-by-zero\n",
    "        self.depth = 0\n",
    "\n",
    "    def append(self, sub_tree):\n",
    "        sub_tree.parent = self\n",
    "        sub_tree.depth = self.depth + 1\n",
    "        self.children.add(sub_tree)\n",
    "\n",
    "\n",
    "def mcts(maze, iterations):\n",
    "    global iterations_mcts\n",
    "\n",
    "    tree = Tree()\n",
    "    tree.maze = maze\n",
    "    iterations_mcts = iterations\n",
    "\n",
    "    percentage_loader = -1\n",
    "\n",
    "    progress_bar = FloatProgress(min=0, max=100)\n",
    "    display(progress_bar)\n",
    "\n",
    "    for i in range(iterations):\n",
    "        if int(i * 100.0 / iterations) != percentage_loader:\n",
    "            percentage_loader = int(i * 100 / iterations)\n",
    "            progress_bar.value = percentage_loader\n",
    "\n",
    "        sub_tree = tree_policy(tree)\n",
    "        #print(sub_tree.maze.player_pos)\n",
    "        reward = default_policy(maze.clone(), sub_tree)\n",
    "        backup(sub_tree, reward)\n",
    "\n",
    "    path = []\n",
    "    last_reward = 0\n",
    "    tree_root = tree\n",
    "    while tree is not None:\n",
    "        path.append(tree.maze.player_pos)\n",
    "        last_reward = tree.reward\n",
    "        tree = best_child(tree, 0)\n",
    "\n",
    "    path.pop()\n",
    "    return (path, last_reward, tree_root)\n",
    "\n",
    "\n",
    "def tree_policy(tree):\n",
    "    global CP\n",
    "    \n",
    "    while not tree.maze.is_at_exit():\n",
    "        if len(tree.maze.available_moves()) > len(tree.tried_moves) and len(tree.maze.available_moves()) != 0:\n",
    "            child = expand(tree)\n",
    "            if child == None:\n",
    "                old_tree = tree\n",
    "                tree = best_child(tree, CP)\n",
    "                if tree is None: return old_tree\n",
    "            else:\n",
    "                return child\n",
    "        else:\n",
    "            old_tree = tree\n",
    "            tree = best_child(tree, CP)\n",
    "            if tree is None: return old_tree\n",
    "\n",
    "    return tree\n",
    "\n",
    "\n",
    "def expand(tree):\n",
    "    available_moves = tree.maze.available_moves()\n",
    "    random.shuffle(available_moves)\n",
    "    for move in available_moves:\n",
    "        child_maze = tree.maze.clone()\n",
    "\n",
    "        if move not in tree.tried_moves:\n",
    "            tree.tried_moves.add(move)\n",
    "            child_maze = tree.maze.clone()\n",
    "\n",
    "            if move is \"switch\":\n",
    "                child_maze.toggle()\n",
    "            else:\n",
    "                child_maze.move_player(move[0], move[1])\n",
    "            \n",
    "            tree_lookback = tree.parent\n",
    "            continue_flag = False\n",
    "            while tree_lookback != None:\n",
    "                if tree_lookback.maze == child_maze:\n",
    "                    continue_flag = True\n",
    "                    break\n",
    "                tree_lookback = tree_lookback.parent\n",
    "                    \n",
    "            if continue_flag: continue\n",
    "\n",
    "            child = Tree()\n",
    "            child.move = move\n",
    "            child.maze = child_maze\n",
    "            child.maze.player_alive = True\n",
    "            tree.append(child)\n",
    "            return child\n",
    "\n",
    "def best_child(tree, cp):\n",
    "    global iterations_mcts\n",
    "\n",
    "    max_reward = -1\n",
    "    best = None\n",
    "    for child in tree.children:\n",
    "        if child.reward != None:\n",
    "            reward = child.reward * 1.0 / child.access_count + cp * \\\n",
    "                     sqrt(2 * log(tree.access_count * 1.0) / child.access_count)\n",
    "            if reward > max_reward:\n",
    "                best = child\n",
    "                max_reward = reward\n",
    "\n",
    "    return best\n",
    "\n",
    "def default_policy(maze, tree):\n",
    "    moves = []\n",
    "    while tree.move is not None:\n",
    "        moves.append(tree.move)\n",
    "        tree = tree.parent\n",
    "    moves.reverse()\n",
    "    \n",
    "    #print(moves)\n",
    "    \n",
    "    #maze.kill_player()\n",
    "    for move in moves:\n",
    "        if move is \"switch\":\n",
    "            maze.toggle()\n",
    "        elif maze.player_alive:\n",
    "            maze.move_player(move[0], move[1])\n",
    "        else:\n",
    "            break\n",
    "        \n",
    "    while not maze.is_at_exit() and maze.player_alive:\n",
    "        move = random.choice(maze.available_moves())\n",
    "        if move is \"switch\":\n",
    "            maze.toggle()\n",
    "        else:\n",
    "            maze.move_player(move[0], move[1])\n",
    "\n",
    "    if maze.is_at_exit():\n",
    "        return 1\n",
    "    else:\n",
    "        return 0\n",
    "\n",
    "\n",
    "def backup(tree, reward):\n",
    "    while tree is not None:\n",
    "        tree.access_count += 1\n",
    "        tree.reward += reward\n",
    "        reward *= 0.99\n",
    "        tree = tree.parent\n",
    "    return\n"
   ]
  },
  {
   "cell_type": "code",
   "execution_count": 14,
   "metadata": {
    "collapsed": false
   },
   "outputs": [
    {
     "data": {
      "image/png": "[encoded data removed]",
      "text/plain": [
       "<matplotlib.figure.Figure at 0x104216b50>"
      ]
     },
     "metadata": {},
     "output_type": "display_data"
    },
    {
     "data": {
      "image/png": "[encoded data removed]",
      "text/plain": [
       "<matplotlib.figure.Figure at 0x1045a2850>"
      ]
     },
     "metadata": {},
     "output_type": "display_data"
    },
    {
     "data": {
      "image/png": "[encoded data removed]",
      "text/plain": [
       "<matplotlib.figure.Figure at 0x103e8a550>"
      ]
     },
     "metadata": {},
     "output_type": "display_data"
    }
   ],
   "source": [
    "def maze5():\n",
    "    return Maze([\n",
    "        \"#######\",\n",
    "        \"#@???X#\",\n",
    "        \"#.....#\",\n",
    "        \"#######\"\n",
    "    ])\n",
    "\n",
    "maze5().draw()\n",
    "\n",
    "def maze6():\n",
    "    return Maze([\n",
    "        \"#######\",\n",
    "        \"#@?!?X#\",\n",
    "        \"#.???.#\",\n",
    "        \"#.....#\",\n",
    "        \"#######\"\n",
    "    ])\n",
    "\n",
    "maze6().draw()\n",
    "\n",
    "def maze7():\n",
    "    return Maze([\n",
    "        \"########\",\n",
    "        \"#@0#?01#\",\n",
    "        \"#A1#C#a#\",\n",
    "        \"#0#.?#!#\",\n",
    "        \"#aBc2#.#\",\n",
    "        \"#B##c.?#\",\n",
    "        \"#.!#bb##\",\n",
    "        \"##1#.?X#\",\n",
    "        \"########\"\n",
    "    ])\n",
    "\n",
    "maze7().draw()"
   ]
  },
  {
   "cell_type": "code",
   "execution_count": null,
   "metadata": {
    "collapsed": false,
    "scrolled": true
   },
   "outputs": [],
   "source": [
    "from __future__ import print_function\n",
    "import sys\n",
    "\n",
    "failed = 0\n",
    "\n",
    "itera = 500\n",
    "progress_bar = FloatProgress(min=0, max=100)\n",
    "display(progress_bar)\n",
    "for i in range(15):\n",
    "    print(\"Testing iteration \" + `itera` + \": \", end=\"\")\n",
    "    failed = 0\n",
    "    for j in range(100):\n",
    "        mz = maze6()\n",
    "        data = mcts(mz, itera)\n",
    "        path = data[0]\n",
    "        if path != [(1, 3), (1, 2), (1, 1), (2, 1), (3, 1), (4, 1), (5, 1), (5, 2)]:\n",
    "            failed += 1\n",
    "        progress_bar.value = j\n",
    "            \n",
    "    print(`(100-failed)` + \"% success\", end=\"\\n\")\n",
    "    sys.stdout.flush()\n",
    "    \n",
    "    itera *= 1.5\n",
    "    itera = int(itera)"
   ]
  },
  {
   "cell_type": "code",
   "execution_count": 21,
   "metadata": {
    "collapsed": false,
    "scrolled": true
   },
   "outputs": [
    {
     "data": {
      "image/png": "[encoded data removed]",
      "text/plain": [
       "<matplotlib.figure.Figure at 0x1050cd5d0>"
      ]
     },
     "metadata": {},
     "output_type": "display_data"
    },
    {
     "name": "stdout",
     "output_type": "stream",
     "text": [
      "[(1, 2), (1, 1), (2, 1), (3, 1), (4, 1), (5, 1)]\n"
     ]
    }
   ],
   "source": [
    "mzx = maze5()\n",
    "data = mcts(mzx, 1000)\n",
    "tree = data[2]\n",
    "mzx.set_path(data[0])\n",
    "mzx.draw()\n",
    "print(data[0])"
   ]
  },
  {
   "cell_type": "code",
   "execution_count": 22,
   "metadata": {
    "collapsed": false
   },
   "outputs": [],
   "source": [
    "from __future__ import print_function\n",
    "f = open('./treedata.txt', 'w+')\n",
    "\n",
    "def debug_tree(tree, loopc):\n",
    "    global f\n",
    "    for i in range(loopc):\n",
    "        print('-', end=\"\", file=f)\n",
    "    \n",
    "    print(`tree.maze.player_pos` + \" \" + `tree.maze.player_alive` + \" \" + `tree.reward` + \" \" + `tree.access_count`, file=f)\n",
    "    for child in tree.children:\n",
    "        debug_tree(child, loopc + 1)\n",
    "\n",
    "debug_tree(tree, 0)\n",
    "\n",
    "f.close()"
   ]
  },
  {
   "cell_type": "code",
   "execution_count": 17,
   "metadata": {
    "collapsed": false
   },
   "outputs": [
    {
     "data": {
      "image/png": "[encoded data removed]",
      "text/plain": [
       "<matplotlib.figure.Figure at 0x1046f4210>"
      ]
     },
     "metadata": {},
     "output_type": "display_data"
    }
   ],
   "source": [
    "mz5 = maze5()\n",
    "mz5.set_path(mcts(mz5, 1000)[0])\n",
    "mz5.draw()"
   ]
  },
  {
   "cell_type": "code",
   "execution_count": 18,
   "metadata": {
    "collapsed": false
   },
   "outputs": [
    {
     "data": {
      "image/png": "[encoded data removed]",
      "text/plain": [
       "<matplotlib.figure.Figure at 0x1046f6350>"
      ]
     },
     "metadata": {},
     "output_type": "display_data"
    }
   ],
   "source": [
    "mz6 = maze6()\n",
    "mz6.set_path(mcts(mz6, 1000)[0])\n",
    "mz6.draw()"
   ]
  },
  {
   "cell_type": "code",
   "execution_count": 24,
   "metadata": {
    "collapsed": false
   },
   "outputs": [
    {
     "data": {
      "image/png": "[encoded data removed]",
      "text/plain": [
       "<matplotlib.figure.Figure at 0x104f04310>"
      ]
     },
     "metadata": {},
     "output_type": "display_data"
    }
   ],
   "source": [
    "mz7 = maze7()\n",
    "mz7.set_path(mcts(mz7, 1000000)[0])\n",
    "mz7.draw()"
   ]
  },
  {
   "cell_type": "markdown",
   "metadata": {},
   "source": [
    "# Assignment 3\n",
    "\n",
    "Do assignment 2 again, but with reinforcement learning! Compare various approaches and parameters (e.g.\\ state-value learning vs action-value learning, different discounting rates, etc) against your MCTS agents in terms of iterations required to reach certain levels of performance. Plot graphs showing how learning improves with more iterations. Print or draw out (at least some of) the state-value or action-value matrix."
   ]
  },
  {
   "cell_type": "code",
   "execution_count": null,
   "metadata": {
    "collapsed": false
   },
   "outputs": [],
   "source": [
    "import random\n",
    "from ipywidgets import FloatProgress\n",
    "from IPython.display import display\n",
    "\n",
    "class QLearn:\n",
    "    \n",
    "    def __init__(self):\n",
    "        self.q = {}\n",
    "        self.epsilon = 0.1\n",
    "        self.alpha = 0.2\n",
    "        self.gamma = 0.9\n",
    "        self.all_actions = ((0,1), (1,0), (0,-1), (-1,0), \"switch\")\n",
    "        \n",
    "    def learn_q(self, state, action, reward, value):\n",
    "        old_value = self.q.get((state, action), None)\n",
    "        if old_value is None:\n",
    "            self.q[(state, action)] = reward\n",
    "        else:\n",
    "            self.q[(state, action)] = old_value + self.alpha * (value - old_value)\n",
    "            \n",
    "    def choose_action(self, maze):\n",
    "        if random.random() < self.epsilon:\n",
    "            action = random.choice(maze.available_moves())\n",
    "        else:\n",
    "            q = [self.q.get((maze, act), 0.0) for act in maze.available_moves()]\n",
    "            max_q = max(q)\n",
    "            action = random.choice([x for x in maze.available_moves() if self.q.get((maze, x), 0.0) == max_q])\n",
    "            \n",
    "        return action\n",
    "    \n",
    "    def learn(self, old_maze, action, reward, new_maze):\n",
    "        max_q = max([self.q.get((new_maze, act), 0.0) for act in self.all_actions])\n",
    "        self.learn_q(old_maze, action, reward, reward + self.gamma * max_q)\n",
    "\n",
    "class MazeLearn:\n",
    "    \n",
    "    def __init__(self, maze):\n",
    "        self.maze = maze.clone()\n",
    "        self.original_maze = maze\n",
    "        \n",
    "        self.q_learn = QLearn()\n",
    "        \n",
    "        self.last_maze = None\n",
    "        self.last_action = None\n",
    "        \n",
    "    def reset_maze(self):\n",
    "        self.maze = self.original_maze.clone()\n",
    "    \n",
    "    def update(self):\n",
    "        reward = -1\n",
    "        \n",
    "        if not self.maze.player_alive or self.maze.is_at_exit():\n",
    "            if not self.maze.player_alive:\n",
    "                self.maze.player_alive = True\n",
    "                reward = -100\n",
    "            else:\n",
    "                reward = 100\n",
    "                \n",
    "            if self.last_maze is not None:\n",
    "                self.q_learn.learn(self.last_maze, self.last_action, reward, self.maze)\n",
    "            self.last_maze = None\n",
    "            self.reset_maze()\n",
    "        else:\n",
    "            if self.last_maze is not None:\n",
    "                self.q_learn.learn(self.last_maze, self.last_action, reward, self.maze)\n",
    "            move = self.q_learn.choose_action(self.maze)\n",
    "            self.last_maze = self.maze.clone()\n",
    "            self.last_action = move\n",
    "            \n",
    "            if move is \"switch\":\n",
    "                self.maze.toggle()\n",
    "            else:\n",
    "                self.maze.move_player(move[0], move[1])\n",
    "            \n",
    "# TODO: Lower epsilon.\n",
    "            \n",
    "def rl(maze,iterations):\n",
    "    # Return the best path (most likely to lead to success) along with its expected value and a validated value\n",
    "    # for a budget of `iterations` experiments.\n",
    "    # As above, don't look at maze.exit_pos or maze.grid:\n",
    "    # you're only allowed to query `maze.available_moves()`, `maze.player_alive`, and `maze.is_at_exit`.\n",
    "\n",
    "    # After training for `iterations` experiments, run an agent through the maze using that learned policy \n",
    "    # for a large number of times and return the average reward:\n",
    "    # (best_path, expected_reward, test_reward)\n",
    "    \n",
    "    learner = MazeLearn(maze)\n",
    "    \n",
    "    percentage_loader = -1\n",
    "\n",
    "    progress_bar = FloatProgress(min=0, max=100)\n",
    "    display(progress_bar)\n",
    "\n",
    "    for i in range(iterations):\n",
    "        if int(i * 100.0 / iterations) != percentage_loader:\n",
    "            percentage_loader = int(i * 100 / iterations)\n",
    "            progress_bar.value = percentage_loader\n",
    "\n",
    "        learner.update()\n",
    "    \n",
    "    for q,v in learner.q_learn.q.iteritems():\n",
    "        print(`q[0].player_pos` + \" \" + `q[1]` + \" \" + `v`)\n",
    "    \n",
    "    path = []\n",
    "    while not maze.is_at_exit():\n",
    "        keys = [(maze, move) for move in maze.available_moves()]\n",
    "        values = [learner.q_learn.q.get(key, -1.0) for key in keys]\n",
    "        best_value = max(values)\n",
    "        \n",
    "        if best_value == -1.0:\n",
    "            path = ['']\n",
    "            print \"Warning: no solution found\"\n",
    "            break\n",
    "        \n",
    "        best_value_key = values.index(best_value)\n",
    "        move = keys[best_value_key][1]\n",
    "        \n",
    "        print(`maze.player_pos` + \" \" + `move`)\n",
    "        \n",
    "        if move is \"switch\":\n",
    "            maze.toggle()\n",
    "        else:\n",
    "            path.append(maze.player_pos)\n",
    "            maze.move_player(move[0], move[1])\n",
    "            maze.player_alive = True\n",
    "\n",
    "    path.pop(0)\n",
    "    return (path,0,0)\n",
    "\n",
    "mz6 = maze7()\n",
    "mz6.set_path(rl(mz6, 1000000)[0])\n",
    "mz6.draw()"
   ]
  },
  {
   "cell_type": "code",
   "execution_count": null,
   "metadata": {
    "collapsed": true
   },
   "outputs": [],
   "source": []
  }
 ],
 "metadata": {
  "kernelspec": {
   "display_name": "Python 2",
   "language": "python",
   "name": "python2"
  },
  "language_info": {
   "codemirror_mode": {
    "name": "ipython",
    "version": 2
   },
   "file_extension": ".py",
   "mimetype": "text/x-python",
   "name": "python",
   "nbconvert_exporter": "python",
   "pygments_lexer": "ipython2",
   "version": "2.7.12"
  },
  "widgets": {
   "state": {
    "8d475a7bc88b454691b8cc7e1bb80885": {
     "views": []
    },
    "d7374d6011e8425a9e7d081619b5ab0d": {
     "views": []
    },
    "f179d7c8057f43019562f30aaa769c48": {
     "views": []
    },
    "fb30e54166ec4adda5f4abd33694d378": {
     "views": [
      {
       "cell_index": 24
      }
     ]
    }
   },
   "version": "1.1.2"
  }
 },
 "nbformat": 4,
 "nbformat_minor": 0
}
