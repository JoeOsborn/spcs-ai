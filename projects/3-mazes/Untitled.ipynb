{
 "cells": [
  {
   "cell_type": "code",
   "execution_count": null,
   "metadata": {
    "collapsed": true
   },
   "outputs": [],
   "source": [
    "# Represents a node on a Tree\n",
    "class TreeNode:\n",
    "    # Value is an arbitrary value, which in a MCTS could represent the visit count (along with other information, we could even pass in an encapsulated class for value)\n",
    "    # Value could even encapsulate the state of a maze\n",
    "    def __init__(self, val):\n",
    "        self.value = val\n",
    "        self.children = []\n",
    "        self.parent = None\n",
    "        \n",
    "    # Appends a child to this node, and sets child's parent information\n",
    "    def add_child(self, child):\n",
    "        self.children.append(child)\n",
    "        child.parent = self\n",
    "        "
   ]
  }
 ],
 "metadata": {
  "kernelspec": {
   "display_name": "Python 3",
   "language": "python",
   "name": "python3"
  },
  "language_info": {
   "codemirror_mode": {
    "name": "ipython",
    "version": 3
   },
   "file_extension": ".py",
   "mimetype": "text/x-python",
   "name": "python",
   "nbconvert_exporter": "python",
   "pygments_lexer": "ipython3",
   "version": "3.5.2"
  }
 },
 "nbformat": 4,
 "nbformat_minor": 0
}
