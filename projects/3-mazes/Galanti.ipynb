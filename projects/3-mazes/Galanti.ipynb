{
 "cells": [
  {
   "cell_type": "markdown",
   "metadata": {},
   "source": [
    "First, we load up some useful libraries for visualization and data structures."
   ]
  },
  {
   "cell_type": "code",
   "execution_count": 1,
   "metadata": {
    "collapsed": false
   },
   "outputs": [],
   "source": [
    "%matplotlib inline\n",
    "\n",
    "import matplotlib\n",
    "import numpy as np\n",
    "import matplotlib.pyplot as plt\n",
    "import matplotlib.patches as patches\n",
    "import matplotlib.axes as axes\n",
    "import copy\n",
    "import random\n",
    "#from heapq import heappush, heappop\n",
    "try:\n",
    "    import Queue as Q  # ver. < 3.0\n",
    "except ImportError:\n",
    "    import queue as Q\n",
    "import numpy\n",
    "import functools"
   ]
  },
  {
   "cell_type": "markdown",
   "metadata": {},
   "source": [
    "Next we need a Maze class for pathfinding. It will help to have read the RedBlobGames [A\\* tutorial](http://www.redblobgames.com/pathfinding/a-star/introduction.html) before continuing.\n",
    "\n",
    "These Mazes are defined in ASCII diagrams and can have walls (\"#\"), empty spaces (\".\"), switches (numbers), and doors (letters; closed are uppercase). The \"0\" switch toggles the open status of all the \"a\" doors, \"1\" goes to the \"b\" doors, etc. Mazes can also contain pits: \"?\" pits have a 30% chance of killing the player and \"!\" pits have a 60% chance. Every maze has one player start location \"@\" and one goal square \"X\". Walls and closed doors block movement."
   ]
  },
  {
   "cell_type": "code",
   "execution_count": 2,
   "metadata": {
    "collapsed": false
   },
   "outputs": [
    {
     "data": {
      "image/png": "[encoded data removed]",
      "text/plain": [
       "<matplotlib.figure.Figure at 0x10a70e0b8>"
      ]
     },
     "metadata": {},
     "output_type": "display_data"
    }
   ],
   "source": [
    "@functools.total_ordering\n",
    "class Maze:\n",
    "    SwitchMap = {\"0\":\"a\", \"1\":\"b\", \"2\":\"c\", \"3\":\"d\", \"4\":\"e\", \"5\":\"f\", \"6\":\"g\", \"7\":\"h\", \"8\":\"i\", \"9\":\"j\"}\n",
    "    Colors = {\"a\":\"coral\",\"b\":\"tan\",\"c\":\"palegreen\",\"d\":\"blue\",\"e\":\"cyan\",\"f\":\"magenta\",\"g\":\"yellow\",\"h\":\"olive\",\"i\":\"purple\",\"j\":\"darkgreen\",\n",
    "              \"0\":\"coral\",\"1\":\"tan\",\"2\":\"palegreen\",\"3\":\"blue\",\"4\":\"cyan\",\"5\":\"magenta\",\"6\":\"yellow\",\"7\":\"olive\",\"8\":\"purple\",\"9\":\"darkgreen\",\n",
    "             \"?\":\"orange\",\n",
    "             \"!\":\"red\",\n",
    "             \"x\":\"green\",\"@\":\"gray\",\n",
    "             \"#\":\"sienna\",\".\":\"white\",\n",
    "             \"g\":\"blue\"}\n",
    "    \n",
    "    def __init__(self,rows):\n",
    "        self.grid = [list(r) for r in rows]\n",
    "        self.grid.reverse()\n",
    "        height = len(self.grid)\n",
    "        width = len(self.grid[0])\n",
    "        self.exit_pos = None\n",
    "        self.player_pos = None\n",
    "        self.player_alive = True\n",
    "        self.path = [] \n",
    "        self.cost = 0\n",
    "        #self.grid[2][2] = \"g\"\n",
    "        for y in range(0,height):\n",
    "            assert len(self.grid[y]) == width, \"All rows must be equal length!\"\n",
    "            for x in range(0,width):\n",
    "                c = self.grid[y][x]\n",
    "                assert c == \"#\" or c == \".\" or c == \"!\" or c == \"?\" or c == \"@\" or c.isalnum()\n",
    "                if c.lower() == \"x\":\n",
    "                    assert self.exit_pos == None\n",
    "                    self.exit_pos = (x,y)\n",
    "                if c == \"@\":\n",
    "                    assert self.player_pos == None\n",
    "                    self.player_pos = (x,y)\n",
    "                    self.grid[y][x] = \".\"\n",
    "    \n",
    "    def clone(self):\n",
    "        return copy.deepcopy(self)\n",
    "    \n",
    "    def toggle_cell(self,switchnum,c):\n",
    "        if c.isalpha() and Maze.SwitchMap[switchnum] == c.lower():\n",
    "            if c.islower():\n",
    "                return c.upper()\n",
    "            else:\n",
    "                return c.lower()\n",
    "        return c\n",
    "    \n",
    "    def toggle(self):\n",
    "        assert self.player_alive\n",
    "        height = len(self.grid)\n",
    "        width = len(self.grid[0])\n",
    "        (px,py) = self.player_pos\n",
    "        switchnum = self.grid[py][px]\n",
    "        assert switchnum.isnumeric()\n",
    "        for y in range(0,height):\n",
    "            for x in range(0,width):\n",
    "                self.grid[y][x] = self.toggle_cell(switchnum,self.grid[y][x])\n",
    "    \n",
    "    def is_free(self,x,y):\n",
    "        if self.grid[y][x] == 'X':\n",
    "            return True\n",
    "        if y < 0 or y >= len(self.grid):\n",
    "            return False\n",
    "        if x < 0 or x >= len(self.grid[0]):\n",
    "            return False\n",
    "        cell = self.grid[y][x]\n",
    "        return (\n",
    "            cell == \".\" or\n",
    "            cell == \"?\" or cell == \"!\" or \n",
    "            (cell.isalpha() and cell.islower()) or cell.isnumeric()\n",
    "        )\n",
    "    \n",
    "    def move_player(self,dx,dy):\n",
    "        assert self.player_alive\n",
    "        assert type(dx) == int\n",
    "        assert abs(dx)+abs(dy) == 1\n",
    "        (x,y) = self.player_pos\n",
    "        (newx,newy) = (x+dx,y+dy)\n",
    "        #assert self.is_free(newx,newy)\n",
    "        if not self.is_free(newx, newy):\n",
    "            return False\n",
    "        self.player_pos = (x+dx,y+dy)\n",
    "        cell = self.grid[y+dy][x+dx]\n",
    "        if cell == \"?\" and random.random() < 0.3:\n",
    "            self.player_alive = False\n",
    "        if cell == \"!\" and random.random() < 0.6:\n",
    "            self.player_alive = False\n",
    "    \n",
    "    def available_moves(self):\n",
    "        if not self.player_alive:\n",
    "            return []\n",
    "        (x,y) = self.player_pos\n",
    "        can_switch = self.grid[y][x].isnumeric()\n",
    "        return [(dx,dy) for (dx,dy) in [(-1,0),(1,0),(0,-1),(0,1)] if self.is_free(x+dx,y+dy)] + (\n",
    "            [\"switch\"] if can_switch else []\n",
    "        )\n",
    "    \n",
    "    \n",
    "    \n",
    "    def available_moves_from_point(self, point):\n",
    "        if not self.player_alive:\n",
    "            return []\n",
    "        (x,y) = point\n",
    "        #can_switch = self.grid[y][x].isnumeric()\n",
    "        #return [(dx,dy) for (dx,dy) in [(-1,0),(1,0),(0,-1),(0,1)] if self.is_free(x+dx,y+dy)] #+ (\n",
    "        valid_set = [(-1,0),(1,0),(0,-1),(0,1)]\n",
    "        ret_val = []\n",
    "        for (dx,dy) in valid_set:\n",
    "            if self.is_free(x+dx, y+dy):\n",
    "                ret_val.append((dx,dy))\n",
    "        return ret_val\n",
    "        #    [\"switch\"] if can_switch else []\n",
    "        #)\n",
    "  \n",
    "    def __hash__(self):\n",
    "        return hash(str(self.grid)) % 1000007 + hash(self.player_pos) % 1000007 + hash(self.player_alive) % 1000007\n",
    "    \n",
    "    def _is_valid_operand(self, other):\n",
    "        return (hasattr(other, \"grid\") and hasattr(other, \"player_pos\") and hasattr(other, \"player_alive\"))\n",
    "    \n",
    "    def __eq__(self, other):\n",
    "        if not self._is_valid_operand(other):\n",
    "            return NotImplemented\n",
    "        return ((self.grid, self.player_pos, self.player_alive) ==\n",
    "                (other.grid, other.player_pos, other.player_alive))\n",
    "    \n",
    "    def __lt__(self, other):\n",
    "        if not self._is_valid_operand(other):\n",
    "            return NotImplemented\n",
    "        return ((self.grid, self.player_pos, self.player_alive) <\n",
    "                (other.grid, other.player_pos, other.player_alive))\n",
    "    def draw_path(self, path):\n",
    "        for (x, y) in path:\n",
    "            self.grid[y][x] = \"g\"\n",
    "            \n",
    "   # def __lt__(self, other):\n",
    "   #     if self==other: return False\n",
    "   #     return id(self) < id(other)\n",
    "        \n",
    "    def is_at_exit(self):\n",
    "        return self.player_alive and self.player_pos == self.exit_pos\n",
    "\n",
    "\n",
    "    def draw(self):\n",
    "        fig1 = plt.figure()\n",
    "        ax1 = fig1.add_subplot(1,1,1, aspect='equal')\n",
    "        ax1.set_axis_bgcolor('sienna')\n",
    "        height = len(self.grid)\n",
    "        width = len(self.grid[0])\n",
    "        ax1.set_xlim([0,width])\n",
    "        ax1.set_ylim([0,height])\n",
    "        for y in range(0,height):\n",
    "            for x in range(0,width):\n",
    "                cell = self.grid[y][x]\n",
    "                if cell == \"#\": continue\n",
    "                is_door = cell.isalpha() and cell.lower() != \"x\"\n",
    "                is_pit = cell == \"?\" or cell == \"!\"\n",
    "                is_open = is_door and cell.islower()\n",
    "                is_switch = cell.isnumeric()\n",
    "                ax1.add_patch(\n",
    "                    patches.Rectangle((x, y),\n",
    "                                      1,1,\n",
    "                                      fill=True,\n",
    "                                      facecolor=Maze.Colors[cell.lower()],\n",
    "                                      edgecolor=\"black\",\n",
    "                                      hatch=\"/\" if is_switch else (\"-\" if (is_door and not is_open) else None),\n",
    "                                      label=cell)\n",
    "                )\n",
    "        ax1.add_patch(\n",
    "            patches.Rectangle(self.player_pos,\n",
    "                              1,1,\n",
    "                              fill=True,\n",
    "                              hatch=\"x\" if not self.player_alive else None,\n",
    "                              facecolor=Maze.Colors[\"@\"] if self.player_alive else \"black\",\n",
    "                              edgecolor=Maze.Colors[\"@\"] if self.player_alive else \"white\")\n",
    "        )\n",
    "        plt.show(fig1)\n",
    "\n",
    "sample=Maze([\n",
    "        \"##X#\",\n",
    "        \"#.A#\",\n",
    "        \"#0?#\",\n",
    "        \"a@##\"\n",
    "    ])\n",
    "\n",
    "#print(sample.player_pos)\n",
    "#sample.move_player(0,1)\n",
    "#print(sample.available_moves())\n",
    "#sample.toggle()\n",
    "\n",
    "sample.draw()"
   ]
  },
  {
   "cell_type": "markdown",
   "metadata": {},
   "source": [
    "# Assignment 1\n",
    "\n",
    "Write a function to solve pathfinding and switch-and-door puzzles with one of the heuristic search algorithms described during the lecture. Try it on the provided sample puzzles; if a puzzle gives your algorithm trouble, try to explain why that happens. Make sure the path you're getting is the actual shortest path!\n",
    "\n",
    "Try to get this assignment done by Friday; the other two may take a little longer but the sooner you attempt them the earlier you can get feedback!\n",
    "\n",
    "You may also try visualizing paths through the maze, implementing several different heuristic searches, comparing against aheuristic search, etc.\n",
    "\n",
    "Generating mazes automatically would also be a great exercise!"
   ]
  },
  {
   "cell_type": "code",
   "execution_count": 3,
   "metadata": {
    "collapsed": false
   },
   "outputs": [],
   "source": [
    "def manhattan_distance(point_a, point_b):\n",
    "    (x0,y0) = point_a\n",
    "    (x1,y1) = point_b\n",
    "    return abs(y1-y0) + abs(x1-x0)    \n",
    "\n",
    "def element_wise_tuple_addition(x, y):\n",
    "    z = []\n",
    "    for i in range(len(x)):\n",
    "        z.append(x[i] + y[i])\n",
    "    return tuple(z)\n",
    "\n",
    "\n",
    "def heuristic(maze):\n",
    "    frontier = Q.PriorityQueue()\n",
    "    \n",
    "    frontier.put((0, maze))\n",
    "    #came_from = {}\n",
    "    #cost_so_far = {}\n",
    "    \n",
    "    #came_from[start] = None\n",
    "    #cost_so_far[start] = 0\n",
    "    visited = set([maze])\n",
    "    \n",
    "    while not frontier.empty():\n",
    "        (priority, current) = frontier.get() # Maze\n",
    "        \n",
    "        #print(current)\n",
    "        \n",
    "        #print(current.available_moves())\n",
    "        if current.is_at_exit():\n",
    "            print(\"Returning path because at \" + str(current.player_pos) + \" while goal is \" + str(current.exit_pos))\n",
    "            current.path.pop()\n",
    "            return current.path\n",
    "\n",
    "        for move in current.available_moves():\n",
    "            #print(\"Checking move \" + str(move))\n",
    "            \n",
    "            successor = current.clone()\n",
    "            \n",
    "            if move == \"switch\":\n",
    "                #print(\"Switching at \" + str(successor.player_pos))\n",
    "                successor.toggle()\n",
    "                \n",
    "         \n",
    "                \n",
    "                #print(\"Successfully toggled\")\n",
    "            else:\n",
    "                (x,y) = move\n",
    "                successor.move_player(x,y)\n",
    "            \n",
    "            #if not current in cost_so_far:\n",
    "                #print(\"Not found, defaulting to 1\")\n",
    "                #cost_so_far[current] = 1\n",
    "            \n",
    "            #new_cost = cost_so_far[current] + 1\n",
    "            new_cost = current.cost + 1\n",
    "            \n",
    "            if not successor in visited or new_cost < current.cost:\n",
    "                #cost_so_far[current] = new_cost\n",
    "                priority = new_cost + manhattan_distance(successor.player_pos, successor.exit_pos)\n",
    "                \n",
    "                successor.cost += 1\n",
    "                successor.path.append(successor.player_pos)\n",
    "                \n",
    "                frontier.put((priority, successor))\n",
    "                visited.add(successor)\n",
    "                #came_from[current] = successor\n",
    "\n",
    "        \n",
    "    return []\n",
    "\n"
   ]
  },
  {
   "cell_type": "code",
   "execution_count": 4,
   "metadata": {
    "collapsed": false
   },
   "outputs": [
    {
     "data": {
      "image/png": "[encoded data removed]",
      "text/plain": [
       "<matplotlib.figure.Figure at 0x10a73c5c0>"
      ]
     },
     "metadata": {},
     "output_type": "display_data"
    }
   ],
   "source": [
    "def maze1():\n",
    "    return Maze([\n",
    "        \"########\",\n",
    "        \"#X.#...#\",\n",
    "        \"#.##.#.#\",\n",
    "        \"#.#..#.#\",\n",
    "        \"#....#.#\",\n",
    "        \"#.##...#\",\n",
    "        \"#..#..##\",\n",
    "        \"##.#..@#\",\n",
    "        \"########\"\n",
    "    ])\n",
    "\n",
    "maze1().draw()\n",
    "\n",
    "def maze2():\n",
    "    return Maze([\n",
    "        \"###############\",\n",
    "        \"#X#@.#.#...#..#\",\n",
    "        \"#.##.....#....#\",\n",
    "        \"#.#.#.#..#..#.#\",\n",
    "        \"#...#.#....#..#\",\n",
    "        \"#.#.#.........#\",\n",
    "        \"#.#.##.#..#...#\",\n",
    "        \"#.....#..#..#.#\",\n",
    "        \"#####...#.....#\",\n",
    "        \"########...####\",\n",
    "        \"###############\"\n",
    "    ])\n",
    "\n",
    "#maze2().draw()\n",
    "\n",
    "def mazeUnsolvable1():\n",
    "    return Maze([\n",
    "        \"###############\",\n",
    "        \"#X#@.#.#...#..#\",\n",
    "        \"#.##.....#....#\",\n",
    "        \"#.#.#.#..#..#.#\",\n",
    "        \"#.#.#.#....#..#\",\n",
    "        \"#..##...#.....#\",\n",
    "        \"#.#.##....#...#\",\n",
    "        \"#.#...#..#..#.#\",\n",
    "        \"#####...#.....#\",\n",
    "        \"########...####\",\n",
    "        \"###############\"\n",
    "    ])\n",
    "\n",
    "#mazeUnsolvable1().draw()"
   ]
  },
  {
   "cell_type": "code",
   "execution_count": 5,
   "metadata": {
    "collapsed": false,
    "scrolled": true
   },
   "outputs": [
    {
     "name": "stdout",
     "output_type": "stream",
     "text": [
      "Returning path because at (1, 7) while goal is (1, 7)\n"
     ]
    },
    {
     "data": {
      "image/png": "[encoded data removed]",
      "text/plain": [
       "<matplotlib.figure.Figure at 0x10cd0c550>"
      ]
     },
     "metadata": {},
     "output_type": "display_data"
    },
    {
     "name": "stdout",
     "output_type": "stream",
     "text": [
      "Returning path because at (1, 9) while goal is (1, 9)\n"
     ]
    },
    {
     "data": {
      "image/png": "[encoded data removed]",
      "text/plain": [
       "<matplotlib.figure.Figure at 0x10cdba400>"
      ]
     },
     "metadata": {},
     "output_type": "display_data"
    },
    {
     "data": {
      "image/png": "[encoded data removed]",
      "text/plain": [
       "<matplotlib.figure.Figure at 0x10d1310b8>"
      ]
     },
     "metadata": {},
     "output_type": "display_data"
    }
   ],
   "source": [
    "m1 = maze1()\n",
    "m1.draw_path(heuristic(m1))\n",
    "m1.draw()\n",
    "\n",
    "m2 = maze2()\n",
    "m2.draw_path(heuristic(m2))\n",
    "m2.draw()\n",
    "\n",
    "m3 = mazeUnsolvable1()\n",
    "m3.draw_path(heuristic(m3))\n",
    "m3.draw()"
   ]
  },
  {
   "cell_type": "markdown",
   "metadata": {},
   "source": [
    "You also have to be able to handle switch and door puzzles:"
   ]
  },
  {
   "cell_type": "code",
   "execution_count": 6,
   "metadata": {
    "collapsed": false
   },
   "outputs": [
    {
     "data": {
      "image/png": "[encoded data removed]",
      "text/plain": [
       "<matplotlib.figure.Figure at 0x10a707198>"
      ]
     },
     "metadata": {},
     "output_type": "display_data"
    },
    {
     "data": {
      "image/png": "[encoded data removed]",
      "text/plain": [
       "<matplotlib.figure.Figure at 0x10a707940>"
      ]
     },
     "metadata": {},
     "output_type": "display_data"
    }
   ],
   "source": [
    "def maze3():\n",
    "    return Maze([\n",
    "        \"###############\",\n",
    "        \"#X#@.#.#...#.1#\",\n",
    "        \"#.##.....#....#\",\n",
    "        \"#A#.#.#..#..#.#\",\n",
    "        \"#.a.#C#....#..#\",\n",
    "        \"#.#.#0C.......#\",\n",
    "        \"#.#.##.#..#...#\",\n",
    "        \"#.B...#.2#..#.#\",\n",
    "        \"#####...#.....#\",\n",
    "        \"########...####\",\n",
    "        \"###############\"\n",
    "    ])\n",
    "\n",
    "maze3().draw()\n",
    "\n",
    "def maze4():\n",
    "    return Maze([\n",
    "        \"########\",\n",
    "        \"#@0#.01#\",\n",
    "        \"#A1#C#a#\",\n",
    "        \"#0#..#.#\",\n",
    "        \"#aBc2#.#\",\n",
    "        \"#B##c..#\",\n",
    "        \"#..#bb##\",\n",
    "        \"##1#..X#\",\n",
    "        \"########\"\n",
    "    ])\n",
    "\n",
    "maze4().draw()"
   ]
  },
  {
   "cell_type": "code",
   "execution_count": 7,
   "metadata": {
    "collapsed": false
   },
   "outputs": [
    {
     "name": "stdout",
     "output_type": "stream",
     "text": [
      "Returning path because at (1, 9) while goal is (1, 9)\n"
     ]
    },
    {
     "data": {
      "image/png": "[encoded data removed]",
      "text/plain": [
       "<matplotlib.figure.Figure at 0x10a707048>"
      ]
     },
     "metadata": {},
     "output_type": "display_data"
    },
    {
     "name": "stdout",
     "output_type": "stream",
     "text": [
      "Returning path because at (6, 1) while goal is (6, 1)\n"
     ]
    },
    {
     "data": {
      "image/png": "[encoded data removed]",
      "text/plain": [
       "<matplotlib.figure.Figure at 0x10a7776d8>"
      ]
     },
     "metadata": {},
     "output_type": "display_data"
    }
   ],
   "source": [
    "m4 = maze3()\n",
    "m4.draw_path(heuristic(m4))\n",
    "m4.draw()\n",
    "\n",
    "m5 = maze4()\n",
    "m5.draw_path(heuristic(m5))\n",
    "m5.draw()\n",
    "\n",
    "\n",
    "\n"
   ]
  },
  {
   "cell_type": "markdown",
   "metadata": {},
   "source": [
    "# Assignment 2\n",
    "\n",
    "Once you have this working, write an agent which finds a policy for a \"blind\" puzzle using MCTS. \"Blind\" puzzles are just like the puzzles above, only (a) you don't get to see the whole puzzle or know the goal states in advance, and (b) some nodes are trap doors with a chance of dropping the player into a bottomless pit! Try different policies for deciding between exploit/explore and for doing rollouts and compare them.  Plot graphs on how learning improves with  more rollouts.\n",
    "\n",
    "Of course, it should also be able to solve the earlier maze puzzles!"
   ]
  },
  {
   "cell_type": "code",
   "execution_count": 8,
   "metadata": {
    "collapsed": false
   },
   "outputs": [],
   "source": [
    "def mcts(maze, depth, currNode):\n",
    "    # Return the expected value (a number between 0 for \"player dead\", 1 for \"made it to the end\")\n",
    "    # for a budget of `iterations` rollouts.\n",
    "    # Should also return the best found path (the one most likely to lead to success).\n",
    "    # Here, don't look at maze.exit_pos or maze.grid:\n",
    "    # you're only allowed to query `maze.available_moves()`, `maze.player_alive`, and `maze.is_at_exit`.\n",
    "\n",
    "    # After training for `iterations` rollouts, run an agent through the maze using that learned policy \n",
    "    # for a large number of times and return the average reward:\n",
    "    # (best_path, expected_reward, test_reward)\n",
    "    \n",
    "    #initialize tree\n",
    "#     for i in range(0,iterations):\n",
    "#         n = tree_policy(tree)\n",
    "#         n2 = expand(n)\n",
    "#         #add n2 to tree at n if it's not already\n",
    "#         (reward,steps) = default_policy(n2.maze)\n",
    "#         backpropagate(reward,steps,n2)\n",
    "    \n",
    "    #evaluate policy and return results\n",
    "    \n",
    "\n",
    "    if currNode.depth < depth and maze.player_alive and not maze.is_at_exit():\n",
    "        \n",
    "        for move in maze.available_moves():\n",
    "            \n",
    "            #print(\"Position: {}\".format(maze.player_pos))\n",
    "            temp = maze.clone()\n",
    "            #print(move)\n",
    "            \n",
    "            if move == \"switch\":\n",
    "                #print('switch toggled')\n",
    "                temp.toggle()\n",
    "            else:\n",
    "                temp.move_player(int(move[0]), int(move[1]))\n",
    "            #print(temp.is_at_exit())\n",
    "            #print(\"New Position: {}\".format(temp.player_pos))\n",
    "            childNodeTemp = currNode.add_child(TreeNode(0, currNode.depth + 1, temp))\n",
    "            #print(childNodeTemp.maze.player_pos)\n",
    "            currNode.value += mcts(temp, depth, childNodeTemp)\n",
    "            \n",
    "            \n",
    "        currNode.value /= currNode.getNumOfChildrenNodes()\n",
    "        \n",
    "    else:\n",
    "        if maze.is_at_exit():\n",
    "            \n",
    "            #print(str(maze.player_pos[0]) + str(maze.player_pos[1]))\n",
    "            currNode.value = 1\n",
    "            return 1\n",
    "        else:\n",
    "            return 0\n",
    "       \n",
    "    if currNode.depth > 0:\n",
    "        return currNode.value\n",
    "        \n",
    "    elif currNode.depth == 0:\n",
    "        mostReliablePath = getMostReliablePath(currNode, [])\n",
    "        #shortestPath = getShortestPath(currNode, [])\n",
    "        path = []\n",
    "        for node in mostReliablePath:\n",
    "            path.append(node.maze.player_pos)\n",
    "        return path\n",
    "        \n",
    "\n",
    "    \n",
    "    \n",
    "def getMostReliablePath(node, path):\n",
    "    path.append(node)\n",
    "    \n",
    "    mostReliableChild = TreeNode(0, 0, node.maze)\n",
    "    \n",
    "    for child in node.children:\n",
    "        if child.value >= mostReliableChild.value:\n",
    "            mostReliableChild = child\n",
    "    \n",
    "    if not mostReliableChild.maze.is_at_exit() and not mostReliableChild.numOfChildrenNodes == 0:\n",
    "        getMostReliablePath(mostReliableChild, path)\n",
    "\n",
    "    else:\n",
    "        path.append(mostReliableChild)\n",
    "        \n",
    "    return path\n",
    "    \n",
    "    \n",
    "    \n",
    "class TreeNode:\n",
    "\n",
    "#     value\n",
    "#     maze\n",
    "#     children\n",
    "#     parent\n",
    "#     depth\n",
    "#    numOfChildrenNodes\n",
    "\n",
    "    def __init__(self, val, depth, maze):\n",
    "        self.value = val\n",
    "        self.children = []\n",
    "        self.parent = None\n",
    "        self.maze = maze\n",
    "        self.depth = depth\n",
    "        self.numOfChildrenNodes = 0\n",
    "\n",
    "    def getNumOfChildrenNodes(self):\n",
    "        #if not self.maze.available_moves() == None:\n",
    "            #self.numOfChildrenNodes = len(self.maze.available_moves())\n",
    "            #return self.numOfChildrenNodes\n",
    "        #else:\n",
    "            #return 1\n",
    "        self.numOfChildrenNodes = len(self.children)\n",
    "        return self.numOfChildrenNodes    #modified\n",
    "    \n",
    "\n",
    "    def add_child(self, childNode):\n",
    "        self.children.append(childNode)\n",
    "        childNode.parent = self\n",
    "        return childNode\n",
    "\n",
    "'''\n",
    "def getShortestPath(node, path):\n",
    "    \n",
    "    path.append(node)\n",
    "    \n",
    "    shortestPath = [None] * 100\n",
    "    shortestPathNode = TreeNode(0, 0, node.maze)\n",
    "    \n",
    "    for child in node.children:\n",
    "        temp = getShortestPath(child, path)\n",
    "        if len(temp) < len(shortestPath):\n",
    "            shortestPath = temp\n",
    "            shortestPathNode = child\n",
    "    \n",
    "    if not shortestPathNode.maze.is_at_exit() and shortestPathNode.getNumOfChildrenNodes() != 0:\n",
    "        getShortestPath(shortestPathNode, path)\n",
    "    \n",
    "    else:\n",
    "        path.append(shortestPathNode)\n",
    "    \n",
    "    return path\n",
    "'''"
   ]
  },
  {
   "cell_type": "code",
   "execution_count": 9,
   "metadata": {
    "collapsed": false
   },
   "outputs": [
    {
     "name": "stdout",
     "output_type": "stream",
     "text": [
      "[(1, 2), (1, 1), (2, 1), (3, 1), (4, 1), (5, 1), (5, 2)]\n"
     ]
    },
    {
     "data": {
      "image/png": "[encoded data removed]",
      "text/plain": [
       "<matplotlib.figure.Figure at 0x10a74e6a0>"
      ]
     },
     "metadata": {},
     "output_type": "display_data"
    },
    {
     "name": "stdout",
     "output_type": "stream",
     "text": [
      "[(1, 3), (1, 2), (2, 2), (3, 2), (4, 2), (5, 2), (5, 3)]\n"
     ]
    },
    {
     "data": {
      "image/png": "[encoded data removed]",
      "text/plain": [
       "<matplotlib.figure.Figure at 0x10d1a5b38>"
      ]
     },
     "metadata": {},
     "output_type": "display_data"
    },
    {
     "name": "stdout",
     "output_type": "stream",
     "text": [
      "[(1, 7), (2, 7), (2, 7), (2, 7), (2, 7), (2, 7), (2, 7), (2, 7), (2, 7), (2, 7), (2, 7), (2, 7), (2, 7), (2, 7)]\n"
     ]
    },
    {
     "data": {
      "image/png": "[encoded data removed]",
      "text/plain": [
       "<matplotlib.figure.Figure at 0x119db68d0>"
      ]
     },
     "metadata": {},
     "output_type": "display_data"
    }
   ],
   "source": [
    "def maze5():\n",
    "    return Maze([\n",
    "        \"#######\",\n",
    "        \"#@???x#\",\n",
    "        \"#.....#\",\n",
    "        \"#######\"\n",
    "    ])\n",
    "maze5 = maze5()\n",
    "path = mcts(maze5, 10, TreeNode(0, 0, maze5))\n",
    "print(path)\n",
    "maze5.draw_path(path)\n",
    "maze5.draw()\n",
    "\n",
    "def maze6():\n",
    "    return Maze([\n",
    "        \"#######\",\n",
    "        \"#@?!?X#\",\n",
    "        \"#.???.#\",\n",
    "        \"#.....#\",\n",
    "        \"#######\"\n",
    "    ])\n",
    "\n",
    "maze6 = maze6()\n",
    "path = mcts(maze6, 10, TreeNode(0, 0, maze6))\n",
    "print(path)\n",
    "maze6.draw_path(path)\n",
    "maze6.draw()\n",
    "\n",
    "def maze7():\n",
    "    return Maze([\n",
    "        \"########\",\n",
    "        \"#@0#?01#\",\n",
    "        \"#A1#C#a#\",\n",
    "        \"#0#.?#!#\",\n",
    "        \"#aBc2#.#\",\n",
    "        \"#B##c.?#\",\n",
    "        \"#.!#bb##\",\n",
    "        \"##1#.?X#\",\n",
    "        \"########\"\n",
    "    ])\n",
    "\n",
    "\n",
    "maze7 = maze7()\n",
    "path = mcts(maze7, 13, TreeNode(0, 0, maze7))\n",
    "print(path)\n",
    "maze7.draw_path(path)\n",
    "maze7.draw()\n",
    "\n"
   ]
  },
  {
   "cell_type": "markdown",
   "metadata": {},
   "source": [
    "# Assignment 3\n",
    "\n",
    "Do assignment 2 again, but with reinforcement learning! Compare various approaches and parameters (e.g.\\ different discounting rates, Sarsa vs Q-learning, etc) against your MCTS agents in terms of iterations required to reach certain levels of performance. Plot graphs showing how learning improves with more iterations. Print or draw out (at least some of) the state-value or action-value matrix.\n",
    "\n",
    "Read as much as you care to of Sutton & Barto---[section 2](https://webdocs.cs.ualberta.ca/~sutton/book/ebook/node39.html) is especially useful.\n"
   ]
  },
  {
   "cell_type": "code",
   "execution_count": 10,
   "metadata": {
    "collapsed": false
   },
   "outputs": [
    {
     "name": "stdout",
     "output_type": "stream",
     "text": [
      "{<__main__.Maze object at 0x10d3d87f0>: 'a'}\n"
     ]
    }
   ],
   "source": [
    "a = {maze1() : \"a\"}\n",
    "print(a)"
   ]
  },
  {
   "cell_type": "code",
   "execution_count": 11,
   "metadata": {
    "collapsed": true
   },
   "outputs": [],
   "source": [
    "def rl(maze,iterations):\n",
    "    # Return the best path (most likely to lead to success) along with its expected value and a validated value\n",
    "    # for a budget of `iterations` experiments.\n",
    "    # As above, don't look at maze.exit_pos or maze.grid:\n",
    "    # you're only allowed to query `maze.available_moves()`, `maze.player_alive`, and `maze.is_at_exit`.\n",
    "\n",
    "    # After training for `iterations` experiments, run an agent through the maze using that learned policy \n",
    "    # for a large number of times and return the average reward:\n",
    "    # (best_path, expected_reward, test_reward)\n",
    "\n",
    "    return ([],0,0)"
   ]
  },
  {
   "cell_type": "markdown",
   "metadata": {},
   "source": [
    "# Bonus Assignment\n",
    "\n",
    "Make an adversary for the maze who is trying to eat the player. Try to get the best performing adversary possible!"
   ]
  },
  {
   "cell_type": "code",
   "execution_count": null,
   "metadata": {
    "collapsed": true
   },
   "outputs": [],
   "source": []
  },
  {
   "cell_type": "code",
   "execution_count": null,
   "metadata": {
    "collapsed": true
   },
   "outputs": [],
   "source": []
  }
 ],
 "metadata": {
  "kernelspec": {
   "display_name": "Python [Root]",
   "language": "python",
   "name": "Python [Root]"
  },
  "language_info": {
   "codemirror_mode": {
    "name": "ipython",
    "version": 3
   },
   "file_extension": ".py",
   "mimetype": "text/x-python",
   "name": "python",
   "nbconvert_exporter": "python",
   "pygments_lexer": "ipython3",
   "version": "3.5.2"
  }
 },
 "nbformat": 4,
 "nbformat_minor": 0
}
