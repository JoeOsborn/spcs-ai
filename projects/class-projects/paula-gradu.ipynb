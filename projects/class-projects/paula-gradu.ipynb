{
 "cells": [
  {
   "cell_type": "markdown",
   "metadata": {},
   "source": [
    "DESCRIPTION\n",
    "\n",
    "GOAL: Trying to predicting scoring of student-given short answers\n",
    "\n",
    "MOTIVATION: At least at a basic level, the scoring of short answers is a repetitive task, especially if one groups training data right. Exams such as the TOEFL are best suited for such a task since the answers are clearly predictable, but only humans rank the answers. Combining an automated scoring AI system with speech recognition would have a great impact on speaking scoring tasks in language evaluations exams.\n",
    "\n",
    "DATA: \n",
    "https://www.kaggle.com/c/asap-sas/data\n",
    "\n",
    "References:\n",
    "https://kaggle2.blob.core.windows.net/competitions/kaggle/2959/media/TechnicalMethodsPaper.pdf\n",
    "https://kaggle2.blob.core.windows.net/competitions/kaggle/2959/media/jzbontar.pdf\n",
    "\n",
    "\n",
    "EXTRA GOAL: try to automatically create high-scoring answers"
   ]
  }
 ],
 "metadata": {
  "kernelspec": {
   "display_name": "Python 3",
   "language": "python",
   "name": "python3"
  },
  "language_info": {
   "codemirror_mode": {
    "name": "ipython",
    "version": 3
   },
   "file_extension": ".py",
   "mimetype": "text/x-python",
   "name": "python",
   "nbconvert_exporter": "python",
   "pygments_lexer": "ipython3",
   "version": "3.4.3"
  }
 },
 "nbformat": 4,
 "nbformat_minor": 0
}
