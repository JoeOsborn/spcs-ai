{
 "cells": [
  {
   "cell_type": "code",
   "execution_count": null,
   "metadata": {
    "collapsed": true
   },
   "outputs": [],
   "source": [
    "import matplotlib.pyplot as plt\n",
    "import matplotlib.patches as patches\n",
    "import matplotlib.axes as axes\n",
    "import copy"
   ]
  },
  {
   "cell_type": "code",
   "execution_count": 12,
   "metadata": {
    "collapsed": false
   },
   "outputs": [],
   "source": [
    "class CellularAutomaton:\n",
    "    \n",
    "    Colors = {0:\"gray\", 1:\"cyan\"}\n",
    "    \n",
    "    def __init__(self, dimens):\n",
    "        self.grid = [[0 for x in range(dimens[1])] for y in range(dimens[0])]\n",
    "        self.width = dimens[0]\n",
    "        self.height = dimens[1]\n",
    "        \n",
    "    def __eq__(self, other):\n",
    "        return self.grid == other.grid\n",
    "    \n",
    "    def __neq__(self, other):\n",
    "        return not self == other\n",
    "    \n",
    "    def __hash__(self):\n",
    "        return hash(str(self.grid))%100000\n",
    "    \n",
    "    def __cmp__(self, other):\n",
    "        if self == other:\n",
    "            return 0\n",
    "        return __cmp__(id(self), id(other))\n",
    "    \n",
    "    def __lt__(self, other):\n",
    "        return False\n",
    "    \n",
    "    def clone(self):\n",
    "        return copy.deepcopy(self)\n",
    "    \n",
    "    def draw(self):\n",
    "        fig1 = plt.figure()\n",
    "        ax1 = fig1.add_subplot(1,1,1, aspect='equal')\n",
    "        ax1.set_axis_bgcolor('sienna')\n",
    "        ax1.set_xlim([0,self.width])\n",
    "        ax1.set_ylim([0,self.height])\n",
    "        for x in range(0, self.width):\n",
    "            for y in range(0, self.height):\n",
    "                cell = self.grid[x][y]\n",
    "                ax1.add_patch(\n",
    "                    patches.Rectangle((x, y),\n",
    "                                      1,1,\n",
    "                                      fill=True,\n",
    "                                      facecolor=CellularAutomaton.Colors[cell],\n",
    "                                      edgecolor=\"black\",\n",
    "                                      hatch= None,\n",
    "                                      label=cell)\n",
    "                    )\n",
    "        plt.show(fig1)\n",
    "                \n",
    "\n",
    "example = CellularAutomaton((30,30))\n",
    "example.grid[2][2] = 1\n",
    "example.draw()"
   ]
  },
  {
   "cell_type": "code",
   "execution_count": null,
   "metadata": {
    "collapsed": true
   },
   "outputs": [],
   "source": [
    "class GameOfLife(CellularAutomaton):\n",
    "    \n",
    "    def __init__(self, dimens):\n",
    "        CellularAutomaton.__init__(self, dimens)\n",
    "        self.turns = 0\n",
    "            \n",
    "    def num_neighbors(self, pos):\n",
    "        neighbors = 0\n",
    "        for i in range(-1,2):\n",
    "            for j in range(-1,2):\n",
    "                x = pos[0] + i\n",
    "                y = pos[1] + j\n",
    "                if (i is not 0 or j is not 0) and x >= 0 and y >= 0 and x < self.width and y < self.height:\n",
    "                    if self.grid[x][y] is not 0:\n",
    "                        neighbors += 1\n",
    "        return neighbors\n",
    "    \n",
    "    def become_alive(self, pos):\n",
    "        neighbors = num_neighbors()\n",
    "        if neighbors == 3:\n",
    "            self.grid[pos[0]][pos[1]] = 1\n",
    "    \n",
    "    def check_alive(self, pos):\n",
    "        neighbors = num_neighbors()\n",
    "        if neighbors < 2 or neighbors > 3:\n",
    "            self.grid[pos[0]][pos[1]] = 0\n",
    "    \n",
    "    def play(self):\n",
    "        for x in len(self.grid):\n",
    "            for y in len(self.grid[0]):\n",
    "                cell = self.grid[x][y]\n",
    "                if cell == 0:\n",
    "                    become_alive((x,y))\n",
    "                elif cell == 1:\n",
    "                    check_alive((x,y))"
   ]
  }
 ],
 "metadata": {
  "anaconda-cloud": {},
  "kernelspec": {
   "display_name": "Python [Root]",
   "language": "python",
   "name": "Python [Root]"
  },
  "language_info": {
   "codemirror_mode": {
    "name": "ipython",
    "version": 3
   },
   "file_extension": ".py",
   "mimetype": "text/x-python",
   "name": "python",
   "nbconvert_exporter": "python",
   "pygments_lexer": "ipython3",
   "version": "3.5.2"
  }
 },
 "nbformat": 4,
 "nbformat_minor": 0
}
